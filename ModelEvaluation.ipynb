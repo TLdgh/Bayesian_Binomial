{
 "cells": [
  {
   "attachments": {},
   "cell_type": "markdown",
   "metadata": {},
   "source": [
    "## Model Success Probability Measure\n",
    "\n",
    "The most intuitive question one can address is on the success rate of the model in generating the correct answer to the prompt. We are able to measure this probability by comparing the output with the truth data. We draw random samples of articles with their truth data from kaggle and run the LLM on each article independently. We then use various distance measures to qunatify the similarity between the output and the truth data. We finally put a threshold level to the results such that if the measurement outcome deviates from this threshold, then we consider the model failed at generating correct outputs. Therefore it is important to know what the threshold should be. The most restrictive threshold will be zero, showing that there is no difference between the outcome and the truth. This is reasonable for research question 1 and 2, however not a good approach for research question 3 because the summary output from the model will most likely have some difference compared to the original abstract of the article. For research question 3, one can choose an reasonable threshold for analysis, but the best approach should be based on the interpretation of a human after having read the summary output from the model and compared it with the abstract.\n",
    "\n",
    "Once the appropriate measurement strategy is determined, one can conclude whether the model has successfully generated the correct answer to the prompt or not. The result forms a random sample of Bernoulli trials. Suppose $X_1,...,X_n$ are the random sample of the experimental result for a large language model. The Bernoulli random variables have a support on $\\{0, 1\\}$, with $X_i=1$ if the model generates a correct answer to the prompt with probability $p$, otherwise $X_i=0$ with probability $1-p$. The success rate $p$ is the parameter of the Bernoulli distribution. Our goal is therefore to estimate this success probabilty and compare it between different models.\n",
    "\n",
    "\n",
    "We can have various hypothesis tests on the success probability $p$. One may consider a right-tailed hypothesis:\n",
    "\n",
    "$$\n",
    "H_0: ~ p \\leq p_0 \\\\\n",
    "H_1: ~ p> p_0\n",
    "$$\n",
    "\n",
    "such that we would like to know if the success probability is greater than certain value $p_0$. One may also consider a two-sample hypothesis test:\n",
    "$$\n",
    "H_0: ~ p_1 \\leq p_2 \\\\\n",
    "H_1: ~ p_1 > p_2\n",
    "$$\n",
    "\n",
    "such that we would like to know if the success probability of model 1 $p_1$ is greater than the one of model 2 $p_2$. Note that since $p$ is a real number between 0 and 1, it is not informative to havae a two-sided test $H_0: ~ p=0$ VS $H_a: p \\neq 0$, so we omit such test.\n",
    "\n",
    "A general test statistic one can find in most of Statistics textbooks is the normal approximation to the binomial distribution. We can use the likelihood ratio to derive the test statistic for our composite hypothesis:\n",
    "$$\n",
    "\\Lambda(\\vec{x})=\\frac{\\sup_{p \\leq p_0} p_0^{\\sum_{i=1}^{n} x_i} (1-p_0)^{n-\\sum_{i=1}^{n} x_i} }{\\sup_{p \\in \\Theta}  p^{\\sum_{i=1}^{n} x_i} (1-p)^{n-\\sum_{i=1}^{n} x_i}}\n",
    "$$\n",
    "\n",
    "The maximum likelihood estimator (MLE) of $p$ is $\\hat{p}=\\frac{1}{n}\\sum_{i=1}^{n} x_i$, so $\\sum_{i=1}^{n} x_i = n\\hat{p}$. The LRT statistic becomes:\n",
    "$$\n",
    "\\Lambda(\\vec{x})=\n",
    "\\begin{cases}\n",
    "1 & p_0 \\geq \\frac{y}{n}\\\\\n",
    "\\frac{(p_0)^{n\\hat{p}} \\cdot (1-p_0)^{n(1-\\hat{p})} }{(\\hat{p})^{n\\hat{p}} \\cdot (1-\\hat{p})^{n(1-\\hat{p})}} & p_0 < \\frac{y}{n}\n",
    "\\end{cases}\n",
    "$$\n",
    "\n",
    "Let $g(\\vec{x}):=-\\ln{\\Lambda(\\vec{x})} = n\\hat{p}(\\ln{\\hat{p}}-\\ln{p_0})+n(1-\\hat{p})(\\ln{(1-\\hat{p})} - \\ln{(1-p_0)})$.\n",
    "\n",
    "By Taylor's expansion, $\\ln{(1-\\hat{p})} - \\ln{(1-p_0)} \\approx - \\frac{\\hat{p}-p_0}{1-p_0}$, $\\ln{\\hat{p}} - \\ln{p_0} \\approx \\frac{\\hat{p}-p_0}{p_0}$. Therefore,\n",
    "$$\n",
    "g(\\vec{x}) = n(\\hat{p}-p_0)\\left( \\frac{\\hat{p}-p_0}{p_0(1-p_0)} \\right) = \\frac{(\\hat{p}-p_0)^2}{p_0(1-p_0)/n}.\n",
    "$$\n",
    "\n",
    "By Central Limit Theorem, $T(\\vec{x}):=\\frac{\\hat{p}-p_0}{\\sqrt{p_0(1-p_0)/n}}$ is Normal(0,1) distributed. Thus we have that\n",
    "$$\n",
    "\\Lambda(\\vec{x}) < \\lambda_0 \\equiv T(\\vec{x}) > \\lambda_0\n",
    "$$\n",
    "\n",
    "Our hypothesis test is\n",
    "$$\n",
    "\\phi(\\vec{x}) = \n",
    "\\begin{cases}\n",
    "1, \\quad T(\\vec{x}) > \\lambda_0\\\\\n",
    "0, \\quad T(\\vec{x}) \\leq \\lambda_0\n",
    "\\end{cases}\n",
    "$$\n",
    "\n",
    "Using the pivotal quantity $Q(\\vec{x}, p):=\\frac{\\hat{p}-p}{\\sqrt{p(1-p)/n}}$ we can get the ($1-\\alpha$)-level confidence interval for the success rate as $[L(\\vec{X}), R(\\vec{X})]$ such that:\n",
    "$$\n",
    "\\mathbb{P}(p \\in [L(\\vec{X}), R(\\vec{X})])\\geq 1-\\alpha\n",
    "$$\n",
    "\n",
    "The interpretation of the confidence interval is important. In a frequentist point of view, our unknown parameter $p$ is a true but fixed value. The confidence interval on the other hand is a random set, thus it is incorrect to state that we are 99% sure that the confidence interval covers the unknown true paramter. It is also incorrect to say that the unknown parameter falls within the confidence interval 99% of the time, because in this statement the unknown parameter is falsely treated as a random variable. Therefore the appropriate interpretation of the confidence interval is: when the experiment is repeated many times to generate random samples and their perspective confidence intervals, 99% of these confidence intervals will cover the unknown fixed parameter.\n",
    "\n",
    "Alternatively, we can use the Bayesian approach to gain a different understanding of our unknown parameter and to draw inference on it. Assuming we have a prior knowledge of this success rate, say 80%, before observing the data. The Baysian approach allows us to \"correct\" our degree of beliefs based on the actual observation. In particular, the Bayes' Theorem says that \n",
    "$$\n",
    "P(A|B) = \\frac{P(A) \\cdot P(B|A)}{P(B)}\n",
    "$$\n",
    "where $P(A)$ is the prior probability reflecting our prior belief and $P(A|B)$ is the posterior probability after having observed the event B. Such analysis allows us to make an inference on the success rate in a very different point of view, which we will explain later.\n",
    "\n",
    "Suppose we assume $Beta(\\alpha, \\beta)$ is the prior distribution of the success rate p. The prior density function is:\n",
    "$$\n",
    "f(p; \\alpha,\\beta) = \\frac{\\Gamma(\\alpha+\\beta)}{\\Gamma(\\alpha)\\Gamma(\\beta)} p^{\\alpha-1} (1-p)^{\\beta-1}, ~ p\\in (0,1)\n",
    "$$\n",
    "We know the expectation and the variance of Beta distribution as:\n",
    "$$\n",
    "\\begin{gather*}\n",
    "E(p)= \\frac{\\alpha}{\\alpha+\\beta}\\\\\n",
    "Var(p)= \\frac{\\alpha \\beta}{(\\alpha+\\beta)^2(\\alpha+\\beta+1)}\n",
    "\\end{gather*}\n",
    "$$\n",
    "Thus if we assume that the average success rate is $t_1$ with a variance of $t_2$, then we can solve for the parameters of the prior distribution as \n",
    "$$\n",
    "\\alpha = - \\frac{t_1}{t_2}\\cdot (t_1^2-t_1+t_2), \\quad \\beta=\\alpha \\cdot \\frac{1-t_1}{t_1}.\n",
    "$$ \n",
    "\n",
    "Since the random sample $X_1,...,X_n$ follows Bernoulli(p) distribution, we have a conjugate pair of the prior and posterior distributions:\n",
    "$$\n",
    "\\begin{align*}\n",
    "f(p|\\vec{x})&=\\frac{f(p)f(\\vec{x}|p)}{\\int_0^1 f(p)f(\\vec{x}|p) dp}=\\frac{\\frac{\\Gamma(\\alpha+\\beta)}{\\Gamma(\\alpha)\\Gamma(\\beta)} p^{\\alpha-1+\\sum_{i=1}^n x_i} (1-p)^{\\beta-1+n-\\sum_{i=1}^n x_i}}{\\int_0^1 \\frac{\\Gamma(\\alpha+\\beta)}{\\Gamma(\\alpha)\\Gamma(\\beta)} p^{\\alpha-1+\\sum_{i=1}^n x_i} (1-p)^{\\beta-1+n-\\sum_{i=1}^n x_i} dp}=\\frac{p^{\\alpha-1+\\sum_{i=1}^n x_i} (1-p)^{\\beta-1+n-\\sum_{i=1}^n x_i}}{\\frac{\\Gamma(\\alpha+\\sum_{i=1}^n x_i)\\Gamma(\\beta+n-\\sum_{i=1}^n x_i)}{\\Gamma(\\alpha+\\beta+n)}}\\\\\n",
    "&=\\frac{\\Gamma(\\alpha+\\beta+n)}{\\Gamma(\\alpha+\\sum_{i=1}^n x_i)\\Gamma(\\beta+n-\\sum_{i=1}^n x_i)} p^{\\alpha-1+\\sum_{i=1}^n x_i} (1-p)^{\\beta-1+n-\\sum_{i=1}^n x_i}\n",
    "\\end{align*}\n",
    "$$\n",
    "i.e. the posterior distribution is $Beta(\\alpha+\\sum_{i=1}^n x_i, \\beta+n-\\sum_{i=1}^n x_i)$ with the mean and variance:\n",
    "$$\n",
    "\\begin{gather*}\n",
    "E(p|\\vec{x})=\\frac{\\alpha+\\sum_{i=1}^n x_i}{\\alpha+\\beta+n}\\\\\n",
    "Var(p|\\vec{x})=\\frac{(\\alpha+\\sum_{i=1}^n x_i)(\\beta+n-\\sum_{i=1}^n x_i)}{(\\alpha+\\beta+n)^2(\\alpha+\\beta+n+1)}\n",
    "\\end{gather*}\n",
    "$$\n",
    "One can see that asymptotically when we have a large sample size n, the mean of the posterior distribution approaches to the maximum likelihood estimator $\\hat{p} =\\frac{1}{n}\\sum_{i=1}^n x_i$. Thus the specification of a prior is less important if the sample size is large.  This allows us to make a subjective assumption of the success rate based on a probability distribution instead of viewing it as a fixed but unknown number in the frequentist hypothesis test. In the case where $\\alpha=\\beta=1$, we obtain the non-informative prior $Beta(1,1)$, which is $Uniform([0,1])$ distribution. It's called non-informative because we assume that all p are equally probable. In other words, we no longer put a subjective assumption on $p$. \n",
    "\n",
    "After having obtained the posterior distribution, we can get the ($1-\\alpha$)-level credible interval for the success rate based on the quantile of the posterior as $[L(\\vec{x}), R(\\vec{x})]$ such that:\n",
    "$$\n",
    "\\mathbb{P}(\\bold{p} \\in [L(\\vec{x}), R(\\vec{x})] |\\vec{x}) = \\int_{L(\\vec{x})}^{R(\\vec{x})} f(p|\\vec{x})dp = 1-\\alpha\n",
    "$$\n",
    "With such definition, it is perfectly fine to interpret the credible interval as: the probability that our success rate falls within the given credible interval is (1-$\\alpha$)%. \n",
    "\n",
    "Various research papers have shown that the Bayesian Uniform prior yields better estimation of the confidence interval than the one obtained from the normal approximation of the binomial distribution. We can make a simulation to justify this.\n",
    "\n",
    "One can also test a two-sample hypothesis: $H_0: p1 \\leq p2$ VS. $H_1: p1 > p2$ where $p_1$ is the parameter of Model1, and $p_2$ is the parameter of Model2. In the frequentist approach, we often need to specify the significance level $\\alpha$, which is the type I error defined by:\n",
    "$$\n",
    "\\alpha = E[\\phi(\\vec{X}) | H_0] = \\mathbb{P}(T(\\vec{X}) \\in R) = \\int_R f_T(t)dt\n",
    "$$\n",
    "As we saw earlier, this requires us to find the distribution of the statistic $T(\\vec{X})$ under the null hypothesis and its corresponding rejection region $R$, which in general is difficult. However, with Bayesian analysis one can evaluate directly the probability of parameter $p_1$ greater than parameter $p_2$. We can do this by using the Monte Carlo method to evaluate the following integral:\n",
    "$$\n",
    "P(p_1 > p_2 |\\vec{x}) = \\int_0^1 \\int_0^1 \\mathbb{I}(p_1 > p_2 |\\vec{x}) \\cdot f(p_1|\\vec{x})f(p_2|\\vec{x})dp_1 dp_2 = E[\\mathbb{I}(p_1 > p_2 |\\vec{x})]\n",
    "$$\n",
    "where $\\mathbb{I}(p_1 \\leq p_2|\\vec{x})$ is the indicator function given the data and $f(p_1|\\vec{x})$, $f(p_2|\\vec{x})$ are the posterior Beta probability density functions for Model1 and Model2 respectively. To estimate this probability, one only needs to simulate pairs of Beta random variables from the two posterior distributions simultaneously, and calculate the average of the indicator function. \n",
    "\n"
   ]
  },
  {
   "cell_type": "code",
   "execution_count": 1,
   "metadata": {},
   "outputs": [],
   "source": [
    "import pandas as pd\n",
    "import numpy as np\n",
    "import matplotlib.pyplot as plt\n",
    "import scipy.stats as stats\n",
    "import math\n",
    "import plotly.express as px\n",
    "from ModelEvaluation import Bayes\n"
   ]
  },
  {
   "attachments": {},
   "cell_type": "markdown",
   "metadata": {},
   "source": [
    "### Section 1: Show the Superiority of Bayesian Inference"
   ]
  },
  {
   "cell_type": "code",
   "execution_count": 2,
   "metadata": {},
   "outputs": [],
   "source": [
    "def effCP(n, p, alpha, beta, alphalevel=0.05):\n",
    "    k=np.linspace(0,n,n+1)\n",
    "    param_1 = (alpha+np.array(k)).tolist()\n",
    "    param_2 = (beta+n-np.array(k)).tolist()\n",
    "    #DataF=pd.DataFrame({'k':k, 'param_1':param_1, 'param_2': param_2})\n",
    "    \n",
    "    CI_Wald=[[x/n + stats.norm.ppf(alphalevel/2)*math.sqrt((x/n)*(1-x/n)/n), x/n - stats.norm.ppf(alphalevel/2)*math.sqrt((x/n)*(1-x/n)/n)] for x in k]\n",
    "    CI_Bayes=[stats.beta.ppf([alphalevel/2, 1-alphalevel/2], x,y) for x, y in zip(param_1, param_2)]\n",
    "    \n",
    "    Covered_Wald=[1 if p >= x[0] and p <= x[1] else 0 for x in CI_Wald]\n",
    "    Covered_Bayes=[1 if p >= x[0] and p <= x[1] else 0 for x in CI_Bayes]\n",
    "\n",
    "    CP_Wald=Covered_Wald*stats.binom.pmf(k, n, p)\n",
    "    CP_Bayes=Covered_Bayes*stats.binom.pmf(k, n, p)\n",
    "    return([sum(CP_Wald), sum(CP_Bayes)])\n",
    "\n",
    "\n",
    "def MeanEffCov(n, p, alpha, beta, alphalevel=0.05):\n",
    "    effData=[]\n",
    "    for i in p:\n",
    "        effData.append(effCP(n, i, alpha, beta, alphalevel))\n",
    "    effData=pd.DataFrame(effData,columns=['CP_Wald','CP_Bayes'])\n",
    "    return([effData['CP_Wald'].mean(), effData['CP_Bayes'].mean()])\n",
    "\n",
    "\n",
    "def CI_z(data, threshold, alphalevel):\n",
    "    n=len(data)\n",
    "    p_hat=len(data[data<=threshold])/n\n",
    "    CI=[p_hat + stats.norm.ppf(alphalevel/2)*math.sqrt(p_hat*(1-p_hat)/n), p_hat - stats.norm.ppf(alphalevel/2)*math.sqrt(p_hat*(1-p_hat)/n)]\n",
    "    CI=[\"{:.2%}\".format(i) for i in CI]\n",
    "    print(\"The maximum likelihood estimate is: \" + str(\"{:.2%}\".format(p_hat)))\n",
    "    print(f\"The 99%-level confidence interval for {data.name} distance measure is: \" + str(CI))"
   ]
  },
  {
   "cell_type": "code",
   "execution_count": 3,
   "metadata": {},
   "outputs": [
    {
     "data": {
      "text/html": [
       "<div>\n",
       "<style scoped>\n",
       "    .dataframe tbody tr th:only-of-type {\n",
       "        vertical-align: middle;\n",
       "    }\n",
       "\n",
       "    .dataframe tbody tr th {\n",
       "        vertical-align: top;\n",
       "    }\n",
       "\n",
       "    .dataframe thead th {\n",
       "        text-align: right;\n",
       "    }\n",
       "</style>\n",
       "<table border=\"1\" class=\"dataframe\">\n",
       "  <thead>\n",
       "    <tr style=\"text-align: right;\">\n",
       "      <th></th>\n",
       "      <th>p</th>\n",
       "      <th>CP_Wald</th>\n",
       "      <th>CP_Bayes</th>\n",
       "    </tr>\n",
       "  </thead>\n",
       "  <tbody>\n",
       "    <tr>\n",
       "      <th>0</th>\n",
       "      <td>0.025000</td>\n",
       "      <td>0.315552</td>\n",
       "      <td>0.947106</td>\n",
       "    </tr>\n",
       "    <tr>\n",
       "      <th>1</th>\n",
       "      <td>0.025951</td>\n",
       "      <td>0.325426</td>\n",
       "      <td>0.943468</td>\n",
       "    </tr>\n",
       "    <tr>\n",
       "      <th>2</th>\n",
       "      <td>0.026902</td>\n",
       "      <td>0.335159</td>\n",
       "      <td>0.939743</td>\n",
       "    </tr>\n",
       "    <tr>\n",
       "      <th>3</th>\n",
       "      <td>0.027853</td>\n",
       "      <td>0.344752</td>\n",
       "      <td>0.935932</td>\n",
       "    </tr>\n",
       "    <tr>\n",
       "      <th>4</th>\n",
       "      <td>0.028804</td>\n",
       "      <td>0.354205</td>\n",
       "      <td>0.932038</td>\n",
       "    </tr>\n",
       "    <tr>\n",
       "      <th>...</th>\n",
       "      <td>...</td>\n",
       "      <td>...</td>\n",
       "      <td>...</td>\n",
       "    </tr>\n",
       "    <tr>\n",
       "      <th>995</th>\n",
       "      <td>0.971196</td>\n",
       "      <td>0.354205</td>\n",
       "      <td>0.932038</td>\n",
       "    </tr>\n",
       "    <tr>\n",
       "      <th>996</th>\n",
       "      <td>0.972147</td>\n",
       "      <td>0.344752</td>\n",
       "      <td>0.935932</td>\n",
       "    </tr>\n",
       "    <tr>\n",
       "      <th>997</th>\n",
       "      <td>0.973098</td>\n",
       "      <td>0.335159</td>\n",
       "      <td>0.939743</td>\n",
       "    </tr>\n",
       "    <tr>\n",
       "      <th>998</th>\n",
       "      <td>0.974049</td>\n",
       "      <td>0.325426</td>\n",
       "      <td>0.943468</td>\n",
       "    </tr>\n",
       "    <tr>\n",
       "      <th>999</th>\n",
       "      <td>0.975000</td>\n",
       "      <td>0.315552</td>\n",
       "      <td>0.947106</td>\n",
       "    </tr>\n",
       "  </tbody>\n",
       "</table>\n",
       "<p>1000 rows × 3 columns</p>\n",
       "</div>"
      ],
      "text/plain": [
       "            p   CP_Wald  CP_Bayes\n",
       "0    0.025000  0.315552  0.947106\n",
       "1    0.025951  0.325426  0.943468\n",
       "2    0.026902  0.335159  0.939743\n",
       "3    0.027853  0.344752  0.935932\n",
       "4    0.028804  0.354205  0.932038\n",
       "..        ...       ...       ...\n",
       "995  0.971196  0.354205  0.932038\n",
       "996  0.972147  0.344752  0.935932\n",
       "997  0.973098  0.335159  0.939743\n",
       "998  0.974049  0.325426  0.943468\n",
       "999  0.975000  0.315552  0.947106\n",
       "\n",
       "[1000 rows x 3 columns]"
      ]
     },
     "execution_count": 3,
     "metadata": {},
     "output_type": "execute_result"
    }
   ],
   "source": [
    "n=15\n",
    "p=np.linspace(0.025,0.975,1000)\n",
    "effData=[]\n",
    "for proportion in p:\n",
    "    effData.append(effCP(n, proportion, 1, 1, 0.05))\n",
    "effData=pd.DataFrame(effData,columns=['CP_Wald','CP_Bayes'])\n",
    "effData.insert(0,'p', p)\n",
    "effData"
   ]
  },
  {
   "cell_type": "code",
   "execution_count": 4,
   "metadata": {},
   "outputs": [],
   "source": [
    "n=list(range(10,350,10))\n",
    "p=np.linspace(0.01,0.99,200)\n",
    "alpha=1\n",
    "beta=1\n",
    "alphalevel=0.05\n",
    "\n",
    "MeanEffData=[]\n",
    "for size in n:\n",
    "    MeanEffData.append(MeanEffCov(size, p, alpha, beta, alphalevel))\n",
    "\n",
    "MeanEffData=pd.DataFrame(MeanEffData,columns=['CP_Wald','CP_Bayes'])\n",
    "MeanEffData.insert(0,'n', n)\n",
    "MeanEffData=MeanEffData.reset_index()\n",
    "MeanEffData=pd.melt(MeanEffData, id_vars='n', value_vars=['CP_Wald', 'CP_Bayes'])"
   ]
  },
  {
   "cell_type": "code",
   "execution_count": 5,
   "metadata": {},
   "outputs": [
    {
     "data": {
      "application/vnd.plotly.v1+json": {
       "config": {
        "plotlyServerURL": "https://plot.ly"
       },
       "data": [
        {
         "hovertemplate": "Method=CP_Wald<br>Sample Size=%{x}<br>Coverage Probability=%{y}<extra></extra>",
         "legendgroup": "CP_Wald",
         "line": {
          "color": "#636efa",
          "dash": "solid"
         },
         "marker": {
          "symbol": "circle"
         },
         "mode": "lines",
         "name": "CP_Wald",
         "orientation": "v",
         "showlegend": true,
         "type": "scatter",
         "x": [
          10,
          20,
          30,
          40,
          50,
          60,
          70,
          80,
          90,
          100,
          110,
          120,
          130,
          140,
          150,
          160,
          170,
          180,
          190,
          200,
          210,
          220,
          230,
          240,
          250,
          260,
          270,
          280,
          290,
          300,
          310,
          320,
          330,
          340
         ],
         "xaxis": "x",
         "y": [
          0.7806606964004026,
          0.8573166898251219,
          0.8861418588730703,
          0.9007771668527176,
          0.9118350165754298,
          0.917586246696948,
          0.9230747640185044,
          0.9269904192979755,
          0.928997789269443,
          0.9310589224210597,
          0.9340664386905666,
          0.9353475633787385,
          0.9353523907506082,
          0.938469467266161,
          0.9384443087761829,
          0.9394826502675068,
          0.939490944237045,
          0.941870597722987,
          0.9419332045165811,
          0.9401226792172059,
          0.9412725301913923,
          0.9427115427101004,
          0.9435907705626332,
          0.9410473946920453,
          0.943573527236884,
          0.9441535855163699,
          0.9439161791437651,
          0.9441212321907593,
          0.9452778254377036,
          0.9441580002095026,
          0.9448779704442856,
          0.9434139865340504,
          0.9429129611704059,
          0.9444194537050672
         ],
         "yaxis": "y"
        },
        {
         "hovertemplate": "Method=CP_Bayes<br>Sample Size=%{x}<br>Coverage Probability=%{y}<extra></extra>",
         "legendgroup": "CP_Bayes",
         "line": {
          "color": "#EF553B",
          "dash": "solid"
         },
         "marker": {
          "symbol": "circle"
         },
         "mode": "lines",
         "name": "CP_Bayes",
         "orientation": "v",
         "showlegend": true,
         "type": "scatter",
         "x": [
          10,
          20,
          30,
          40,
          50,
          60,
          70,
          80,
          90,
          100,
          110,
          120,
          130,
          140,
          150,
          160,
          170,
          180,
          190,
          200,
          210,
          220,
          230,
          240,
          250,
          260,
          270,
          280,
          290,
          300,
          310,
          320,
          330,
          340
         ],
         "xaxis": "x",
         "y": [
          0.9541135766391031,
          0.9515023568801426,
          0.951249189485374,
          0.9516813625250249,
          0.9522332395503034,
          0.9507439853892922,
          0.9508614167985209,
          0.9514931468684449,
          0.9519400420010748,
          0.9506502103709323,
          0.950368798263949,
          0.9511781604706877,
          0.9509964285199723,
          0.950085101556474,
          0.9511022315172063,
          0.9508353657605771,
          0.9513139824721009,
          0.9492222696336209,
          0.9509324403406316,
          0.9508807987715006,
          0.9507922382323855,
          0.9506654007638741,
          0.9505917420251467,
          0.9507482355413311,
          0.9501421995561731,
          0.9503952593595169,
          0.9500514854749451,
          0.9505674288841247,
          0.9500651935126581,
          0.9503318084198139,
          0.9500644886113596,
          0.9501893307773986,
          0.9500054733704908,
          0.950258890554619
         ],
         "yaxis": "y"
        }
       ],
       "layout": {
        "height": 700,
        "legend": {
         "title": {
          "text": "Method"
         },
         "tracegroupgap": 0
        },
        "margin": {
         "t": 60
        },
        "shapes": [
         {
          "line": {
           "color": "black",
           "dash": "dash",
           "width": 0.5
          },
          "type": "line",
          "x0": 0,
          "x1": 1,
          "xref": "x domain",
          "y0": 0.95,
          "y1": 0.95,
          "yref": "y"
         }
        ],
        "template": {
         "data": {
          "bar": [
           {
            "error_x": {
             "color": "#2a3f5f"
            },
            "error_y": {
             "color": "#2a3f5f"
            },
            "marker": {
             "line": {
              "color": "#E5ECF6",
              "width": 0.5
             },
             "pattern": {
              "fillmode": "overlay",
              "size": 10,
              "solidity": 0.2
             }
            },
            "type": "bar"
           }
          ],
          "barpolar": [
           {
            "marker": {
             "line": {
              "color": "#E5ECF6",
              "width": 0.5
             },
             "pattern": {
              "fillmode": "overlay",
              "size": 10,
              "solidity": 0.2
             }
            },
            "type": "barpolar"
           }
          ],
          "carpet": [
           {
            "aaxis": {
             "endlinecolor": "#2a3f5f",
             "gridcolor": "white",
             "linecolor": "white",
             "minorgridcolor": "white",
             "startlinecolor": "#2a3f5f"
            },
            "baxis": {
             "endlinecolor": "#2a3f5f",
             "gridcolor": "white",
             "linecolor": "white",
             "minorgridcolor": "white",
             "startlinecolor": "#2a3f5f"
            },
            "type": "carpet"
           }
          ],
          "choropleth": [
           {
            "colorbar": {
             "outlinewidth": 0,
             "ticks": ""
            },
            "type": "choropleth"
           }
          ],
          "contour": [
           {
            "colorbar": {
             "outlinewidth": 0,
             "ticks": ""
            },
            "colorscale": [
             [
              0,
              "#0d0887"
             ],
             [
              0.1111111111111111,
              "#46039f"
             ],
             [
              0.2222222222222222,
              "#7201a8"
             ],
             [
              0.3333333333333333,
              "#9c179e"
             ],
             [
              0.4444444444444444,
              "#bd3786"
             ],
             [
              0.5555555555555556,
              "#d8576b"
             ],
             [
              0.6666666666666666,
              "#ed7953"
             ],
             [
              0.7777777777777778,
              "#fb9f3a"
             ],
             [
              0.8888888888888888,
              "#fdca26"
             ],
             [
              1,
              "#f0f921"
             ]
            ],
            "type": "contour"
           }
          ],
          "contourcarpet": [
           {
            "colorbar": {
             "outlinewidth": 0,
             "ticks": ""
            },
            "type": "contourcarpet"
           }
          ],
          "heatmap": [
           {
            "colorbar": {
             "outlinewidth": 0,
             "ticks": ""
            },
            "colorscale": [
             [
              0,
              "#0d0887"
             ],
             [
              0.1111111111111111,
              "#46039f"
             ],
             [
              0.2222222222222222,
              "#7201a8"
             ],
             [
              0.3333333333333333,
              "#9c179e"
             ],
             [
              0.4444444444444444,
              "#bd3786"
             ],
             [
              0.5555555555555556,
              "#d8576b"
             ],
             [
              0.6666666666666666,
              "#ed7953"
             ],
             [
              0.7777777777777778,
              "#fb9f3a"
             ],
             [
              0.8888888888888888,
              "#fdca26"
             ],
             [
              1,
              "#f0f921"
             ]
            ],
            "type": "heatmap"
           }
          ],
          "heatmapgl": [
           {
            "colorbar": {
             "outlinewidth": 0,
             "ticks": ""
            },
            "colorscale": [
             [
              0,
              "#0d0887"
             ],
             [
              0.1111111111111111,
              "#46039f"
             ],
             [
              0.2222222222222222,
              "#7201a8"
             ],
             [
              0.3333333333333333,
              "#9c179e"
             ],
             [
              0.4444444444444444,
              "#bd3786"
             ],
             [
              0.5555555555555556,
              "#d8576b"
             ],
             [
              0.6666666666666666,
              "#ed7953"
             ],
             [
              0.7777777777777778,
              "#fb9f3a"
             ],
             [
              0.8888888888888888,
              "#fdca26"
             ],
             [
              1,
              "#f0f921"
             ]
            ],
            "type": "heatmapgl"
           }
          ],
          "histogram": [
           {
            "marker": {
             "pattern": {
              "fillmode": "overlay",
              "size": 10,
              "solidity": 0.2
             }
            },
            "type": "histogram"
           }
          ],
          "histogram2d": [
           {
            "colorbar": {
             "outlinewidth": 0,
             "ticks": ""
            },
            "colorscale": [
             [
              0,
              "#0d0887"
             ],
             [
              0.1111111111111111,
              "#46039f"
             ],
             [
              0.2222222222222222,
              "#7201a8"
             ],
             [
              0.3333333333333333,
              "#9c179e"
             ],
             [
              0.4444444444444444,
              "#bd3786"
             ],
             [
              0.5555555555555556,
              "#d8576b"
             ],
             [
              0.6666666666666666,
              "#ed7953"
             ],
             [
              0.7777777777777778,
              "#fb9f3a"
             ],
             [
              0.8888888888888888,
              "#fdca26"
             ],
             [
              1,
              "#f0f921"
             ]
            ],
            "type": "histogram2d"
           }
          ],
          "histogram2dcontour": [
           {
            "colorbar": {
             "outlinewidth": 0,
             "ticks": ""
            },
            "colorscale": [
             [
              0,
              "#0d0887"
             ],
             [
              0.1111111111111111,
              "#46039f"
             ],
             [
              0.2222222222222222,
              "#7201a8"
             ],
             [
              0.3333333333333333,
              "#9c179e"
             ],
             [
              0.4444444444444444,
              "#bd3786"
             ],
             [
              0.5555555555555556,
              "#d8576b"
             ],
             [
              0.6666666666666666,
              "#ed7953"
             ],
             [
              0.7777777777777778,
              "#fb9f3a"
             ],
             [
              0.8888888888888888,
              "#fdca26"
             ],
             [
              1,
              "#f0f921"
             ]
            ],
            "type": "histogram2dcontour"
           }
          ],
          "mesh3d": [
           {
            "colorbar": {
             "outlinewidth": 0,
             "ticks": ""
            },
            "type": "mesh3d"
           }
          ],
          "parcoords": [
           {
            "line": {
             "colorbar": {
              "outlinewidth": 0,
              "ticks": ""
             }
            },
            "type": "parcoords"
           }
          ],
          "pie": [
           {
            "automargin": true,
            "type": "pie"
           }
          ],
          "scatter": [
           {
            "fillpattern": {
             "fillmode": "overlay",
             "size": 10,
             "solidity": 0.2
            },
            "type": "scatter"
           }
          ],
          "scatter3d": [
           {
            "line": {
             "colorbar": {
              "outlinewidth": 0,
              "ticks": ""
             }
            },
            "marker": {
             "colorbar": {
              "outlinewidth": 0,
              "ticks": ""
             }
            },
            "type": "scatter3d"
           }
          ],
          "scattercarpet": [
           {
            "marker": {
             "colorbar": {
              "outlinewidth": 0,
              "ticks": ""
             }
            },
            "type": "scattercarpet"
           }
          ],
          "scattergeo": [
           {
            "marker": {
             "colorbar": {
              "outlinewidth": 0,
              "ticks": ""
             }
            },
            "type": "scattergeo"
           }
          ],
          "scattergl": [
           {
            "marker": {
             "colorbar": {
              "outlinewidth": 0,
              "ticks": ""
             }
            },
            "type": "scattergl"
           }
          ],
          "scattermapbox": [
           {
            "marker": {
             "colorbar": {
              "outlinewidth": 0,
              "ticks": ""
             }
            },
            "type": "scattermapbox"
           }
          ],
          "scatterpolar": [
           {
            "marker": {
             "colorbar": {
              "outlinewidth": 0,
              "ticks": ""
             }
            },
            "type": "scatterpolar"
           }
          ],
          "scatterpolargl": [
           {
            "marker": {
             "colorbar": {
              "outlinewidth": 0,
              "ticks": ""
             }
            },
            "type": "scatterpolargl"
           }
          ],
          "scatterternary": [
           {
            "marker": {
             "colorbar": {
              "outlinewidth": 0,
              "ticks": ""
             }
            },
            "type": "scatterternary"
           }
          ],
          "surface": [
           {
            "colorbar": {
             "outlinewidth": 0,
             "ticks": ""
            },
            "colorscale": [
             [
              0,
              "#0d0887"
             ],
             [
              0.1111111111111111,
              "#46039f"
             ],
             [
              0.2222222222222222,
              "#7201a8"
             ],
             [
              0.3333333333333333,
              "#9c179e"
             ],
             [
              0.4444444444444444,
              "#bd3786"
             ],
             [
              0.5555555555555556,
              "#d8576b"
             ],
             [
              0.6666666666666666,
              "#ed7953"
             ],
             [
              0.7777777777777778,
              "#fb9f3a"
             ],
             [
              0.8888888888888888,
              "#fdca26"
             ],
             [
              1,
              "#f0f921"
             ]
            ],
            "type": "surface"
           }
          ],
          "table": [
           {
            "cells": {
             "fill": {
              "color": "#EBF0F8"
             },
             "line": {
              "color": "white"
             }
            },
            "header": {
             "fill": {
              "color": "#C8D4E3"
             },
             "line": {
              "color": "white"
             }
            },
            "type": "table"
           }
          ]
         },
         "layout": {
          "annotationdefaults": {
           "arrowcolor": "#2a3f5f",
           "arrowhead": 0,
           "arrowwidth": 1
          },
          "autotypenumbers": "strict",
          "coloraxis": {
           "colorbar": {
            "outlinewidth": 0,
            "ticks": ""
           }
          },
          "colorscale": {
           "diverging": [
            [
             0,
             "#8e0152"
            ],
            [
             0.1,
             "#c51b7d"
            ],
            [
             0.2,
             "#de77ae"
            ],
            [
             0.3,
             "#f1b6da"
            ],
            [
             0.4,
             "#fde0ef"
            ],
            [
             0.5,
             "#f7f7f7"
            ],
            [
             0.6,
             "#e6f5d0"
            ],
            [
             0.7,
             "#b8e186"
            ],
            [
             0.8,
             "#7fbc41"
            ],
            [
             0.9,
             "#4d9221"
            ],
            [
             1,
             "#276419"
            ]
           ],
           "sequential": [
            [
             0,
             "#0d0887"
            ],
            [
             0.1111111111111111,
             "#46039f"
            ],
            [
             0.2222222222222222,
             "#7201a8"
            ],
            [
             0.3333333333333333,
             "#9c179e"
            ],
            [
             0.4444444444444444,
             "#bd3786"
            ],
            [
             0.5555555555555556,
             "#d8576b"
            ],
            [
             0.6666666666666666,
             "#ed7953"
            ],
            [
             0.7777777777777778,
             "#fb9f3a"
            ],
            [
             0.8888888888888888,
             "#fdca26"
            ],
            [
             1,
             "#f0f921"
            ]
           ],
           "sequentialminus": [
            [
             0,
             "#0d0887"
            ],
            [
             0.1111111111111111,
             "#46039f"
            ],
            [
             0.2222222222222222,
             "#7201a8"
            ],
            [
             0.3333333333333333,
             "#9c179e"
            ],
            [
             0.4444444444444444,
             "#bd3786"
            ],
            [
             0.5555555555555556,
             "#d8576b"
            ],
            [
             0.6666666666666666,
             "#ed7953"
            ],
            [
             0.7777777777777778,
             "#fb9f3a"
            ],
            [
             0.8888888888888888,
             "#fdca26"
            ],
            [
             1,
             "#f0f921"
            ]
           ]
          },
          "colorway": [
           "#636efa",
           "#EF553B",
           "#00cc96",
           "#ab63fa",
           "#FFA15A",
           "#19d3f3",
           "#FF6692",
           "#B6E880",
           "#FF97FF",
           "#FECB52"
          ],
          "font": {
           "color": "#2a3f5f"
          },
          "geo": {
           "bgcolor": "white",
           "lakecolor": "white",
           "landcolor": "#E5ECF6",
           "showlakes": true,
           "showland": true,
           "subunitcolor": "white"
          },
          "hoverlabel": {
           "align": "left"
          },
          "hovermode": "closest",
          "mapbox": {
           "style": "light"
          },
          "paper_bgcolor": "white",
          "plot_bgcolor": "#E5ECF6",
          "polar": {
           "angularaxis": {
            "gridcolor": "white",
            "linecolor": "white",
            "ticks": ""
           },
           "bgcolor": "#E5ECF6",
           "radialaxis": {
            "gridcolor": "white",
            "linecolor": "white",
            "ticks": ""
           }
          },
          "scene": {
           "xaxis": {
            "backgroundcolor": "#E5ECF6",
            "gridcolor": "white",
            "gridwidth": 2,
            "linecolor": "white",
            "showbackground": true,
            "ticks": "",
            "zerolinecolor": "white"
           },
           "yaxis": {
            "backgroundcolor": "#E5ECF6",
            "gridcolor": "white",
            "gridwidth": 2,
            "linecolor": "white",
            "showbackground": true,
            "ticks": "",
            "zerolinecolor": "white"
           },
           "zaxis": {
            "backgroundcolor": "#E5ECF6",
            "gridcolor": "white",
            "gridwidth": 2,
            "linecolor": "white",
            "showbackground": true,
            "ticks": "",
            "zerolinecolor": "white"
           }
          },
          "shapedefaults": {
           "line": {
            "color": "#2a3f5f"
           }
          },
          "ternary": {
           "aaxis": {
            "gridcolor": "white",
            "linecolor": "white",
            "ticks": ""
           },
           "baxis": {
            "gridcolor": "white",
            "linecolor": "white",
            "ticks": ""
           },
           "bgcolor": "#E5ECF6",
           "caxis": {
            "gridcolor": "white",
            "linecolor": "white",
            "ticks": ""
           }
          },
          "title": {
           "x": 0.05
          },
          "xaxis": {
           "automargin": true,
           "gridcolor": "white",
           "linecolor": "white",
           "ticks": "",
           "title": {
            "standoff": 15
           },
           "zerolinecolor": "white",
           "zerolinewidth": 2
          },
          "yaxis": {
           "automargin": true,
           "gridcolor": "white",
           "linecolor": "white",
           "ticks": "",
           "title": {
            "standoff": 15
           },
           "zerolinecolor": "white",
           "zerolinewidth": 2
          }
         }
        },
        "title": {
         "text": "Mean Coverage Probability for 95% Confidence Level",
         "x": 0.5
        },
        "width": 1200,
        "xaxis": {
         "anchor": "y",
         "domain": [
          0,
          1
         ],
         "dtick": 20,
         "tick0": 0,
         "tickmode": "linear",
         "title": {
          "text": "Sample Size"
         }
        },
        "yaxis": {
         "anchor": "x",
         "domain": [
          0,
          1
         ],
         "tickmode": "array",
         "ticktext": [
          "0.0",
          "0.01",
          "0.02",
          "0.03",
          "0.04",
          "0.05",
          "0.06",
          "0.07",
          "0.08",
          "0.09",
          "0.1",
          "0.11",
          "0.12",
          "0.13",
          "0.14",
          "0.15",
          "0.16",
          "0.17",
          "0.18",
          "0.19",
          "0.2",
          "0.21",
          "0.22",
          "0.23",
          "0.24",
          "0.25",
          "0.26",
          "0.27",
          "0.28",
          "0.29",
          "0.3",
          "0.31",
          "0.32",
          "0.33",
          "0.34",
          "0.35",
          "0.36",
          "0.37",
          "0.38",
          "0.39",
          "0.4",
          "0.41",
          "0.42",
          "0.43",
          "0.44",
          "0.45",
          "0.46",
          "0.47",
          "0.48",
          "0.49",
          "0.5",
          "0.51",
          "0.52",
          "0.53",
          "0.54",
          "0.55",
          "0.56",
          "0.57",
          "0.58",
          "0.59",
          "0.6",
          "0.61",
          "0.62",
          "0.63",
          "0.64",
          "0.65",
          "0.66",
          "0.67",
          "0.68",
          "0.69",
          "0.7",
          "0.71",
          "0.72",
          "0.73",
          "0.74",
          "0.75",
          "0.76",
          "0.77",
          "0.78",
          "0.79",
          "0.8",
          "0.81",
          "0.82",
          "0.83",
          "0.84",
          "0.85",
          "0.86",
          "0.87",
          "0.88",
          "0.89",
          "0.9",
          "0.91",
          "0.92",
          "0.93",
          "0.94",
          "0.95",
          "0.96",
          "0.97",
          "0.98",
          "0.99"
         ],
         "tickvals": [
          0,
          0.01,
          0.02,
          0.03,
          0.04,
          0.05,
          0.06,
          0.07,
          0.08,
          0.09,
          0.1,
          0.11,
          0.12,
          0.13,
          0.14,
          0.15,
          0.16,
          0.17,
          0.18,
          0.19,
          0.2,
          0.21,
          0.22,
          0.23,
          0.24,
          0.25,
          0.26,
          0.27,
          0.28,
          0.29,
          0.3,
          0.31,
          0.32,
          0.33,
          0.34,
          0.35000000000000003,
          0.36,
          0.37,
          0.38,
          0.39,
          0.4,
          0.41000000000000003,
          0.42,
          0.43,
          0.44,
          0.45,
          0.46,
          0.47000000000000003,
          0.48,
          0.49,
          0.5,
          0.51,
          0.52,
          0.53,
          0.54,
          0.55,
          0.56,
          0.5700000000000001,
          0.58,
          0.59,
          0.6,
          0.61,
          0.62,
          0.63,
          0.64,
          0.65,
          0.66,
          0.67,
          0.68,
          0.6900000000000001,
          0.7000000000000001,
          0.71,
          0.72,
          0.73,
          0.74,
          0.75,
          0.76,
          0.77,
          0.78,
          0.79,
          0.8,
          0.81,
          0.8200000000000001,
          0.8300000000000001,
          0.84,
          0.85,
          0.86,
          0.87,
          0.88,
          0.89,
          0.9,
          0.91,
          0.92,
          0.93,
          0.9400000000000001,
          0.9500000000000001,
          0.96,
          0.97,
          0.98,
          0.99
         ],
         "title": {
          "text": "Coverage Probability"
         }
        }
       }
      }
     },
     "metadata": {},
     "output_type": "display_data"
    }
   ],
   "source": [
    "fig=px.line(MeanEffData, x='n', y='value', color='variable',\n",
    "            labels=dict(n=\"Sample Size\", value=\"Coverage Probability\", variable=\"Method\"))\n",
    "arr=np.arange(0, 1, 0.01)\n",
    "fig.update_layout(yaxis=dict(tickmode='array', tickvals=arr, ticktext=[str(round(x,4)) for x in arr]),\n",
    "                  xaxis=dict(tickmode='linear', tick0=0, dtick=20),\n",
    "                  width=1200, height=700,\n",
    "                  title=dict(text=f\"Mean Coverage Probability for 95% Confidence Level\", x=0.5)\n",
    "                  )\n",
    "fig.add_hline(y=0.95,line_dash=\"dash\", line_color=\"black\", line_width=0.5)\n",
    "fig.show()"
   ]
  },
  {
   "attachments": {},
   "cell_type": "markdown",
   "metadata": {},
   "source": [
    "### Section 2: Show a Simulation with Bayesian Inference"
   ]
  },
  {
   "cell_type": "code",
   "execution_count": 3,
   "metadata": {},
   "outputs": [
    {
     "data": {
      "text/html": [
       "<div>\n",
       "<style scoped>\n",
       "    .dataframe tbody tr th:only-of-type {\n",
       "        vertical-align: middle;\n",
       "    }\n",
       "\n",
       "    .dataframe tbody tr th {\n",
       "        vertical-align: top;\n",
       "    }\n",
       "\n",
       "    .dataframe thead th {\n",
       "        text-align: right;\n",
       "    }\n",
       "</style>\n",
       "<table border=\"1\" class=\"dataframe\">\n",
       "  <thead>\n",
       "    <tr style=\"text-align: right;\">\n",
       "      <th></th>\n",
       "      <th>Component</th>\n",
       "      <th>Expected Success Probability</th>\n",
       "      <th>Variance of Success Probability</th>\n",
       "      <th>95.0%-level Credible Interval</th>\n",
       "      <th>Threshold</th>\n",
       "    </tr>\n",
       "  </thead>\n",
       "  <tbody>\n",
       "    <tr>\n",
       "      <th>0</th>\n",
       "      <td>sim_p:0.8342</td>\n",
       "      <td>0.7903</td>\n",
       "      <td>0.002630</td>\n",
       "      <td>[0.6816, 0.8814]</td>\n",
       "      <td>[1, 1, 1, 1, 1, 1]</td>\n",
       "    </tr>\n",
       "    <tr>\n",
       "      <th>1</th>\n",
       "      <td>sim_p:0.21</td>\n",
       "      <td>0.1935</td>\n",
       "      <td>0.002478</td>\n",
       "      <td>[0.106, 0.2998]</td>\n",
       "      <td>[1, 1, 1, 1, 1, 1]</td>\n",
       "    </tr>\n",
       "    <tr>\n",
       "      <th>2</th>\n",
       "      <td>sim_p:0.72</td>\n",
       "      <td>0.6613</td>\n",
       "      <td>0.003555</td>\n",
       "      <td>[0.54, 0.7727]</td>\n",
       "      <td>[1, 1, 1, 1, 1, 1]</td>\n",
       "    </tr>\n",
       "    <tr>\n",
       "      <th>3</th>\n",
       "      <td>sim_p:0.97</td>\n",
       "      <td>0.9516</td>\n",
       "      <td>0.000731</td>\n",
       "      <td>[0.8865, 0.9897]</td>\n",
       "      <td>[1, 1, 1, 1, 1, 1]</td>\n",
       "    </tr>\n",
       "    <tr>\n",
       "      <th>4</th>\n",
       "      <td>sim_p:0.05</td>\n",
       "      <td>0.0968</td>\n",
       "      <td>0.001387</td>\n",
       "      <td>[0.037, 0.181]</td>\n",
       "      <td>[1, 1, 1, 1, 1, 1]</td>\n",
       "    </tr>\n",
       "    <tr>\n",
       "      <th>5</th>\n",
       "      <td>sim_p:0.4</td>\n",
       "      <td>0.4355</td>\n",
       "      <td>0.003902</td>\n",
       "      <td>[0.3155, 0.5594]</td>\n",
       "      <td>[1, 1, 1, 1, 1, 1]</td>\n",
       "    </tr>\n",
       "  </tbody>\n",
       "</table>\n",
       "</div>"
      ],
      "text/plain": [
       "      Component  Expected Success Probability  \\\n",
       "0  sim_p:0.8342                        0.7903   \n",
       "1    sim_p:0.21                        0.1935   \n",
       "2    sim_p:0.72                        0.6613   \n",
       "3    sim_p:0.97                        0.9516   \n",
       "4    sim_p:0.05                        0.0968   \n",
       "5     sim_p:0.4                        0.4355   \n",
       "\n",
       "   Variance of Success Probability 95.0%-level Credible Interval  \\\n",
       "0                         0.002630              [0.6816, 0.8814]   \n",
       "1                         0.002478               [0.106, 0.2998]   \n",
       "2                         0.003555                [0.54, 0.7727]   \n",
       "3                         0.000731              [0.8865, 0.9897]   \n",
       "4                         0.001387                [0.037, 0.181]   \n",
       "5                         0.003902              [0.3155, 0.5594]   \n",
       "\n",
       "            Threshold  \n",
       "0  [1, 1, 1, 1, 1, 1]  \n",
       "1  [1, 1, 1, 1, 1, 1]  \n",
       "2  [1, 1, 1, 1, 1, 1]  \n",
       "3  [1, 1, 1, 1, 1, 1]  \n",
       "4  [1, 1, 1, 1, 1, 1]  \n",
       "5  [1, 1, 1, 1, 1, 1]  "
      ]
     },
     "metadata": {},
     "output_type": "display_data"
    },
    {
     "data": {
      "application/vnd.plotly.v1+json": {
       "config": {
        "plotlyServerURL": "https://plot.ly"
       },
       "data": [
        {
         "alignmentgroup": "True",
         "error_y": {
          "array": [
           0.09109999999999996,
           0.1063,
           0.11140000000000005,
           0.03810000000000002,
           0.0842,
           0.12390000000000001
          ],
          "arrayminus": [
           0.10870000000000002,
           0.08750000000000001,
           0.12129999999999996,
           0.06510000000000005,
           0.0598,
           0.12
          ],
          "symmetric": false,
          "type": "data"
         },
         "hovertemplate": "Threshold=[1, 1, 1, 1, 1, 1]<br>Component=%{x}<br>Expected Success Probability=%{y}<br>text=%{text}<extra></extra>",
         "legendgroup": "[1, 1, 1, 1, 1, 1]",
         "marker": {
          "color": "#636efa",
          "pattern": {
           "shape": ""
          }
         },
         "name": "[1, 1, 1, 1, 1, 1]",
         "offsetgroup": "[1, 1, 1, 1, 1, 1]",
         "orientation": "v",
         "showlegend": true,
         "text": [
          "79.03%",
          "19.35%",
          "66.13%",
          "95.16%",
          "9.68%",
          "43.55%"
         ],
         "textfont": {
          "size": 12
         },
         "textposition": "outside",
         "type": "bar",
         "x": [
          "sim_p:0.8342",
          "sim_p:0.21",
          "sim_p:0.72",
          "sim_p:0.97",
          "sim_p:0.05",
          "sim_p:0.4"
         ],
         "xaxis": "x",
         "y": [
          0.7903,
          0.1935,
          0.6613,
          0.9516,
          0.0968,
          0.4355
         ],
         "yaxis": "y"
        }
       ],
       "layout": {
        "barmode": "group",
        "height": 500,
        "legend": {
         "title": {
          "text": "Threshold"
         },
         "tracegroupgap": 0
        },
        "margin": {
         "t": 60
        },
        "template": {
         "data": {
          "bar": [
           {
            "error_x": {
             "color": "#2a3f5f"
            },
            "error_y": {
             "color": "#2a3f5f"
            },
            "marker": {
             "line": {
              "color": "#E5ECF6",
              "width": 0.5
             },
             "pattern": {
              "fillmode": "overlay",
              "size": 10,
              "solidity": 0.2
             }
            },
            "type": "bar"
           }
          ],
          "barpolar": [
           {
            "marker": {
             "line": {
              "color": "#E5ECF6",
              "width": 0.5
             },
             "pattern": {
              "fillmode": "overlay",
              "size": 10,
              "solidity": 0.2
             }
            },
            "type": "barpolar"
           }
          ],
          "carpet": [
           {
            "aaxis": {
             "endlinecolor": "#2a3f5f",
             "gridcolor": "white",
             "linecolor": "white",
             "minorgridcolor": "white",
             "startlinecolor": "#2a3f5f"
            },
            "baxis": {
             "endlinecolor": "#2a3f5f",
             "gridcolor": "white",
             "linecolor": "white",
             "minorgridcolor": "white",
             "startlinecolor": "#2a3f5f"
            },
            "type": "carpet"
           }
          ],
          "choropleth": [
           {
            "colorbar": {
             "outlinewidth": 0,
             "ticks": ""
            },
            "type": "choropleth"
           }
          ],
          "contour": [
           {
            "colorbar": {
             "outlinewidth": 0,
             "ticks": ""
            },
            "colorscale": [
             [
              0,
              "#0d0887"
             ],
             [
              0.1111111111111111,
              "#46039f"
             ],
             [
              0.2222222222222222,
              "#7201a8"
             ],
             [
              0.3333333333333333,
              "#9c179e"
             ],
             [
              0.4444444444444444,
              "#bd3786"
             ],
             [
              0.5555555555555556,
              "#d8576b"
             ],
             [
              0.6666666666666666,
              "#ed7953"
             ],
             [
              0.7777777777777778,
              "#fb9f3a"
             ],
             [
              0.8888888888888888,
              "#fdca26"
             ],
             [
              1,
              "#f0f921"
             ]
            ],
            "type": "contour"
           }
          ],
          "contourcarpet": [
           {
            "colorbar": {
             "outlinewidth": 0,
             "ticks": ""
            },
            "type": "contourcarpet"
           }
          ],
          "heatmap": [
           {
            "colorbar": {
             "outlinewidth": 0,
             "ticks": ""
            },
            "colorscale": [
             [
              0,
              "#0d0887"
             ],
             [
              0.1111111111111111,
              "#46039f"
             ],
             [
              0.2222222222222222,
              "#7201a8"
             ],
             [
              0.3333333333333333,
              "#9c179e"
             ],
             [
              0.4444444444444444,
              "#bd3786"
             ],
             [
              0.5555555555555556,
              "#d8576b"
             ],
             [
              0.6666666666666666,
              "#ed7953"
             ],
             [
              0.7777777777777778,
              "#fb9f3a"
             ],
             [
              0.8888888888888888,
              "#fdca26"
             ],
             [
              1,
              "#f0f921"
             ]
            ],
            "type": "heatmap"
           }
          ],
          "heatmapgl": [
           {
            "colorbar": {
             "outlinewidth": 0,
             "ticks": ""
            },
            "colorscale": [
             [
              0,
              "#0d0887"
             ],
             [
              0.1111111111111111,
              "#46039f"
             ],
             [
              0.2222222222222222,
              "#7201a8"
             ],
             [
              0.3333333333333333,
              "#9c179e"
             ],
             [
              0.4444444444444444,
              "#bd3786"
             ],
             [
              0.5555555555555556,
              "#d8576b"
             ],
             [
              0.6666666666666666,
              "#ed7953"
             ],
             [
              0.7777777777777778,
              "#fb9f3a"
             ],
             [
              0.8888888888888888,
              "#fdca26"
             ],
             [
              1,
              "#f0f921"
             ]
            ],
            "type": "heatmapgl"
           }
          ],
          "histogram": [
           {
            "marker": {
             "pattern": {
              "fillmode": "overlay",
              "size": 10,
              "solidity": 0.2
             }
            },
            "type": "histogram"
           }
          ],
          "histogram2d": [
           {
            "colorbar": {
             "outlinewidth": 0,
             "ticks": ""
            },
            "colorscale": [
             [
              0,
              "#0d0887"
             ],
             [
              0.1111111111111111,
              "#46039f"
             ],
             [
              0.2222222222222222,
              "#7201a8"
             ],
             [
              0.3333333333333333,
              "#9c179e"
             ],
             [
              0.4444444444444444,
              "#bd3786"
             ],
             [
              0.5555555555555556,
              "#d8576b"
             ],
             [
              0.6666666666666666,
              "#ed7953"
             ],
             [
              0.7777777777777778,
              "#fb9f3a"
             ],
             [
              0.8888888888888888,
              "#fdca26"
             ],
             [
              1,
              "#f0f921"
             ]
            ],
            "type": "histogram2d"
           }
          ],
          "histogram2dcontour": [
           {
            "colorbar": {
             "outlinewidth": 0,
             "ticks": ""
            },
            "colorscale": [
             [
              0,
              "#0d0887"
             ],
             [
              0.1111111111111111,
              "#46039f"
             ],
             [
              0.2222222222222222,
              "#7201a8"
             ],
             [
              0.3333333333333333,
              "#9c179e"
             ],
             [
              0.4444444444444444,
              "#bd3786"
             ],
             [
              0.5555555555555556,
              "#d8576b"
             ],
             [
              0.6666666666666666,
              "#ed7953"
             ],
             [
              0.7777777777777778,
              "#fb9f3a"
             ],
             [
              0.8888888888888888,
              "#fdca26"
             ],
             [
              1,
              "#f0f921"
             ]
            ],
            "type": "histogram2dcontour"
           }
          ],
          "mesh3d": [
           {
            "colorbar": {
             "outlinewidth": 0,
             "ticks": ""
            },
            "type": "mesh3d"
           }
          ],
          "parcoords": [
           {
            "line": {
             "colorbar": {
              "outlinewidth": 0,
              "ticks": ""
             }
            },
            "type": "parcoords"
           }
          ],
          "pie": [
           {
            "automargin": true,
            "type": "pie"
           }
          ],
          "scatter": [
           {
            "fillpattern": {
             "fillmode": "overlay",
             "size": 10,
             "solidity": 0.2
            },
            "type": "scatter"
           }
          ],
          "scatter3d": [
           {
            "line": {
             "colorbar": {
              "outlinewidth": 0,
              "ticks": ""
             }
            },
            "marker": {
             "colorbar": {
              "outlinewidth": 0,
              "ticks": ""
             }
            },
            "type": "scatter3d"
           }
          ],
          "scattercarpet": [
           {
            "marker": {
             "colorbar": {
              "outlinewidth": 0,
              "ticks": ""
             }
            },
            "type": "scattercarpet"
           }
          ],
          "scattergeo": [
           {
            "marker": {
             "colorbar": {
              "outlinewidth": 0,
              "ticks": ""
             }
            },
            "type": "scattergeo"
           }
          ],
          "scattergl": [
           {
            "marker": {
             "colorbar": {
              "outlinewidth": 0,
              "ticks": ""
             }
            },
            "type": "scattergl"
           }
          ],
          "scattermapbox": [
           {
            "marker": {
             "colorbar": {
              "outlinewidth": 0,
              "ticks": ""
             }
            },
            "type": "scattermapbox"
           }
          ],
          "scatterpolar": [
           {
            "marker": {
             "colorbar": {
              "outlinewidth": 0,
              "ticks": ""
             }
            },
            "type": "scatterpolar"
           }
          ],
          "scatterpolargl": [
           {
            "marker": {
             "colorbar": {
              "outlinewidth": 0,
              "ticks": ""
             }
            },
            "type": "scatterpolargl"
           }
          ],
          "scatterternary": [
           {
            "marker": {
             "colorbar": {
              "outlinewidth": 0,
              "ticks": ""
             }
            },
            "type": "scatterternary"
           }
          ],
          "surface": [
           {
            "colorbar": {
             "outlinewidth": 0,
             "ticks": ""
            },
            "colorscale": [
             [
              0,
              "#0d0887"
             ],
             [
              0.1111111111111111,
              "#46039f"
             ],
             [
              0.2222222222222222,
              "#7201a8"
             ],
             [
              0.3333333333333333,
              "#9c179e"
             ],
             [
              0.4444444444444444,
              "#bd3786"
             ],
             [
              0.5555555555555556,
              "#d8576b"
             ],
             [
              0.6666666666666666,
              "#ed7953"
             ],
             [
              0.7777777777777778,
              "#fb9f3a"
             ],
             [
              0.8888888888888888,
              "#fdca26"
             ],
             [
              1,
              "#f0f921"
             ]
            ],
            "type": "surface"
           }
          ],
          "table": [
           {
            "cells": {
             "fill": {
              "color": "#EBF0F8"
             },
             "line": {
              "color": "white"
             }
            },
            "header": {
             "fill": {
              "color": "#C8D4E3"
             },
             "line": {
              "color": "white"
             }
            },
            "type": "table"
           }
          ]
         },
         "layout": {
          "annotationdefaults": {
           "arrowcolor": "#2a3f5f",
           "arrowhead": 0,
           "arrowwidth": 1
          },
          "autotypenumbers": "strict",
          "coloraxis": {
           "colorbar": {
            "outlinewidth": 0,
            "ticks": ""
           }
          },
          "colorscale": {
           "diverging": [
            [
             0,
             "#8e0152"
            ],
            [
             0.1,
             "#c51b7d"
            ],
            [
             0.2,
             "#de77ae"
            ],
            [
             0.3,
             "#f1b6da"
            ],
            [
             0.4,
             "#fde0ef"
            ],
            [
             0.5,
             "#f7f7f7"
            ],
            [
             0.6,
             "#e6f5d0"
            ],
            [
             0.7,
             "#b8e186"
            ],
            [
             0.8,
             "#7fbc41"
            ],
            [
             0.9,
             "#4d9221"
            ],
            [
             1,
             "#276419"
            ]
           ],
           "sequential": [
            [
             0,
             "#0d0887"
            ],
            [
             0.1111111111111111,
             "#46039f"
            ],
            [
             0.2222222222222222,
             "#7201a8"
            ],
            [
             0.3333333333333333,
             "#9c179e"
            ],
            [
             0.4444444444444444,
             "#bd3786"
            ],
            [
             0.5555555555555556,
             "#d8576b"
            ],
            [
             0.6666666666666666,
             "#ed7953"
            ],
            [
             0.7777777777777778,
             "#fb9f3a"
            ],
            [
             0.8888888888888888,
             "#fdca26"
            ],
            [
             1,
             "#f0f921"
            ]
           ],
           "sequentialminus": [
            [
             0,
             "#0d0887"
            ],
            [
             0.1111111111111111,
             "#46039f"
            ],
            [
             0.2222222222222222,
             "#7201a8"
            ],
            [
             0.3333333333333333,
             "#9c179e"
            ],
            [
             0.4444444444444444,
             "#bd3786"
            ],
            [
             0.5555555555555556,
             "#d8576b"
            ],
            [
             0.6666666666666666,
             "#ed7953"
            ],
            [
             0.7777777777777778,
             "#fb9f3a"
            ],
            [
             0.8888888888888888,
             "#fdca26"
            ],
            [
             1,
             "#f0f921"
            ]
           ]
          },
          "colorway": [
           "#636efa",
           "#EF553B",
           "#00cc96",
           "#ab63fa",
           "#FFA15A",
           "#19d3f3",
           "#FF6692",
           "#B6E880",
           "#FF97FF",
           "#FECB52"
          ],
          "font": {
           "color": "#2a3f5f"
          },
          "geo": {
           "bgcolor": "white",
           "lakecolor": "white",
           "landcolor": "#E5ECF6",
           "showlakes": true,
           "showland": true,
           "subunitcolor": "white"
          },
          "hoverlabel": {
           "align": "left"
          },
          "hovermode": "closest",
          "mapbox": {
           "style": "light"
          },
          "paper_bgcolor": "white",
          "plot_bgcolor": "#E5ECF6",
          "polar": {
           "angularaxis": {
            "gridcolor": "white",
            "linecolor": "white",
            "ticks": ""
           },
           "bgcolor": "#E5ECF6",
           "radialaxis": {
            "gridcolor": "white",
            "linecolor": "white",
            "ticks": ""
           }
          },
          "scene": {
           "xaxis": {
            "backgroundcolor": "#E5ECF6",
            "gridcolor": "white",
            "gridwidth": 2,
            "linecolor": "white",
            "showbackground": true,
            "ticks": "",
            "zerolinecolor": "white"
           },
           "yaxis": {
            "backgroundcolor": "#E5ECF6",
            "gridcolor": "white",
            "gridwidth": 2,
            "linecolor": "white",
            "showbackground": true,
            "ticks": "",
            "zerolinecolor": "white"
           },
           "zaxis": {
            "backgroundcolor": "#E5ECF6",
            "gridcolor": "white",
            "gridwidth": 2,
            "linecolor": "white",
            "showbackground": true,
            "ticks": "",
            "zerolinecolor": "white"
           }
          },
          "shapedefaults": {
           "line": {
            "color": "#2a3f5f"
           }
          },
          "ternary": {
           "aaxis": {
            "gridcolor": "white",
            "linecolor": "white",
            "ticks": ""
           },
           "baxis": {
            "gridcolor": "white",
            "linecolor": "white",
            "ticks": ""
           },
           "bgcolor": "#E5ECF6",
           "caxis": {
            "gridcolor": "white",
            "linecolor": "white",
            "ticks": ""
           }
          },
          "title": {
           "x": 0.05
          },
          "xaxis": {
           "automargin": true,
           "gridcolor": "white",
           "linecolor": "white",
           "ticks": "",
           "title": {
            "standoff": 15
           },
           "zerolinecolor": "white",
           "zerolinewidth": 2
          },
          "yaxis": {
           "automargin": true,
           "gridcolor": "white",
           "linecolor": "white",
           "ticks": "",
           "title": {
            "standoff": 15
           },
           "zerolinecolor": "white",
           "zerolinewidth": 2
          }
         }
        },
        "title": {
         "text": "Expected Success Probability with 95.0% Confidence Level",
         "x": 0.5
        },
        "width": 1200,
        "xaxis": {
         "anchor": "y",
         "domain": [
          0,
          1
         ],
         "title": {
          "text": "Component"
         }
        },
        "yaxis": {
         "anchor": "x",
         "domain": [
          0,
          1
         ],
         "dtick": 0.05,
         "range": [
          0,
          1
         ],
         "title": {
          "text": "Expected Success Probability"
         }
        }
       }
      }
     },
     "metadata": {},
     "output_type": "display_data"
    }
   ],
   "source": [
    "x=[(f\"sim_p:{p}\", stats.bernoulli.rvs(p, size=60)) for p in [0.8342,0.21,0.72,0.97,0.05,0.4]]\n",
    "x=dict(x)\n",
    "\n",
    "threshold=[[1]*6]\n",
    "alphalevel=0.05\n",
    "alpha=[1]*6\n",
    "beta=[1]*6\n",
    "\n",
    "result=Bayes(x, threshold, alpha, beta, alphalevel, direction='greater')\n",
    "display(result.res)\n",
    "result.Plot_Bayes(height=500)"
   ]
  },
  {
   "cell_type": "code",
   "execution_count": 4,
   "metadata": {},
   "outputs": [
    {
     "data": {
      "text/html": [
       "<div>\n",
       "<style scoped>\n",
       "    .dataframe tbody tr th:only-of-type {\n",
       "        vertical-align: middle;\n",
       "    }\n",
       "\n",
       "    .dataframe tbody tr th {\n",
       "        vertical-align: top;\n",
       "    }\n",
       "\n",
       "    .dataframe thead th {\n",
       "        text-align: right;\n",
       "    }\n",
       "</style>\n",
       "<table border=\"1\" class=\"dataframe\">\n",
       "  <thead>\n",
       "    <tr style=\"text-align: right;\">\n",
       "      <th></th>\n",
       "      <th>Component</th>\n",
       "      <th>Expected Success Probability</th>\n",
       "      <th>Variance of Success Probability</th>\n",
       "      <th>95.0%-level Credible Interval</th>\n",
       "      <th>Threshold</th>\n",
       "    </tr>\n",
       "  </thead>\n",
       "  <tbody>\n",
       "    <tr>\n",
       "      <th>0</th>\n",
       "      <td>sim_p:0.8342</td>\n",
       "      <td>0.7903</td>\n",
       "      <td>0.002630</td>\n",
       "      <td>[0.6816, 0.8814]</td>\n",
       "      <td>[1, 1, 1, 1, 1, 1]</td>\n",
       "    </tr>\n",
       "    <tr>\n",
       "      <th>1</th>\n",
       "      <td>sim_p:0.21</td>\n",
       "      <td>0.1935</td>\n",
       "      <td>0.002478</td>\n",
       "      <td>[0.106, 0.2998]</td>\n",
       "      <td>[1, 1, 1, 1, 1, 1]</td>\n",
       "    </tr>\n",
       "    <tr>\n",
       "      <th>2</th>\n",
       "      <td>sim_p:0.72</td>\n",
       "      <td>0.6613</td>\n",
       "      <td>0.003555</td>\n",
       "      <td>[0.54, 0.7727]</td>\n",
       "      <td>[1, 1, 1, 1, 1, 1]</td>\n",
       "    </tr>\n",
       "    <tr>\n",
       "      <th>3</th>\n",
       "      <td>sim_p:0.97</td>\n",
       "      <td>0.9516</td>\n",
       "      <td>0.000731</td>\n",
       "      <td>[0.8865, 0.9897]</td>\n",
       "      <td>[1, 1, 1, 1, 1, 1]</td>\n",
       "    </tr>\n",
       "    <tr>\n",
       "      <th>4</th>\n",
       "      <td>sim_p:0.05</td>\n",
       "      <td>0.0423</td>\n",
       "      <td>0.000102</td>\n",
       "      <td>[0.0248, 0.0642]</td>\n",
       "      <td>[1, 1, 1, 1, 1, 1]</td>\n",
       "    </tr>\n",
       "    <tr>\n",
       "      <th>5</th>\n",
       "      <td>sim_p:0.4</td>\n",
       "      <td>0.4524</td>\n",
       "      <td>0.002914</td>\n",
       "      <td>[0.3479, 0.559]</td>\n",
       "      <td>[1, 1, 1, 1, 1, 1]</td>\n",
       "    </tr>\n",
       "  </tbody>\n",
       "</table>\n",
       "</div>"
      ],
      "text/plain": [
       "      Component  Expected Success Probability  \\\n",
       "0  sim_p:0.8342                        0.7903   \n",
       "1    sim_p:0.21                        0.1935   \n",
       "2    sim_p:0.72                        0.6613   \n",
       "3    sim_p:0.97                        0.9516   \n",
       "4    sim_p:0.05                        0.0423   \n",
       "5     sim_p:0.4                        0.4524   \n",
       "\n",
       "   Variance of Success Probability 95.0%-level Credible Interval  \\\n",
       "0                         0.002630              [0.6816, 0.8814]   \n",
       "1                         0.002478               [0.106, 0.2998]   \n",
       "2                         0.003555                [0.54, 0.7727]   \n",
       "3                         0.000731              [0.8865, 0.9897]   \n",
       "4                         0.000102              [0.0248, 0.0642]   \n",
       "5                         0.002914               [0.3479, 0.559]   \n",
       "\n",
       "            Threshold  \n",
       "0  [1, 1, 1, 1, 1, 1]  \n",
       "1  [1, 1, 1, 1, 1, 1]  \n",
       "2  [1, 1, 1, 1, 1, 1]  \n",
       "3  [1, 1, 1, 1, 1, 1]  \n",
       "4  [1, 1, 1, 1, 1, 1]  \n",
       "5  [1, 1, 1, 1, 1, 1]  "
      ]
     },
     "metadata": {},
     "output_type": "display_data"
    },
    {
     "data": {
      "application/vnd.plotly.v1+json": {
       "config": {
        "plotlyServerURL": "https://plot.ly"
       },
       "data": [
        {
         "alignmentgroup": "True",
         "error_y": {
          "array": [
           0.09109999999999996,
           0.1063,
           0.11140000000000005,
           0.03810000000000002,
           0.021899999999999996,
           0.10660000000000003
          ],
          "arrayminus": [
           0.10870000000000002,
           0.08750000000000001,
           0.12129999999999996,
           0.06510000000000005,
           0.017499999999999998,
           0.10450000000000004
          ],
          "symmetric": false,
          "type": "data"
         },
         "hovertemplate": "Threshold=[1, 1, 1, 1, 1, 1]<br>Component=%{x}<br>Expected Success Probability=%{y}<br>text=%{text}<extra></extra>",
         "legendgroup": "[1, 1, 1, 1, 1, 1]",
         "marker": {
          "color": "#636efa",
          "pattern": {
           "shape": ""
          }
         },
         "name": "[1, 1, 1, 1, 1, 1]",
         "offsetgroup": "[1, 1, 1, 1, 1, 1]",
         "orientation": "v",
         "showlegend": true,
         "text": [
          "79.03%",
          "19.35%",
          "66.13%",
          "95.16%",
          "4.23%",
          "45.24%"
         ],
         "textfont": {
          "size": 12
         },
         "textposition": "outside",
         "type": "bar",
         "x": [
          "sim_p:0.8342",
          "sim_p:0.21",
          "sim_p:0.72",
          "sim_p:0.97",
          "sim_p:0.05",
          "sim_p:0.4"
         ],
         "xaxis": "x",
         "y": [
          0.7903,
          0.1935,
          0.6613,
          0.9516,
          0.0423,
          0.4524
         ],
         "yaxis": "y"
        }
       ],
       "layout": {
        "barmode": "group",
        "height": 500,
        "legend": {
         "title": {
          "text": "Threshold"
         },
         "tracegroupgap": 0
        },
        "margin": {
         "t": 60
        },
        "template": {
         "data": {
          "bar": [
           {
            "error_x": {
             "color": "#2a3f5f"
            },
            "error_y": {
             "color": "#2a3f5f"
            },
            "marker": {
             "line": {
              "color": "#E5ECF6",
              "width": 0.5
             },
             "pattern": {
              "fillmode": "overlay",
              "size": 10,
              "solidity": 0.2
             }
            },
            "type": "bar"
           }
          ],
          "barpolar": [
           {
            "marker": {
             "line": {
              "color": "#E5ECF6",
              "width": 0.5
             },
             "pattern": {
              "fillmode": "overlay",
              "size": 10,
              "solidity": 0.2
             }
            },
            "type": "barpolar"
           }
          ],
          "carpet": [
           {
            "aaxis": {
             "endlinecolor": "#2a3f5f",
             "gridcolor": "white",
             "linecolor": "white",
             "minorgridcolor": "white",
             "startlinecolor": "#2a3f5f"
            },
            "baxis": {
             "endlinecolor": "#2a3f5f",
             "gridcolor": "white",
             "linecolor": "white",
             "minorgridcolor": "white",
             "startlinecolor": "#2a3f5f"
            },
            "type": "carpet"
           }
          ],
          "choropleth": [
           {
            "colorbar": {
             "outlinewidth": 0,
             "ticks": ""
            },
            "type": "choropleth"
           }
          ],
          "contour": [
           {
            "colorbar": {
             "outlinewidth": 0,
             "ticks": ""
            },
            "colorscale": [
             [
              0,
              "#0d0887"
             ],
             [
              0.1111111111111111,
              "#46039f"
             ],
             [
              0.2222222222222222,
              "#7201a8"
             ],
             [
              0.3333333333333333,
              "#9c179e"
             ],
             [
              0.4444444444444444,
              "#bd3786"
             ],
             [
              0.5555555555555556,
              "#d8576b"
             ],
             [
              0.6666666666666666,
              "#ed7953"
             ],
             [
              0.7777777777777778,
              "#fb9f3a"
             ],
             [
              0.8888888888888888,
              "#fdca26"
             ],
             [
              1,
              "#f0f921"
             ]
            ],
            "type": "contour"
           }
          ],
          "contourcarpet": [
           {
            "colorbar": {
             "outlinewidth": 0,
             "ticks": ""
            },
            "type": "contourcarpet"
           }
          ],
          "heatmap": [
           {
            "colorbar": {
             "outlinewidth": 0,
             "ticks": ""
            },
            "colorscale": [
             [
              0,
              "#0d0887"
             ],
             [
              0.1111111111111111,
              "#46039f"
             ],
             [
              0.2222222222222222,
              "#7201a8"
             ],
             [
              0.3333333333333333,
              "#9c179e"
             ],
             [
              0.4444444444444444,
              "#bd3786"
             ],
             [
              0.5555555555555556,
              "#d8576b"
             ],
             [
              0.6666666666666666,
              "#ed7953"
             ],
             [
              0.7777777777777778,
              "#fb9f3a"
             ],
             [
              0.8888888888888888,
              "#fdca26"
             ],
             [
              1,
              "#f0f921"
             ]
            ],
            "type": "heatmap"
           }
          ],
          "heatmapgl": [
           {
            "colorbar": {
             "outlinewidth": 0,
             "ticks": ""
            },
            "colorscale": [
             [
              0,
              "#0d0887"
             ],
             [
              0.1111111111111111,
              "#46039f"
             ],
             [
              0.2222222222222222,
              "#7201a8"
             ],
             [
              0.3333333333333333,
              "#9c179e"
             ],
             [
              0.4444444444444444,
              "#bd3786"
             ],
             [
              0.5555555555555556,
              "#d8576b"
             ],
             [
              0.6666666666666666,
              "#ed7953"
             ],
             [
              0.7777777777777778,
              "#fb9f3a"
             ],
             [
              0.8888888888888888,
              "#fdca26"
             ],
             [
              1,
              "#f0f921"
             ]
            ],
            "type": "heatmapgl"
           }
          ],
          "histogram": [
           {
            "marker": {
             "pattern": {
              "fillmode": "overlay",
              "size": 10,
              "solidity": 0.2
             }
            },
            "type": "histogram"
           }
          ],
          "histogram2d": [
           {
            "colorbar": {
             "outlinewidth": 0,
             "ticks": ""
            },
            "colorscale": [
             [
              0,
              "#0d0887"
             ],
             [
              0.1111111111111111,
              "#46039f"
             ],
             [
              0.2222222222222222,
              "#7201a8"
             ],
             [
              0.3333333333333333,
              "#9c179e"
             ],
             [
              0.4444444444444444,
              "#bd3786"
             ],
             [
              0.5555555555555556,
              "#d8576b"
             ],
             [
              0.6666666666666666,
              "#ed7953"
             ],
             [
              0.7777777777777778,
              "#fb9f3a"
             ],
             [
              0.8888888888888888,
              "#fdca26"
             ],
             [
              1,
              "#f0f921"
             ]
            ],
            "type": "histogram2d"
           }
          ],
          "histogram2dcontour": [
           {
            "colorbar": {
             "outlinewidth": 0,
             "ticks": ""
            },
            "colorscale": [
             [
              0,
              "#0d0887"
             ],
             [
              0.1111111111111111,
              "#46039f"
             ],
             [
              0.2222222222222222,
              "#7201a8"
             ],
             [
              0.3333333333333333,
              "#9c179e"
             ],
             [
              0.4444444444444444,
              "#bd3786"
             ],
             [
              0.5555555555555556,
              "#d8576b"
             ],
             [
              0.6666666666666666,
              "#ed7953"
             ],
             [
              0.7777777777777778,
              "#fb9f3a"
             ],
             [
              0.8888888888888888,
              "#fdca26"
             ],
             [
              1,
              "#f0f921"
             ]
            ],
            "type": "histogram2dcontour"
           }
          ],
          "mesh3d": [
           {
            "colorbar": {
             "outlinewidth": 0,
             "ticks": ""
            },
            "type": "mesh3d"
           }
          ],
          "parcoords": [
           {
            "line": {
             "colorbar": {
              "outlinewidth": 0,
              "ticks": ""
             }
            },
            "type": "parcoords"
           }
          ],
          "pie": [
           {
            "automargin": true,
            "type": "pie"
           }
          ],
          "scatter": [
           {
            "fillpattern": {
             "fillmode": "overlay",
             "size": 10,
             "solidity": 0.2
            },
            "type": "scatter"
           }
          ],
          "scatter3d": [
           {
            "line": {
             "colorbar": {
              "outlinewidth": 0,
              "ticks": ""
             }
            },
            "marker": {
             "colorbar": {
              "outlinewidth": 0,
              "ticks": ""
             }
            },
            "type": "scatter3d"
           }
          ],
          "scattercarpet": [
           {
            "marker": {
             "colorbar": {
              "outlinewidth": 0,
              "ticks": ""
             }
            },
            "type": "scattercarpet"
           }
          ],
          "scattergeo": [
           {
            "marker": {
             "colorbar": {
              "outlinewidth": 0,
              "ticks": ""
             }
            },
            "type": "scattergeo"
           }
          ],
          "scattergl": [
           {
            "marker": {
             "colorbar": {
              "outlinewidth": 0,
              "ticks": ""
             }
            },
            "type": "scattergl"
           }
          ],
          "scattermapbox": [
           {
            "marker": {
             "colorbar": {
              "outlinewidth": 0,
              "ticks": ""
             }
            },
            "type": "scattermapbox"
           }
          ],
          "scatterpolar": [
           {
            "marker": {
             "colorbar": {
              "outlinewidth": 0,
              "ticks": ""
             }
            },
            "type": "scatterpolar"
           }
          ],
          "scatterpolargl": [
           {
            "marker": {
             "colorbar": {
              "outlinewidth": 0,
              "ticks": ""
             }
            },
            "type": "scatterpolargl"
           }
          ],
          "scatterternary": [
           {
            "marker": {
             "colorbar": {
              "outlinewidth": 0,
              "ticks": ""
             }
            },
            "type": "scatterternary"
           }
          ],
          "surface": [
           {
            "colorbar": {
             "outlinewidth": 0,
             "ticks": ""
            },
            "colorscale": [
             [
              0,
              "#0d0887"
             ],
             [
              0.1111111111111111,
              "#46039f"
             ],
             [
              0.2222222222222222,
              "#7201a8"
             ],
             [
              0.3333333333333333,
              "#9c179e"
             ],
             [
              0.4444444444444444,
              "#bd3786"
             ],
             [
              0.5555555555555556,
              "#d8576b"
             ],
             [
              0.6666666666666666,
              "#ed7953"
             ],
             [
              0.7777777777777778,
              "#fb9f3a"
             ],
             [
              0.8888888888888888,
              "#fdca26"
             ],
             [
              1,
              "#f0f921"
             ]
            ],
            "type": "surface"
           }
          ],
          "table": [
           {
            "cells": {
             "fill": {
              "color": "#EBF0F8"
             },
             "line": {
              "color": "white"
             }
            },
            "header": {
             "fill": {
              "color": "#C8D4E3"
             },
             "line": {
              "color": "white"
             }
            },
            "type": "table"
           }
          ]
         },
         "layout": {
          "annotationdefaults": {
           "arrowcolor": "#2a3f5f",
           "arrowhead": 0,
           "arrowwidth": 1
          },
          "autotypenumbers": "strict",
          "coloraxis": {
           "colorbar": {
            "outlinewidth": 0,
            "ticks": ""
           }
          },
          "colorscale": {
           "diverging": [
            [
             0,
             "#8e0152"
            ],
            [
             0.1,
             "#c51b7d"
            ],
            [
             0.2,
             "#de77ae"
            ],
            [
             0.3,
             "#f1b6da"
            ],
            [
             0.4,
             "#fde0ef"
            ],
            [
             0.5,
             "#f7f7f7"
            ],
            [
             0.6,
             "#e6f5d0"
            ],
            [
             0.7,
             "#b8e186"
            ],
            [
             0.8,
             "#7fbc41"
            ],
            [
             0.9,
             "#4d9221"
            ],
            [
             1,
             "#276419"
            ]
           ],
           "sequential": [
            [
             0,
             "#0d0887"
            ],
            [
             0.1111111111111111,
             "#46039f"
            ],
            [
             0.2222222222222222,
             "#7201a8"
            ],
            [
             0.3333333333333333,
             "#9c179e"
            ],
            [
             0.4444444444444444,
             "#bd3786"
            ],
            [
             0.5555555555555556,
             "#d8576b"
            ],
            [
             0.6666666666666666,
             "#ed7953"
            ],
            [
             0.7777777777777778,
             "#fb9f3a"
            ],
            [
             0.8888888888888888,
             "#fdca26"
            ],
            [
             1,
             "#f0f921"
            ]
           ],
           "sequentialminus": [
            [
             0,
             "#0d0887"
            ],
            [
             0.1111111111111111,
             "#46039f"
            ],
            [
             0.2222222222222222,
             "#7201a8"
            ],
            [
             0.3333333333333333,
             "#9c179e"
            ],
            [
             0.4444444444444444,
             "#bd3786"
            ],
            [
             0.5555555555555556,
             "#d8576b"
            ],
            [
             0.6666666666666666,
             "#ed7953"
            ],
            [
             0.7777777777777778,
             "#fb9f3a"
            ],
            [
             0.8888888888888888,
             "#fdca26"
            ],
            [
             1,
             "#f0f921"
            ]
           ]
          },
          "colorway": [
           "#636efa",
           "#EF553B",
           "#00cc96",
           "#ab63fa",
           "#FFA15A",
           "#19d3f3",
           "#FF6692",
           "#B6E880",
           "#FF97FF",
           "#FECB52"
          ],
          "font": {
           "color": "#2a3f5f"
          },
          "geo": {
           "bgcolor": "white",
           "lakecolor": "white",
           "landcolor": "#E5ECF6",
           "showlakes": true,
           "showland": true,
           "subunitcolor": "white"
          },
          "hoverlabel": {
           "align": "left"
          },
          "hovermode": "closest",
          "mapbox": {
           "style": "light"
          },
          "paper_bgcolor": "white",
          "plot_bgcolor": "#E5ECF6",
          "polar": {
           "angularaxis": {
            "gridcolor": "white",
            "linecolor": "white",
            "ticks": ""
           },
           "bgcolor": "#E5ECF6",
           "radialaxis": {
            "gridcolor": "white",
            "linecolor": "white",
            "ticks": ""
           }
          },
          "scene": {
           "xaxis": {
            "backgroundcolor": "#E5ECF6",
            "gridcolor": "white",
            "gridwidth": 2,
            "linecolor": "white",
            "showbackground": true,
            "ticks": "",
            "zerolinecolor": "white"
           },
           "yaxis": {
            "backgroundcolor": "#E5ECF6",
            "gridcolor": "white",
            "gridwidth": 2,
            "linecolor": "white",
            "showbackground": true,
            "ticks": "",
            "zerolinecolor": "white"
           },
           "zaxis": {
            "backgroundcolor": "#E5ECF6",
            "gridcolor": "white",
            "gridwidth": 2,
            "linecolor": "white",
            "showbackground": true,
            "ticks": "",
            "zerolinecolor": "white"
           }
          },
          "shapedefaults": {
           "line": {
            "color": "#2a3f5f"
           }
          },
          "ternary": {
           "aaxis": {
            "gridcolor": "white",
            "linecolor": "white",
            "ticks": ""
           },
           "baxis": {
            "gridcolor": "white",
            "linecolor": "white",
            "ticks": ""
           },
           "bgcolor": "#E5ECF6",
           "caxis": {
            "gridcolor": "white",
            "linecolor": "white",
            "ticks": ""
           }
          },
          "title": {
           "x": 0.05
          },
          "xaxis": {
           "automargin": true,
           "gridcolor": "white",
           "linecolor": "white",
           "ticks": "",
           "title": {
            "standoff": 15
           },
           "zerolinecolor": "white",
           "zerolinewidth": 2
          },
          "yaxis": {
           "automargin": true,
           "gridcolor": "white",
           "linecolor": "white",
           "ticks": "",
           "title": {
            "standoff": 15
           },
           "zerolinecolor": "white",
           "zerolinewidth": 2
          }
         }
        },
        "title": {
         "text": "Expected Success Probability with 95.0% Confidence Level",
         "x": 0.5
        },
        "width": 1200,
        "xaxis": {
         "anchor": "y",
         "domain": [
          0,
          1
         ],
         "title": {
          "text": "Component"
         }
        },
        "yaxis": {
         "anchor": "x",
         "domain": [
          0,
          1
         ],
         "dtick": 0.05,
         "range": [
          0,
          1
         ],
         "title": {
          "text": "Expected Success Probability"
         }
        }
       }
      }
     },
     "metadata": {},
     "output_type": "display_data"
    }
   ],
   "source": [
    "threshold=[[1]*6]\n",
    "alphalevel=0.05\n",
    "alpha=[1,1,1,1,   9429/800,  12] #the customized prior has mean 0.035 and std 0.01 for the 5th p, and 0.5, 0.2 for the 6th p\n",
    "beta=[1,1,1,1,   259971/800,  12]\n",
    "\n",
    "result=Bayes(x, threshold, alpha, beta, alphalevel, direction='greater')\n",
    "display(result.res)\n",
    "result.Plot_Bayes(height=500)"
   ]
  },
  {
   "attachments": {},
   "cell_type": "markdown",
   "metadata": {},
   "source": [
    "### Section 3: Implementation of Bayesian Inference on Real Data"
   ]
  },
  {
   "cell_type": "code",
   "execution_count": 2,
   "metadata": {},
   "outputs": [
    {
     "name": "stdout",
     "output_type": "stream",
     "text": [
      "Length of data: 7224\n"
     ]
    },
    {
     "data": {
      "text/html": [
       "<div>\n",
       "<style scoped>\n",
       "    .dataframe tbody tr th:only-of-type {\n",
       "        vertical-align: middle;\n",
       "    }\n",
       "\n",
       "    .dataframe tbody tr th {\n",
       "        vertical-align: top;\n",
       "    }\n",
       "\n",
       "    .dataframe thead th {\n",
       "        text-align: right;\n",
       "    }\n",
       "</style>\n",
       "<table border=\"1\" class=\"dataframe\">\n",
       "  <thead>\n",
       "    <tr style=\"text-align: right;\">\n",
       "      <th></th>\n",
       "      <th>id</th>\n",
       "      <th>title_levenshtein</th>\n",
       "      <th>abstract_levenshtein</th>\n",
       "      <th>authors_levenshtein</th>\n",
       "    </tr>\n",
       "  </thead>\n",
       "  <tbody>\n",
       "    <tr>\n",
       "      <th>0</th>\n",
       "      <td>2305.00604</td>\n",
       "      <td>0.0</td>\n",
       "      <td>0.0</td>\n",
       "      <td>22.285714</td>\n",
       "    </tr>\n",
       "    <tr>\n",
       "      <th>2</th>\n",
       "      <td>2305.00607</td>\n",
       "      <td>0.0</td>\n",
       "      <td>0.0</td>\n",
       "      <td>16.666667</td>\n",
       "    </tr>\n",
       "    <tr>\n",
       "      <th>4</th>\n",
       "      <td>2305.00617</td>\n",
       "      <td>0.0</td>\n",
       "      <td>141.0</td>\n",
       "      <td>25.000000</td>\n",
       "    </tr>\n",
       "    <tr>\n",
       "      <th>5</th>\n",
       "      <td>2305.00618</td>\n",
       "      <td>0.0</td>\n",
       "      <td>0.0</td>\n",
       "      <td>22.333333</td>\n",
       "    </tr>\n",
       "    <tr>\n",
       "      <th>7</th>\n",
       "      <td>2305.00620</td>\n",
       "      <td>0.0</td>\n",
       "      <td>692.0</td>\n",
       "      <td>14.800000</td>\n",
       "    </tr>\n",
       "    <tr>\n",
       "      <th>...</th>\n",
       "      <td>...</td>\n",
       "      <td>...</td>\n",
       "      <td>...</td>\n",
       "      <td>...</td>\n",
       "    </tr>\n",
       "    <tr>\n",
       "      <th>9942</th>\n",
       "      <td>2306.05419</td>\n",
       "      <td>0.0</td>\n",
       "      <td>746.0</td>\n",
       "      <td>27.000000</td>\n",
       "    </tr>\n",
       "    <tr>\n",
       "      <th>9943</th>\n",
       "      <td>2306.05421</td>\n",
       "      <td>0.0</td>\n",
       "      <td>521.0</td>\n",
       "      <td>17.333333</td>\n",
       "    </tr>\n",
       "    <tr>\n",
       "      <th>9944</th>\n",
       "      <td>2306.05423</td>\n",
       "      <td>0.0</td>\n",
       "      <td>0.0</td>\n",
       "      <td>16.200000</td>\n",
       "    </tr>\n",
       "    <tr>\n",
       "      <th>9946</th>\n",
       "      <td>2306.05427</td>\n",
       "      <td>0.0</td>\n",
       "      <td>422.0</td>\n",
       "      <td>18.000000</td>\n",
       "    </tr>\n",
       "    <tr>\n",
       "      <th>9947</th>\n",
       "      <td>2306.05428</td>\n",
       "      <td>0.0</td>\n",
       "      <td>0.0</td>\n",
       "      <td>24.857143</td>\n",
       "    </tr>\n",
       "  </tbody>\n",
       "</table>\n",
       "<p>7224 rows × 4 columns</p>\n",
       "</div>"
      ],
      "text/plain": [
       "              id  title_levenshtein  abstract_levenshtein  authors_levenshtein\n",
       "0     2305.00604                0.0                   0.0            22.285714\n",
       "2     2305.00607                0.0                   0.0            16.666667\n",
       "4     2305.00617                0.0                 141.0            25.000000\n",
       "5     2305.00618                0.0                   0.0            22.333333\n",
       "7     2305.00620                0.0                 692.0            14.800000\n",
       "...          ...                ...                   ...                  ...\n",
       "9942  2306.05419                0.0                 746.0            27.000000\n",
       "9943  2306.05421                0.0                 521.0            17.333333\n",
       "9944  2306.05423                0.0                   0.0            16.200000\n",
       "9946  2306.05427                0.0                 422.0            18.000000\n",
       "9947  2306.05428                0.0                   0.0            24.857143\n",
       "\n",
       "[7224 rows x 4 columns]"
      ]
     },
     "metadata": {},
     "output_type": "display_data"
    },
    {
     "name": "stdout",
     "output_type": "stream",
     "text": [
      "Length of data: 1726\n"
     ]
    },
    {
     "data": {
      "text/html": [
       "<div>\n",
       "<style scoped>\n",
       "    .dataframe tbody tr th:only-of-type {\n",
       "        vertical-align: middle;\n",
       "    }\n",
       "\n",
       "    .dataframe tbody tr th {\n",
       "        vertical-align: top;\n",
       "    }\n",
       "\n",
       "    .dataframe thead th {\n",
       "        text-align: right;\n",
       "    }\n",
       "</style>\n",
       "<table border=\"1\" class=\"dataframe\">\n",
       "  <thead>\n",
       "    <tr style=\"text-align: right;\">\n",
       "      <th></th>\n",
       "      <th>Name</th>\n",
       "      <th>Mean</th>\n",
       "      <th>Count</th>\n",
       "      <th>Cosim_Values</th>\n",
       "    </tr>\n",
       "  </thead>\n",
       "  <tbody>\n",
       "    <tr>\n",
       "      <th>0</th>\n",
       "      <td>mathematics</td>\n",
       "      <td>0.528710</td>\n",
       "      <td>1726</td>\n",
       "      <td>[0.4215032589683878, 0.39318921606835533, 0.0,...</td>\n",
       "    </tr>\n",
       "    <tr>\n",
       "      <th>1</th>\n",
       "      <td>economics</td>\n",
       "      <td>0.538987</td>\n",
       "      <td>110</td>\n",
       "      <td>[0.7826176108015402, 0.0, 0.6252434790548467, ...</td>\n",
       "    </tr>\n",
       "    <tr>\n",
       "      <th>2</th>\n",
       "      <td>quantitative_biology</td>\n",
       "      <td>0.539134</td>\n",
       "      <td>195</td>\n",
       "      <td>[0.5205144185370245, 0.3607601419645778, 0.532...</td>\n",
       "    </tr>\n",
       "    <tr>\n",
       "      <th>3</th>\n",
       "      <td>statistics</td>\n",
       "      <td>0.543196</td>\n",
       "      <td>603</td>\n",
       "      <td>[0.4215032589683878, 0.6845831067637522, 0.488...</td>\n",
       "    </tr>\n",
       "    <tr>\n",
       "      <th>4</th>\n",
       "      <td>computer_science</td>\n",
       "      <td>0.544850</td>\n",
       "      <td>6447</td>\n",
       "      <td>[0.4215032589683878, 0.5228824206263172, 0.616...</td>\n",
       "    </tr>\n",
       "    <tr>\n",
       "      <th>5</th>\n",
       "      <td>electric_engineering_and_systems_science</td>\n",
       "      <td>0.545318</td>\n",
       "      <td>1173</td>\n",
       "      <td>[0.7714343585409058, 0.5515016707082838, 0.458...</td>\n",
       "    </tr>\n",
       "    <tr>\n",
       "      <th>6</th>\n",
       "      <td>quantitative_finance</td>\n",
       "      <td>0.566968</td>\n",
       "      <td>91</td>\n",
       "      <td>[0.6739212881778495, 0.5768704940908814, 0.525...</td>\n",
       "    </tr>\n",
       "    <tr>\n",
       "      <th>7</th>\n",
       "      <td>physics</td>\n",
       "      <td>0.574988</td>\n",
       "      <td>3259</td>\n",
       "      <td>[0.583989488161111, 0.583989488161111, 0.59629...</td>\n",
       "    </tr>\n",
       "  </tbody>\n",
       "</table>\n",
       "</div>"
      ],
      "text/plain": [
       "                                       Name      Mean  Count  \\\n",
       "0                               mathematics  0.528710   1726   \n",
       "1                                 economics  0.538987    110   \n",
       "2                      quantitative_biology  0.539134    195   \n",
       "3                                statistics  0.543196    603   \n",
       "4                          computer_science  0.544850   6447   \n",
       "5  electric_engineering_and_systems_science  0.545318   1173   \n",
       "6                      quantitative_finance  0.566968     91   \n",
       "7                                   physics  0.574988   3259   \n",
       "\n",
       "                                        Cosim_Values  \n",
       "0  [0.4215032589683878, 0.39318921606835533, 0.0,...  \n",
       "1  [0.7826176108015402, 0.0, 0.6252434790548467, ...  \n",
       "2  [0.5205144185370245, 0.3607601419645778, 0.532...  \n",
       "3  [0.4215032589683878, 0.6845831067637522, 0.488...  \n",
       "4  [0.4215032589683878, 0.5228824206263172, 0.616...  \n",
       "5  [0.7714343585409058, 0.5515016707082838, 0.458...  \n",
       "6  [0.6739212881778495, 0.5768704940908814, 0.525...  \n",
       "7  [0.583989488161111, 0.583989488161111, 0.59629...  "
      ]
     },
     "metadata": {},
     "output_type": "display_data"
    },
    {
     "name": "stdout",
     "output_type": "stream",
     "text": [
      "Length of data: 1114\n"
     ]
    },
    {
     "data": {
      "text/html": [
       "<div>\n",
       "<style scoped>\n",
       "    .dataframe tbody tr th:only-of-type {\n",
       "        vertical-align: middle;\n",
       "    }\n",
       "\n",
       "    .dataframe tbody tr th {\n",
       "        vertical-align: top;\n",
       "    }\n",
       "\n",
       "    .dataframe thead th {\n",
       "        text-align: right;\n",
       "    }\n",
       "</style>\n",
       "<table border=\"1\" class=\"dataframe\">\n",
       "  <thead>\n",
       "    <tr style=\"text-align: right;\">\n",
       "      <th></th>\n",
       "      <th>id</th>\n",
       "      <th>title_levenshtein</th>\n",
       "      <th>abstract_levenshtein</th>\n",
       "      <th>authors_levenshtein</th>\n",
       "    </tr>\n",
       "  </thead>\n",
       "  <tbody>\n",
       "    <tr>\n",
       "      <th>0</th>\n",
       "      <td>2305.00604</td>\n",
       "      <td>0.0</td>\n",
       "      <td>0.0</td>\n",
       "      <td>22.285714</td>\n",
       "    </tr>\n",
       "    <tr>\n",
       "      <th>1</th>\n",
       "      <td>2305.00605</td>\n",
       "      <td>0.0</td>\n",
       "      <td>0.0</td>\n",
       "      <td>25.333333</td>\n",
       "    </tr>\n",
       "    <tr>\n",
       "      <th>2</th>\n",
       "      <td>2305.00607</td>\n",
       "      <td>0.0</td>\n",
       "      <td>55.0</td>\n",
       "      <td>16.666667</td>\n",
       "    </tr>\n",
       "    <tr>\n",
       "      <th>3</th>\n",
       "      <td>2305.00616</td>\n",
       "      <td>0.0</td>\n",
       "      <td>0.0</td>\n",
       "      <td>22.500000</td>\n",
       "    </tr>\n",
       "    <tr>\n",
       "      <th>4</th>\n",
       "      <td>2305.00617</td>\n",
       "      <td>0.0</td>\n",
       "      <td>0.0</td>\n",
       "      <td>25.000000</td>\n",
       "    </tr>\n",
       "    <tr>\n",
       "      <th>...</th>\n",
       "      <td>...</td>\n",
       "      <td>...</td>\n",
       "      <td>...</td>\n",
       "      <td>...</td>\n",
       "    </tr>\n",
       "    <tr>\n",
       "      <th>1120</th>\n",
       "      <td>2305.03231</td>\n",
       "      <td>0.0</td>\n",
       "      <td>0.0</td>\n",
       "      <td>30.428571</td>\n",
       "    </tr>\n",
       "    <tr>\n",
       "      <th>1121</th>\n",
       "      <td>2305.03233</td>\n",
       "      <td>0.0</td>\n",
       "      <td>0.0</td>\n",
       "      <td>28.571429</td>\n",
       "    </tr>\n",
       "    <tr>\n",
       "      <th>1122</th>\n",
       "      <td>2305.03234</td>\n",
       "      <td>0.0</td>\n",
       "      <td>0.0</td>\n",
       "      <td>21.333333</td>\n",
       "    </tr>\n",
       "    <tr>\n",
       "      <th>1123</th>\n",
       "      <td>2305.03235</td>\n",
       "      <td>0.0</td>\n",
       "      <td>0.0</td>\n",
       "      <td>21.714286</td>\n",
       "    </tr>\n",
       "    <tr>\n",
       "      <th>1124</th>\n",
       "      <td>2305.03236</td>\n",
       "      <td>0.0</td>\n",
       "      <td>0.0</td>\n",
       "      <td>14.333333</td>\n",
       "    </tr>\n",
       "  </tbody>\n",
       "</table>\n",
       "<p>1114 rows × 4 columns</p>\n",
       "</div>"
      ],
      "text/plain": [
       "              id  title_levenshtein  abstract_levenshtein  authors_levenshtein\n",
       "0     2305.00604                0.0                   0.0            22.285714\n",
       "1     2305.00605                0.0                   0.0            25.333333\n",
       "2     2305.00607                0.0                  55.0            16.666667\n",
       "3     2305.00616                0.0                   0.0            22.500000\n",
       "4     2305.00617                0.0                   0.0            25.000000\n",
       "...          ...                ...                   ...                  ...\n",
       "1120  2305.03231                0.0                   0.0            30.428571\n",
       "1121  2305.03233                0.0                   0.0            28.571429\n",
       "1122  2305.03234                0.0                   0.0            21.333333\n",
       "1123  2305.03235                0.0                   0.0            21.714286\n",
       "1124  2305.03236                0.0                   0.0            14.333333\n",
       "\n",
       "[1114 rows x 4 columns]"
      ]
     },
     "metadata": {},
     "output_type": "display_data"
    }
   ],
   "source": [
    "import ast\n",
    "df1 = pd.read_csv(\"rq1_results.csv\")\n",
    "df1=df1.replace([np.inf,-np.inf], np.nan)\n",
    "df1=df1.dropna()\n",
    "print(\"Length of data: \" + str(len(df1['id'])))\n",
    "display(df1)\n",
    "\n",
    "df2 = pd.read_csv(\"rq2_results.csv\")\n",
    "df2=df2.replace([np.inf,-np.inf], np.nan)\n",
    "df2=df2.dropna()\n",
    "df2['Cosim_Values']=df2['Cosim_Values'].apply(ast.literal_eval)\n",
    "print(\"Length of data: \" + str(len(df2['Cosim_Values'][0])))\n",
    "display(df2)\n",
    "\n",
    "df1_gpt4 = pd.read_csv(\"rq1_results_gpt4.csv\")\n",
    "df1_gpt4=df1_gpt4.replace([np.inf,-np.inf], np.nan)\n",
    "df1_gpt4=df1_gpt4.dropna()\n",
    "print(\"Length of data: \" + str(len(df1_gpt4['id'])))\n",
    "display(df1_gpt4)"
   ]
  },
  {
   "cell_type": "code",
   "execution_count": 3,
   "metadata": {},
   "outputs": [
    {
     "data": {
      "text/html": [
       "<div>\n",
       "<style scoped>\n",
       "    .dataframe tbody tr th:only-of-type {\n",
       "        vertical-align: middle;\n",
       "    }\n",
       "\n",
       "    .dataframe tbody tr th {\n",
       "        vertical-align: top;\n",
       "    }\n",
       "\n",
       "    .dataframe thead th {\n",
       "        text-align: right;\n",
       "    }\n",
       "</style>\n",
       "<table border=\"1\" class=\"dataframe\">\n",
       "  <thead>\n",
       "    <tr style=\"text-align: right;\">\n",
       "      <th></th>\n",
       "      <th>Component</th>\n",
       "      <th>alpha</th>\n",
       "      <th>beta</th>\n",
       "      <th>Expected Success Probability</th>\n",
       "      <th>Variance of Success Probability</th>\n",
       "      <th>95.0%-level Credible Interval</th>\n",
       "      <th>Threshold</th>\n",
       "    </tr>\n",
       "  </thead>\n",
       "  <tbody>\n",
       "    <tr>\n",
       "      <th>0</th>\n",
       "      <td>title_levenshtein</td>\n",
       "      <td>7042</td>\n",
       "      <td>184</td>\n",
       "      <td>0.9745</td>\n",
       "      <td>0.000003</td>\n",
       "      <td>[0.9708, 0.978]</td>\n",
       "      <td>[1, 200, 10]</td>\n",
       "    </tr>\n",
       "    <tr>\n",
       "      <th>1</th>\n",
       "      <td>abstract_levenshtein</td>\n",
       "      <td>4377</td>\n",
       "      <td>2849</td>\n",
       "      <td>0.6057</td>\n",
       "      <td>0.000033</td>\n",
       "      <td>[0.5944, 0.617]</td>\n",
       "      <td>[1, 200, 10]</td>\n",
       "    </tr>\n",
       "    <tr>\n",
       "      <th>2</th>\n",
       "      <td>authors_levenshtein</td>\n",
       "      <td>34</td>\n",
       "      <td>7192</td>\n",
       "      <td>0.0047</td>\n",
       "      <td>0.000001</td>\n",
       "      <td>[0.0033, 0.0064]</td>\n",
       "      <td>[1, 200, 10]</td>\n",
       "    </tr>\n",
       "    <tr>\n",
       "      <th>0</th>\n",
       "      <td>title_levenshtein</td>\n",
       "      <td>7083</td>\n",
       "      <td>143</td>\n",
       "      <td>0.9802</td>\n",
       "      <td>0.000003</td>\n",
       "      <td>[0.9769, 0.9833]</td>\n",
       "      <td>[5, 300, 20]</td>\n",
       "    </tr>\n",
       "    <tr>\n",
       "      <th>1</th>\n",
       "      <td>abstract_levenshtein</td>\n",
       "      <td>4876</td>\n",
       "      <td>2350</td>\n",
       "      <td>0.6748</td>\n",
       "      <td>0.000030</td>\n",
       "      <td>[0.6639, 0.6855]</td>\n",
       "      <td>[5, 300, 20]</td>\n",
       "    </tr>\n",
       "    <tr>\n",
       "      <th>2</th>\n",
       "      <td>authors_levenshtein</td>\n",
       "      <td>2681</td>\n",
       "      <td>4545</td>\n",
       "      <td>0.3710</td>\n",
       "      <td>0.000032</td>\n",
       "      <td>[0.3599, 0.3822]</td>\n",
       "      <td>[5, 300, 20]</td>\n",
       "    </tr>\n",
       "    <tr>\n",
       "      <th>0</th>\n",
       "      <td>title_levenshtein</td>\n",
       "      <td>7115</td>\n",
       "      <td>111</td>\n",
       "      <td>0.9846</td>\n",
       "      <td>0.000002</td>\n",
       "      <td>[0.9817, 0.9873]</td>\n",
       "      <td>[10, 400, 30]</td>\n",
       "    </tr>\n",
       "    <tr>\n",
       "      <th>1</th>\n",
       "      <td>abstract_levenshtein</td>\n",
       "      <td>5396</td>\n",
       "      <td>1830</td>\n",
       "      <td>0.7467</td>\n",
       "      <td>0.000026</td>\n",
       "      <td>[0.7367, 0.7567]</td>\n",
       "      <td>[10, 400, 30]</td>\n",
       "    </tr>\n",
       "    <tr>\n",
       "      <th>2</th>\n",
       "      <td>authors_levenshtein</td>\n",
       "      <td>6626</td>\n",
       "      <td>600</td>\n",
       "      <td>0.9170</td>\n",
       "      <td>0.000011</td>\n",
       "      <td>[0.9105, 0.9232]</td>\n",
       "      <td>[10, 400, 30]</td>\n",
       "    </tr>\n",
       "  </tbody>\n",
       "</table>\n",
       "</div>"
      ],
      "text/plain": [
       "              Component  alpha  beta  Expected Success Probability  \\\n",
       "0     title_levenshtein   7042   184                        0.9745   \n",
       "1  abstract_levenshtein   4377  2849                        0.6057   \n",
       "2   authors_levenshtein     34  7192                        0.0047   \n",
       "0     title_levenshtein   7083   143                        0.9802   \n",
       "1  abstract_levenshtein   4876  2350                        0.6748   \n",
       "2   authors_levenshtein   2681  4545                        0.3710   \n",
       "0     title_levenshtein   7115   111                        0.9846   \n",
       "1  abstract_levenshtein   5396  1830                        0.7467   \n",
       "2   authors_levenshtein   6626   600                        0.9170   \n",
       "\n",
       "   Variance of Success Probability 95.0%-level Credible Interval  \\\n",
       "0                         0.000003               [0.9708, 0.978]   \n",
       "1                         0.000033               [0.5944, 0.617]   \n",
       "2                         0.000001              [0.0033, 0.0064]   \n",
       "0                         0.000003              [0.9769, 0.9833]   \n",
       "1                         0.000030              [0.6639, 0.6855]   \n",
       "2                         0.000032              [0.3599, 0.3822]   \n",
       "0                         0.000002              [0.9817, 0.9873]   \n",
       "1                         0.000026              [0.7367, 0.7567]   \n",
       "2                         0.000011              [0.9105, 0.9232]   \n",
       "\n",
       "       Threshold  \n",
       "0   [1, 200, 10]  \n",
       "1   [1, 200, 10]  \n",
       "2   [1, 200, 10]  \n",
       "0   [5, 300, 20]  \n",
       "1   [5, 300, 20]  \n",
       "2   [5, 300, 20]  \n",
       "0  [10, 400, 30]  \n",
       "1  [10, 400, 30]  \n",
       "2  [10, 400, 30]  "
      ]
     },
     "metadata": {},
     "output_type": "display_data"
    },
    {
     "data": {
      "application/vnd.plotly.v1+json": {
       "config": {
        "plotlyServerURL": "https://plot.ly"
       },
       "data": [
        {
         "alignmentgroup": "True",
         "error_y": {
          "array": [
           0.0034999999999999476,
           0.011299999999999977,
           0.0017000000000000001,
           0.0030999999999999917,
           0.010700000000000043,
           0.011199999999999988,
           0.0026999999999999247,
           0.010000000000000009,
           0.006199999999999983
          ],
          "arrayminus": [
           0.0037000000000000366,
           0.011299999999999977,
           0.0014000000000000002,
           0.0032999999999999696,
           0.01089999999999991,
           0.011099999999999999,
           0.0029000000000000137,
           0.010000000000000009,
           0.006500000000000061
          ],
          "symmetric": false,
          "type": "data"
         },
         "hovertemplate": "Threshold=[1, 200, 10]<br>Component=%{x}<br>Expected Success Probability=%{y}<br>text=%{text}<extra></extra>",
         "legendgroup": "[1, 200, 10]",
         "marker": {
          "color": "#636efa",
          "pattern": {
           "shape": ""
          }
         },
         "name": "[1, 200, 10]",
         "offsetgroup": "[1, 200, 10]",
         "orientation": "v",
         "showlegend": true,
         "text": [
          "97.45%",
          "60.57%",
          "0.47%"
         ],
         "textfont": {
          "size": 12
         },
         "textposition": "outside",
         "type": "bar",
         "x": [
          "title_levenshtein",
          "abstract_levenshtein",
          "authors_levenshtein"
         ],
         "xaxis": "x",
         "y": [
          0.9745,
          0.6057,
          0.0047
         ],
         "yaxis": "y"
        },
        {
         "alignmentgroup": "True",
         "error_y": {
          "array": [
           0.0034999999999999476,
           0.011299999999999977,
           0.0017000000000000001,
           0.0030999999999999917,
           0.010700000000000043,
           0.011199999999999988,
           0.0026999999999999247,
           0.010000000000000009,
           0.006199999999999983
          ],
          "arrayminus": [
           0.0037000000000000366,
           0.011299999999999977,
           0.0014000000000000002,
           0.0032999999999999696,
           0.01089999999999991,
           0.011099999999999999,
           0.0029000000000000137,
           0.010000000000000009,
           0.006500000000000061
          ],
          "symmetric": false,
          "type": "data"
         },
         "hovertemplate": "Threshold=[5, 300, 20]<br>Component=%{x}<br>Expected Success Probability=%{y}<br>text=%{text}<extra></extra>",
         "legendgroup": "[5, 300, 20]",
         "marker": {
          "color": "#EF553B",
          "pattern": {
           "shape": ""
          }
         },
         "name": "[5, 300, 20]",
         "offsetgroup": "[5, 300, 20]",
         "orientation": "v",
         "showlegend": true,
         "text": [
          "98.02%",
          "67.48%",
          "37.10%"
         ],
         "textfont": {
          "size": 12
         },
         "textposition": "outside",
         "type": "bar",
         "x": [
          "title_levenshtein",
          "abstract_levenshtein",
          "authors_levenshtein"
         ],
         "xaxis": "x",
         "y": [
          0.9802,
          0.6748,
          0.371
         ],
         "yaxis": "y"
        },
        {
         "alignmentgroup": "True",
         "error_y": {
          "array": [
           0.0034999999999999476,
           0.011299999999999977,
           0.0017000000000000001,
           0.0030999999999999917,
           0.010700000000000043,
           0.011199999999999988,
           0.0026999999999999247,
           0.010000000000000009,
           0.006199999999999983
          ],
          "arrayminus": [
           0.0037000000000000366,
           0.011299999999999977,
           0.0014000000000000002,
           0.0032999999999999696,
           0.01089999999999991,
           0.011099999999999999,
           0.0029000000000000137,
           0.010000000000000009,
           0.006500000000000061
          ],
          "symmetric": false,
          "type": "data"
         },
         "hovertemplate": "Threshold=[10, 400, 30]<br>Component=%{x}<br>Expected Success Probability=%{y}<br>text=%{text}<extra></extra>",
         "legendgroup": "[10, 400, 30]",
         "marker": {
          "color": "#00cc96",
          "pattern": {
           "shape": ""
          }
         },
         "name": "[10, 400, 30]",
         "offsetgroup": "[10, 400, 30]",
         "orientation": "v",
         "showlegend": true,
         "text": [
          "98.46%",
          "74.67%",
          "91.70%"
         ],
         "textfont": {
          "size": 12
         },
         "textposition": "outside",
         "type": "bar",
         "x": [
          "title_levenshtein",
          "abstract_levenshtein",
          "authors_levenshtein"
         ],
         "xaxis": "x",
         "y": [
          0.9846,
          0.7467,
          0.917
         ],
         "yaxis": "y"
        }
       ],
       "layout": {
        "barmode": "group",
        "height": 600,
        "legend": {
         "title": {
          "text": "Threshold"
         },
         "tracegroupgap": 0
        },
        "margin": {
         "t": 60
        },
        "template": {
         "data": {
          "bar": [
           {
            "error_x": {
             "color": "#2a3f5f"
            },
            "error_y": {
             "color": "#2a3f5f"
            },
            "marker": {
             "line": {
              "color": "#E5ECF6",
              "width": 0.5
             },
             "pattern": {
              "fillmode": "overlay",
              "size": 10,
              "solidity": 0.2
             }
            },
            "type": "bar"
           }
          ],
          "barpolar": [
           {
            "marker": {
             "line": {
              "color": "#E5ECF6",
              "width": 0.5
             },
             "pattern": {
              "fillmode": "overlay",
              "size": 10,
              "solidity": 0.2
             }
            },
            "type": "barpolar"
           }
          ],
          "carpet": [
           {
            "aaxis": {
             "endlinecolor": "#2a3f5f",
             "gridcolor": "white",
             "linecolor": "white",
             "minorgridcolor": "white",
             "startlinecolor": "#2a3f5f"
            },
            "baxis": {
             "endlinecolor": "#2a3f5f",
             "gridcolor": "white",
             "linecolor": "white",
             "minorgridcolor": "white",
             "startlinecolor": "#2a3f5f"
            },
            "type": "carpet"
           }
          ],
          "choropleth": [
           {
            "colorbar": {
             "outlinewidth": 0,
             "ticks": ""
            },
            "type": "choropleth"
           }
          ],
          "contour": [
           {
            "colorbar": {
             "outlinewidth": 0,
             "ticks": ""
            },
            "colorscale": [
             [
              0,
              "#0d0887"
             ],
             [
              0.1111111111111111,
              "#46039f"
             ],
             [
              0.2222222222222222,
              "#7201a8"
             ],
             [
              0.3333333333333333,
              "#9c179e"
             ],
             [
              0.4444444444444444,
              "#bd3786"
             ],
             [
              0.5555555555555556,
              "#d8576b"
             ],
             [
              0.6666666666666666,
              "#ed7953"
             ],
             [
              0.7777777777777778,
              "#fb9f3a"
             ],
             [
              0.8888888888888888,
              "#fdca26"
             ],
             [
              1,
              "#f0f921"
             ]
            ],
            "type": "contour"
           }
          ],
          "contourcarpet": [
           {
            "colorbar": {
             "outlinewidth": 0,
             "ticks": ""
            },
            "type": "contourcarpet"
           }
          ],
          "heatmap": [
           {
            "colorbar": {
             "outlinewidth": 0,
             "ticks": ""
            },
            "colorscale": [
             [
              0,
              "#0d0887"
             ],
             [
              0.1111111111111111,
              "#46039f"
             ],
             [
              0.2222222222222222,
              "#7201a8"
             ],
             [
              0.3333333333333333,
              "#9c179e"
             ],
             [
              0.4444444444444444,
              "#bd3786"
             ],
             [
              0.5555555555555556,
              "#d8576b"
             ],
             [
              0.6666666666666666,
              "#ed7953"
             ],
             [
              0.7777777777777778,
              "#fb9f3a"
             ],
             [
              0.8888888888888888,
              "#fdca26"
             ],
             [
              1,
              "#f0f921"
             ]
            ],
            "type": "heatmap"
           }
          ],
          "heatmapgl": [
           {
            "colorbar": {
             "outlinewidth": 0,
             "ticks": ""
            },
            "colorscale": [
             [
              0,
              "#0d0887"
             ],
             [
              0.1111111111111111,
              "#46039f"
             ],
             [
              0.2222222222222222,
              "#7201a8"
             ],
             [
              0.3333333333333333,
              "#9c179e"
             ],
             [
              0.4444444444444444,
              "#bd3786"
             ],
             [
              0.5555555555555556,
              "#d8576b"
             ],
             [
              0.6666666666666666,
              "#ed7953"
             ],
             [
              0.7777777777777778,
              "#fb9f3a"
             ],
             [
              0.8888888888888888,
              "#fdca26"
             ],
             [
              1,
              "#f0f921"
             ]
            ],
            "type": "heatmapgl"
           }
          ],
          "histogram": [
           {
            "marker": {
             "pattern": {
              "fillmode": "overlay",
              "size": 10,
              "solidity": 0.2
             }
            },
            "type": "histogram"
           }
          ],
          "histogram2d": [
           {
            "colorbar": {
             "outlinewidth": 0,
             "ticks": ""
            },
            "colorscale": [
             [
              0,
              "#0d0887"
             ],
             [
              0.1111111111111111,
              "#46039f"
             ],
             [
              0.2222222222222222,
              "#7201a8"
             ],
             [
              0.3333333333333333,
              "#9c179e"
             ],
             [
              0.4444444444444444,
              "#bd3786"
             ],
             [
              0.5555555555555556,
              "#d8576b"
             ],
             [
              0.6666666666666666,
              "#ed7953"
             ],
             [
              0.7777777777777778,
              "#fb9f3a"
             ],
             [
              0.8888888888888888,
              "#fdca26"
             ],
             [
              1,
              "#f0f921"
             ]
            ],
            "type": "histogram2d"
           }
          ],
          "histogram2dcontour": [
           {
            "colorbar": {
             "outlinewidth": 0,
             "ticks": ""
            },
            "colorscale": [
             [
              0,
              "#0d0887"
             ],
             [
              0.1111111111111111,
              "#46039f"
             ],
             [
              0.2222222222222222,
              "#7201a8"
             ],
             [
              0.3333333333333333,
              "#9c179e"
             ],
             [
              0.4444444444444444,
              "#bd3786"
             ],
             [
              0.5555555555555556,
              "#d8576b"
             ],
             [
              0.6666666666666666,
              "#ed7953"
             ],
             [
              0.7777777777777778,
              "#fb9f3a"
             ],
             [
              0.8888888888888888,
              "#fdca26"
             ],
             [
              1,
              "#f0f921"
             ]
            ],
            "type": "histogram2dcontour"
           }
          ],
          "mesh3d": [
           {
            "colorbar": {
             "outlinewidth": 0,
             "ticks": ""
            },
            "type": "mesh3d"
           }
          ],
          "parcoords": [
           {
            "line": {
             "colorbar": {
              "outlinewidth": 0,
              "ticks": ""
             }
            },
            "type": "parcoords"
           }
          ],
          "pie": [
           {
            "automargin": true,
            "type": "pie"
           }
          ],
          "scatter": [
           {
            "fillpattern": {
             "fillmode": "overlay",
             "size": 10,
             "solidity": 0.2
            },
            "type": "scatter"
           }
          ],
          "scatter3d": [
           {
            "line": {
             "colorbar": {
              "outlinewidth": 0,
              "ticks": ""
             }
            },
            "marker": {
             "colorbar": {
              "outlinewidth": 0,
              "ticks": ""
             }
            },
            "type": "scatter3d"
           }
          ],
          "scattercarpet": [
           {
            "marker": {
             "colorbar": {
              "outlinewidth": 0,
              "ticks": ""
             }
            },
            "type": "scattercarpet"
           }
          ],
          "scattergeo": [
           {
            "marker": {
             "colorbar": {
              "outlinewidth": 0,
              "ticks": ""
             }
            },
            "type": "scattergeo"
           }
          ],
          "scattergl": [
           {
            "marker": {
             "colorbar": {
              "outlinewidth": 0,
              "ticks": ""
             }
            },
            "type": "scattergl"
           }
          ],
          "scattermapbox": [
           {
            "marker": {
             "colorbar": {
              "outlinewidth": 0,
              "ticks": ""
             }
            },
            "type": "scattermapbox"
           }
          ],
          "scatterpolar": [
           {
            "marker": {
             "colorbar": {
              "outlinewidth": 0,
              "ticks": ""
             }
            },
            "type": "scatterpolar"
           }
          ],
          "scatterpolargl": [
           {
            "marker": {
             "colorbar": {
              "outlinewidth": 0,
              "ticks": ""
             }
            },
            "type": "scatterpolargl"
           }
          ],
          "scatterternary": [
           {
            "marker": {
             "colorbar": {
              "outlinewidth": 0,
              "ticks": ""
             }
            },
            "type": "scatterternary"
           }
          ],
          "surface": [
           {
            "colorbar": {
             "outlinewidth": 0,
             "ticks": ""
            },
            "colorscale": [
             [
              0,
              "#0d0887"
             ],
             [
              0.1111111111111111,
              "#46039f"
             ],
             [
              0.2222222222222222,
              "#7201a8"
             ],
             [
              0.3333333333333333,
              "#9c179e"
             ],
             [
              0.4444444444444444,
              "#bd3786"
             ],
             [
              0.5555555555555556,
              "#d8576b"
             ],
             [
              0.6666666666666666,
              "#ed7953"
             ],
             [
              0.7777777777777778,
              "#fb9f3a"
             ],
             [
              0.8888888888888888,
              "#fdca26"
             ],
             [
              1,
              "#f0f921"
             ]
            ],
            "type": "surface"
           }
          ],
          "table": [
           {
            "cells": {
             "fill": {
              "color": "#EBF0F8"
             },
             "line": {
              "color": "white"
             }
            },
            "header": {
             "fill": {
              "color": "#C8D4E3"
             },
             "line": {
              "color": "white"
             }
            },
            "type": "table"
           }
          ]
         },
         "layout": {
          "annotationdefaults": {
           "arrowcolor": "#2a3f5f",
           "arrowhead": 0,
           "arrowwidth": 1
          },
          "autotypenumbers": "strict",
          "coloraxis": {
           "colorbar": {
            "outlinewidth": 0,
            "ticks": ""
           }
          },
          "colorscale": {
           "diverging": [
            [
             0,
             "#8e0152"
            ],
            [
             0.1,
             "#c51b7d"
            ],
            [
             0.2,
             "#de77ae"
            ],
            [
             0.3,
             "#f1b6da"
            ],
            [
             0.4,
             "#fde0ef"
            ],
            [
             0.5,
             "#f7f7f7"
            ],
            [
             0.6,
             "#e6f5d0"
            ],
            [
             0.7,
             "#b8e186"
            ],
            [
             0.8,
             "#7fbc41"
            ],
            [
             0.9,
             "#4d9221"
            ],
            [
             1,
             "#276419"
            ]
           ],
           "sequential": [
            [
             0,
             "#0d0887"
            ],
            [
             0.1111111111111111,
             "#46039f"
            ],
            [
             0.2222222222222222,
             "#7201a8"
            ],
            [
             0.3333333333333333,
             "#9c179e"
            ],
            [
             0.4444444444444444,
             "#bd3786"
            ],
            [
             0.5555555555555556,
             "#d8576b"
            ],
            [
             0.6666666666666666,
             "#ed7953"
            ],
            [
             0.7777777777777778,
             "#fb9f3a"
            ],
            [
             0.8888888888888888,
             "#fdca26"
            ],
            [
             1,
             "#f0f921"
            ]
           ],
           "sequentialminus": [
            [
             0,
             "#0d0887"
            ],
            [
             0.1111111111111111,
             "#46039f"
            ],
            [
             0.2222222222222222,
             "#7201a8"
            ],
            [
             0.3333333333333333,
             "#9c179e"
            ],
            [
             0.4444444444444444,
             "#bd3786"
            ],
            [
             0.5555555555555556,
             "#d8576b"
            ],
            [
             0.6666666666666666,
             "#ed7953"
            ],
            [
             0.7777777777777778,
             "#fb9f3a"
            ],
            [
             0.8888888888888888,
             "#fdca26"
            ],
            [
             1,
             "#f0f921"
            ]
           ]
          },
          "colorway": [
           "#636efa",
           "#EF553B",
           "#00cc96",
           "#ab63fa",
           "#FFA15A",
           "#19d3f3",
           "#FF6692",
           "#B6E880",
           "#FF97FF",
           "#FECB52"
          ],
          "font": {
           "color": "#2a3f5f"
          },
          "geo": {
           "bgcolor": "white",
           "lakecolor": "white",
           "landcolor": "#E5ECF6",
           "showlakes": true,
           "showland": true,
           "subunitcolor": "white"
          },
          "hoverlabel": {
           "align": "left"
          },
          "hovermode": "closest",
          "mapbox": {
           "style": "light"
          },
          "paper_bgcolor": "white",
          "plot_bgcolor": "#E5ECF6",
          "polar": {
           "angularaxis": {
            "gridcolor": "white",
            "linecolor": "white",
            "ticks": ""
           },
           "bgcolor": "#E5ECF6",
           "radialaxis": {
            "gridcolor": "white",
            "linecolor": "white",
            "ticks": ""
           }
          },
          "scene": {
           "xaxis": {
            "backgroundcolor": "#E5ECF6",
            "gridcolor": "white",
            "gridwidth": 2,
            "linecolor": "white",
            "showbackground": true,
            "ticks": "",
            "zerolinecolor": "white"
           },
           "yaxis": {
            "backgroundcolor": "#E5ECF6",
            "gridcolor": "white",
            "gridwidth": 2,
            "linecolor": "white",
            "showbackground": true,
            "ticks": "",
            "zerolinecolor": "white"
           },
           "zaxis": {
            "backgroundcolor": "#E5ECF6",
            "gridcolor": "white",
            "gridwidth": 2,
            "linecolor": "white",
            "showbackground": true,
            "ticks": "",
            "zerolinecolor": "white"
           }
          },
          "shapedefaults": {
           "line": {
            "color": "#2a3f5f"
           }
          },
          "ternary": {
           "aaxis": {
            "gridcolor": "white",
            "linecolor": "white",
            "ticks": ""
           },
           "baxis": {
            "gridcolor": "white",
            "linecolor": "white",
            "ticks": ""
           },
           "bgcolor": "#E5ECF6",
           "caxis": {
            "gridcolor": "white",
            "linecolor": "white",
            "ticks": ""
           }
          },
          "title": {
           "x": 0.05
          },
          "xaxis": {
           "automargin": true,
           "gridcolor": "white",
           "linecolor": "white",
           "ticks": "",
           "title": {
            "standoff": 15
           },
           "zerolinecolor": "white",
           "zerolinewidth": 2
          },
          "yaxis": {
           "automargin": true,
           "gridcolor": "white",
           "linecolor": "white",
           "ticks": "",
           "title": {
            "standoff": 15
           },
           "zerolinecolor": "white",
           "zerolinewidth": 2
          }
         }
        },
        "title": {
         "text": "Expected Success Probability with 95.0% Confidence Level",
         "x": 0.5
        },
        "width": 1200,
        "xaxis": {
         "anchor": "y",
         "domain": [
          0,
          1
         ],
         "title": {
          "text": "Component"
         }
        },
        "yaxis": {
         "anchor": "x",
         "domain": [
          0,
          1
         ],
         "dtick": 0.2,
         "range": [
          0,
          1.1
         ],
         "title": {
          "text": "Expected Success Probability"
         }
        }
       }
      }
     },
     "metadata": {},
     "output_type": "display_data"
    }
   ],
   "source": [
    "df=df1[['title_levenshtein', 'abstract_levenshtein', 'authors_levenshtein']]\n",
    "df=df.to_dict('list')\n",
    "threshold=[[1, 200, 10], [5, 300, 20], [10, 400, 30]]\n",
    "alphalevel=0.05\n",
    "alpha=[1]*3\n",
    "beta=[1]*3\n",
    "result = Bayes(df, threshold, alpha, beta, alphalevel)\n",
    "display(result.res)\n",
    "result.Plot_Bayes(yrange=[0,1.1, 0.2], height=600)"
   ]
  },
  {
   "cell_type": "code",
   "execution_count": 4,
   "metadata": {},
   "outputs": [
    {
     "data": {
      "text/html": [
       "<div>\n",
       "<style scoped>\n",
       "    .dataframe tbody tr th:only-of-type {\n",
       "        vertical-align: middle;\n",
       "    }\n",
       "\n",
       "    .dataframe tbody tr th {\n",
       "        vertical-align: top;\n",
       "    }\n",
       "\n",
       "    .dataframe thead th {\n",
       "        text-align: right;\n",
       "    }\n",
       "</style>\n",
       "<table border=\"1\" class=\"dataframe\">\n",
       "  <thead>\n",
       "    <tr style=\"text-align: right;\">\n",
       "      <th></th>\n",
       "      <th>Component</th>\n",
       "      <th>alpha</th>\n",
       "      <th>beta</th>\n",
       "      <th>Expected Success Probability</th>\n",
       "      <th>Variance of Success Probability</th>\n",
       "      <th>95.0%-level Credible Interval</th>\n",
       "      <th>Threshold</th>\n",
       "    </tr>\n",
       "  </thead>\n",
       "  <tbody>\n",
       "    <tr>\n",
       "      <th>0</th>\n",
       "      <td>mathematics</td>\n",
       "      <td>1601</td>\n",
       "      <td>127</td>\n",
       "      <td>0.9265</td>\n",
       "      <td>0.000039</td>\n",
       "      <td>[0.9137, 0.9383]</td>\n",
       "      <td>[0.2, 0.2, 0.2, 0.2, 0.2, 0.2, 0.2, 0.2]</td>\n",
       "    </tr>\n",
       "    <tr>\n",
       "      <th>1</th>\n",
       "      <td>economics</td>\n",
       "      <td>101</td>\n",
       "      <td>11</td>\n",
       "      <td>0.9018</td>\n",
       "      <td>0.000784</td>\n",
       "      <td>[0.8406, 0.9495]</td>\n",
       "      <td>[0.2, 0.2, 0.2, 0.2, 0.2, 0.2, 0.2, 0.2]</td>\n",
       "    </tr>\n",
       "    <tr>\n",
       "      <th>2</th>\n",
       "      <td>quantitative_biology</td>\n",
       "      <td>193</td>\n",
       "      <td>4</td>\n",
       "      <td>0.9797</td>\n",
       "      <td>0.000100</td>\n",
       "      <td>[0.9559, 0.9944]</td>\n",
       "      <td>[0.2, 0.2, 0.2, 0.2, 0.2, 0.2, 0.2, 0.2]</td>\n",
       "    </tr>\n",
       "    <tr>\n",
       "      <th>3</th>\n",
       "      <td>statistics</td>\n",
       "      <td>585</td>\n",
       "      <td>20</td>\n",
       "      <td>0.9669</td>\n",
       "      <td>0.000053</td>\n",
       "      <td>[0.9513, 0.9797]</td>\n",
       "      <td>[0.2, 0.2, 0.2, 0.2, 0.2, 0.2, 0.2, 0.2]</td>\n",
       "    </tr>\n",
       "    <tr>\n",
       "      <th>4</th>\n",
       "      <td>computer_science</td>\n",
       "      <td>6297</td>\n",
       "      <td>152</td>\n",
       "      <td>0.9764</td>\n",
       "      <td>0.000004</td>\n",
       "      <td>[0.9726, 0.98]</td>\n",
       "      <td>[0.2, 0.2, 0.2, 0.2, 0.2, 0.2, 0.2, 0.2]</td>\n",
       "    </tr>\n",
       "    <tr>\n",
       "      <th>5</th>\n",
       "      <td>electric_engineering_and_systems_science</td>\n",
       "      <td>1133</td>\n",
       "      <td>42</td>\n",
       "      <td>0.9643</td>\n",
       "      <td>0.000029</td>\n",
       "      <td>[0.9529, 0.9741]</td>\n",
       "      <td>[0.2, 0.2, 0.2, 0.2, 0.2, 0.2, 0.2, 0.2]</td>\n",
       "    </tr>\n",
       "    <tr>\n",
       "      <th>6</th>\n",
       "      <td>quantitative_finance</td>\n",
       "      <td>90</td>\n",
       "      <td>3</td>\n",
       "      <td>0.9677</td>\n",
       "      <td>0.000332</td>\n",
       "      <td>[0.9237, 0.9932]</td>\n",
       "      <td>[0.2, 0.2, 0.2, 0.2, 0.2, 0.2, 0.2, 0.2]</td>\n",
       "    </tr>\n",
       "    <tr>\n",
       "      <th>7</th>\n",
       "      <td>physics</td>\n",
       "      <td>3141</td>\n",
       "      <td>120</td>\n",
       "      <td>0.9632</td>\n",
       "      <td>0.000011</td>\n",
       "      <td>[0.9565, 0.9694]</td>\n",
       "      <td>[0.2, 0.2, 0.2, 0.2, 0.2, 0.2, 0.2, 0.2]</td>\n",
       "    </tr>\n",
       "    <tr>\n",
       "      <th>0</th>\n",
       "      <td>mathematics</td>\n",
       "      <td>1470</td>\n",
       "      <td>258</td>\n",
       "      <td>0.8507</td>\n",
       "      <td>0.000073</td>\n",
       "      <td>[0.8335, 0.8671]</td>\n",
       "      <td>[0.4, 0.4, 0.4, 0.4, 0.4, 0.4, 0.4, 0.4]</td>\n",
       "    </tr>\n",
       "    <tr>\n",
       "      <th>1</th>\n",
       "      <td>economics</td>\n",
       "      <td>95</td>\n",
       "      <td>17</td>\n",
       "      <td>0.8482</td>\n",
       "      <td>0.001139</td>\n",
       "      <td>[0.7765, 0.9082]</td>\n",
       "      <td>[0.4, 0.4, 0.4, 0.4, 0.4, 0.4, 0.4, 0.4]</td>\n",
       "    </tr>\n",
       "    <tr>\n",
       "      <th>2</th>\n",
       "      <td>quantitative_biology</td>\n",
       "      <td>179</td>\n",
       "      <td>18</td>\n",
       "      <td>0.9086</td>\n",
       "      <td>0.000419</td>\n",
       "      <td>[0.8648, 0.9447]</td>\n",
       "      <td>[0.4, 0.4, 0.4, 0.4, 0.4, 0.4, 0.4, 0.4]</td>\n",
       "    </tr>\n",
       "    <tr>\n",
       "      <th>3</th>\n",
       "      <td>statistics</td>\n",
       "      <td>558</td>\n",
       "      <td>47</td>\n",
       "      <td>0.9223</td>\n",
       "      <td>0.000118</td>\n",
       "      <td>[0.8997, 0.9423]</td>\n",
       "      <td>[0.4, 0.4, 0.4, 0.4, 0.4, 0.4, 0.4, 0.4]</td>\n",
       "    </tr>\n",
       "    <tr>\n",
       "      <th>4</th>\n",
       "      <td>computer_science</td>\n",
       "      <td>5940</td>\n",
       "      <td>509</td>\n",
       "      <td>0.9211</td>\n",
       "      <td>0.000011</td>\n",
       "      <td>[0.9144, 0.9275]</td>\n",
       "      <td>[0.4, 0.4, 0.4, 0.4, 0.4, 0.4, 0.4, 0.4]</td>\n",
       "    </tr>\n",
       "    <tr>\n",
       "      <th>5</th>\n",
       "      <td>electric_engineering_and_systems_science</td>\n",
       "      <td>1075</td>\n",
       "      <td>100</td>\n",
       "      <td>0.9149</td>\n",
       "      <td>0.000066</td>\n",
       "      <td>[0.8983, 0.9302]</td>\n",
       "      <td>[0.4, 0.4, 0.4, 0.4, 0.4, 0.4, 0.4, 0.4]</td>\n",
       "    </tr>\n",
       "    <tr>\n",
       "      <th>6</th>\n",
       "      <td>quantitative_finance</td>\n",
       "      <td>87</td>\n",
       "      <td>6</td>\n",
       "      <td>0.9355</td>\n",
       "      <td>0.000642</td>\n",
       "      <td>[0.8777, 0.9757]</td>\n",
       "      <td>[0.4, 0.4, 0.4, 0.4, 0.4, 0.4, 0.4, 0.4]</td>\n",
       "    </tr>\n",
       "    <tr>\n",
       "      <th>7</th>\n",
       "      <td>physics</td>\n",
       "      <td>3015</td>\n",
       "      <td>246</td>\n",
       "      <td>0.9246</td>\n",
       "      <td>0.000021</td>\n",
       "      <td>[0.9153, 0.9334]</td>\n",
       "      <td>[0.4, 0.4, 0.4, 0.4, 0.4, 0.4, 0.4, 0.4]</td>\n",
       "    </tr>\n",
       "    <tr>\n",
       "      <th>0</th>\n",
       "      <td>mathematics</td>\n",
       "      <td>665</td>\n",
       "      <td>1063</td>\n",
       "      <td>0.3848</td>\n",
       "      <td>0.000137</td>\n",
       "      <td>[0.362, 0.4079]</td>\n",
       "      <td>[0.6, 0.6, 0.6, 0.6, 0.6, 0.6, 0.6, 0.6]</td>\n",
       "    </tr>\n",
       "    <tr>\n",
       "      <th>1</th>\n",
       "      <td>economics</td>\n",
       "      <td>47</td>\n",
       "      <td>65</td>\n",
       "      <td>0.4196</td>\n",
       "      <td>0.002155</td>\n",
       "      <td>[0.3302, 0.5118]</td>\n",
       "      <td>[0.6, 0.6, 0.6, 0.6, 0.6, 0.6, 0.6, 0.6]</td>\n",
       "    </tr>\n",
       "    <tr>\n",
       "      <th>2</th>\n",
       "      <td>quantitative_biology</td>\n",
       "      <td>58</td>\n",
       "      <td>139</td>\n",
       "      <td>0.2944</td>\n",
       "      <td>0.001049</td>\n",
       "      <td>[0.233, 0.3598]</td>\n",
       "      <td>[0.6, 0.6, 0.6, 0.6, 0.6, 0.6, 0.6, 0.6]</td>\n",
       "    </tr>\n",
       "    <tr>\n",
       "      <th>3</th>\n",
       "      <td>statistics</td>\n",
       "      <td>205</td>\n",
       "      <td>400</td>\n",
       "      <td>0.3388</td>\n",
       "      <td>0.000370</td>\n",
       "      <td>[0.3017, 0.377]</td>\n",
       "      <td>[0.6, 0.6, 0.6, 0.6, 0.6, 0.6, 0.6, 0.6]</td>\n",
       "    </tr>\n",
       "    <tr>\n",
       "      <th>4</th>\n",
       "      <td>computer_science</td>\n",
       "      <td>2132</td>\n",
       "      <td>4317</td>\n",
       "      <td>0.3306</td>\n",
       "      <td>0.000034</td>\n",
       "      <td>[0.3192, 0.3421]</td>\n",
       "      <td>[0.6, 0.6, 0.6, 0.6, 0.6, 0.6, 0.6, 0.6]</td>\n",
       "    </tr>\n",
       "    <tr>\n",
       "      <th>5</th>\n",
       "      <td>electric_engineering_and_systems_science</td>\n",
       "      <td>421</td>\n",
       "      <td>754</td>\n",
       "      <td>0.3583</td>\n",
       "      <td>0.000196</td>\n",
       "      <td>[0.3311, 0.3859]</td>\n",
       "      <td>[0.6, 0.6, 0.6, 0.6, 0.6, 0.6, 0.6, 0.6]</td>\n",
       "    </tr>\n",
       "    <tr>\n",
       "      <th>6</th>\n",
       "      <td>quantitative_finance</td>\n",
       "      <td>38</td>\n",
       "      <td>55</td>\n",
       "      <td>0.4086</td>\n",
       "      <td>0.002571</td>\n",
       "      <td>[0.3113, 0.5096]</td>\n",
       "      <td>[0.6, 0.6, 0.6, 0.6, 0.6, 0.6, 0.6, 0.6]</td>\n",
       "    </tr>\n",
       "    <tr>\n",
       "      <th>7</th>\n",
       "      <td>physics</td>\n",
       "      <td>1569</td>\n",
       "      <td>1692</td>\n",
       "      <td>0.4811</td>\n",
       "      <td>0.000077</td>\n",
       "      <td>[0.464, 0.4983]</td>\n",
       "      <td>[0.6, 0.6, 0.6, 0.6, 0.6, 0.6, 0.6, 0.6]</td>\n",
       "    </tr>\n",
       "    <tr>\n",
       "      <th>0</th>\n",
       "      <td>mathematics</td>\n",
       "      <td>20</td>\n",
       "      <td>1708</td>\n",
       "      <td>0.0116</td>\n",
       "      <td>0.000007</td>\n",
       "      <td>[0.0071, 0.0171]</td>\n",
       "      <td>[0.8, 0.8, 0.8, 0.8, 0.8, 0.8, 0.8, 0.8]</td>\n",
       "    </tr>\n",
       "    <tr>\n",
       "      <th>1</th>\n",
       "      <td>economics</td>\n",
       "      <td>4</td>\n",
       "      <td>108</td>\n",
       "      <td>0.0357</td>\n",
       "      <td>0.000305</td>\n",
       "      <td>[0.0099, 0.077]</td>\n",
       "      <td>[0.8, 0.8, 0.8, 0.8, 0.8, 0.8, 0.8, 0.8]</td>\n",
       "    </tr>\n",
       "    <tr>\n",
       "      <th>2</th>\n",
       "      <td>quantitative_biology</td>\n",
       "      <td>2</td>\n",
       "      <td>195</td>\n",
       "      <td>0.0102</td>\n",
       "      <td>0.000051</td>\n",
       "      <td>[0.0012, 0.0281]</td>\n",
       "      <td>[0.8, 0.8, 0.8, 0.8, 0.8, 0.8, 0.8, 0.8]</td>\n",
       "    </tr>\n",
       "    <tr>\n",
       "      <th>3</th>\n",
       "      <td>statistics</td>\n",
       "      <td>4</td>\n",
       "      <td>601</td>\n",
       "      <td>0.0066</td>\n",
       "      <td>0.000011</td>\n",
       "      <td>[0.0018, 0.0144]</td>\n",
       "      <td>[0.8, 0.8, 0.8, 0.8, 0.8, 0.8, 0.8, 0.8]</td>\n",
       "    </tr>\n",
       "    <tr>\n",
       "      <th>4</th>\n",
       "      <td>computer_science</td>\n",
       "      <td>28</td>\n",
       "      <td>6421</td>\n",
       "      <td>0.0043</td>\n",
       "      <td>0.000001</td>\n",
       "      <td>[0.0029, 0.0061]</td>\n",
       "      <td>[0.8, 0.8, 0.8, 0.8, 0.8, 0.8, 0.8, 0.8]</td>\n",
       "    </tr>\n",
       "    <tr>\n",
       "      <th>5</th>\n",
       "      <td>electric_engineering_and_systems_science</td>\n",
       "      <td>6</td>\n",
       "      <td>1169</td>\n",
       "      <td>0.0051</td>\n",
       "      <td>0.000004</td>\n",
       "      <td>[0.0019, 0.0099]</td>\n",
       "      <td>[0.8, 0.8, 0.8, 0.8, 0.8, 0.8, 0.8, 0.8]</td>\n",
       "    </tr>\n",
       "    <tr>\n",
       "      <th>6</th>\n",
       "      <td>quantitative_finance</td>\n",
       "      <td>4</td>\n",
       "      <td>89</td>\n",
       "      <td>0.0430</td>\n",
       "      <td>0.000438</td>\n",
       "      <td>[0.012, 0.0923]</td>\n",
       "      <td>[0.8, 0.8, 0.8, 0.8, 0.8, 0.8, 0.8, 0.8]</td>\n",
       "    </tr>\n",
       "    <tr>\n",
       "      <th>7</th>\n",
       "      <td>physics</td>\n",
       "      <td>60</td>\n",
       "      <td>3201</td>\n",
       "      <td>0.0184</td>\n",
       "      <td>0.000006</td>\n",
       "      <td>[0.0141, 0.0233]</td>\n",
       "      <td>[0.8, 0.8, 0.8, 0.8, 0.8, 0.8, 0.8, 0.8]</td>\n",
       "    </tr>\n",
       "  </tbody>\n",
       "</table>\n",
       "</div>"
      ],
      "text/plain": [
       "                                  Component  alpha  beta  \\\n",
       "0                               mathematics   1601   127   \n",
       "1                                 economics    101    11   \n",
       "2                      quantitative_biology    193     4   \n",
       "3                                statistics    585    20   \n",
       "4                          computer_science   6297   152   \n",
       "5  electric_engineering_and_systems_science   1133    42   \n",
       "6                      quantitative_finance     90     3   \n",
       "7                                   physics   3141   120   \n",
       "0                               mathematics   1470   258   \n",
       "1                                 economics     95    17   \n",
       "2                      quantitative_biology    179    18   \n",
       "3                                statistics    558    47   \n",
       "4                          computer_science   5940   509   \n",
       "5  electric_engineering_and_systems_science   1075   100   \n",
       "6                      quantitative_finance     87     6   \n",
       "7                                   physics   3015   246   \n",
       "0                               mathematics    665  1063   \n",
       "1                                 economics     47    65   \n",
       "2                      quantitative_biology     58   139   \n",
       "3                                statistics    205   400   \n",
       "4                          computer_science   2132  4317   \n",
       "5  electric_engineering_and_systems_science    421   754   \n",
       "6                      quantitative_finance     38    55   \n",
       "7                                   physics   1569  1692   \n",
       "0                               mathematics     20  1708   \n",
       "1                                 economics      4   108   \n",
       "2                      quantitative_biology      2   195   \n",
       "3                                statistics      4   601   \n",
       "4                          computer_science     28  6421   \n",
       "5  electric_engineering_and_systems_science      6  1169   \n",
       "6                      quantitative_finance      4    89   \n",
       "7                                   physics     60  3201   \n",
       "\n",
       "   Expected Success Probability  Variance of Success Probability  \\\n",
       "0                        0.9265                         0.000039   \n",
       "1                        0.9018                         0.000784   \n",
       "2                        0.9797                         0.000100   \n",
       "3                        0.9669                         0.000053   \n",
       "4                        0.9764                         0.000004   \n",
       "5                        0.9643                         0.000029   \n",
       "6                        0.9677                         0.000332   \n",
       "7                        0.9632                         0.000011   \n",
       "0                        0.8507                         0.000073   \n",
       "1                        0.8482                         0.001139   \n",
       "2                        0.9086                         0.000419   \n",
       "3                        0.9223                         0.000118   \n",
       "4                        0.9211                         0.000011   \n",
       "5                        0.9149                         0.000066   \n",
       "6                        0.9355                         0.000642   \n",
       "7                        0.9246                         0.000021   \n",
       "0                        0.3848                         0.000137   \n",
       "1                        0.4196                         0.002155   \n",
       "2                        0.2944                         0.001049   \n",
       "3                        0.3388                         0.000370   \n",
       "4                        0.3306                         0.000034   \n",
       "5                        0.3583                         0.000196   \n",
       "6                        0.4086                         0.002571   \n",
       "7                        0.4811                         0.000077   \n",
       "0                        0.0116                         0.000007   \n",
       "1                        0.0357                         0.000305   \n",
       "2                        0.0102                         0.000051   \n",
       "3                        0.0066                         0.000011   \n",
       "4                        0.0043                         0.000001   \n",
       "5                        0.0051                         0.000004   \n",
       "6                        0.0430                         0.000438   \n",
       "7                        0.0184                         0.000006   \n",
       "\n",
       "  95.0%-level Credible Interval                                 Threshold  \n",
       "0              [0.9137, 0.9383]  [0.2, 0.2, 0.2, 0.2, 0.2, 0.2, 0.2, 0.2]  \n",
       "1              [0.8406, 0.9495]  [0.2, 0.2, 0.2, 0.2, 0.2, 0.2, 0.2, 0.2]  \n",
       "2              [0.9559, 0.9944]  [0.2, 0.2, 0.2, 0.2, 0.2, 0.2, 0.2, 0.2]  \n",
       "3              [0.9513, 0.9797]  [0.2, 0.2, 0.2, 0.2, 0.2, 0.2, 0.2, 0.2]  \n",
       "4                [0.9726, 0.98]  [0.2, 0.2, 0.2, 0.2, 0.2, 0.2, 0.2, 0.2]  \n",
       "5              [0.9529, 0.9741]  [0.2, 0.2, 0.2, 0.2, 0.2, 0.2, 0.2, 0.2]  \n",
       "6              [0.9237, 0.9932]  [0.2, 0.2, 0.2, 0.2, 0.2, 0.2, 0.2, 0.2]  \n",
       "7              [0.9565, 0.9694]  [0.2, 0.2, 0.2, 0.2, 0.2, 0.2, 0.2, 0.2]  \n",
       "0              [0.8335, 0.8671]  [0.4, 0.4, 0.4, 0.4, 0.4, 0.4, 0.4, 0.4]  \n",
       "1              [0.7765, 0.9082]  [0.4, 0.4, 0.4, 0.4, 0.4, 0.4, 0.4, 0.4]  \n",
       "2              [0.8648, 0.9447]  [0.4, 0.4, 0.4, 0.4, 0.4, 0.4, 0.4, 0.4]  \n",
       "3              [0.8997, 0.9423]  [0.4, 0.4, 0.4, 0.4, 0.4, 0.4, 0.4, 0.4]  \n",
       "4              [0.9144, 0.9275]  [0.4, 0.4, 0.4, 0.4, 0.4, 0.4, 0.4, 0.4]  \n",
       "5              [0.8983, 0.9302]  [0.4, 0.4, 0.4, 0.4, 0.4, 0.4, 0.4, 0.4]  \n",
       "6              [0.8777, 0.9757]  [0.4, 0.4, 0.4, 0.4, 0.4, 0.4, 0.4, 0.4]  \n",
       "7              [0.9153, 0.9334]  [0.4, 0.4, 0.4, 0.4, 0.4, 0.4, 0.4, 0.4]  \n",
       "0               [0.362, 0.4079]  [0.6, 0.6, 0.6, 0.6, 0.6, 0.6, 0.6, 0.6]  \n",
       "1              [0.3302, 0.5118]  [0.6, 0.6, 0.6, 0.6, 0.6, 0.6, 0.6, 0.6]  \n",
       "2               [0.233, 0.3598]  [0.6, 0.6, 0.6, 0.6, 0.6, 0.6, 0.6, 0.6]  \n",
       "3               [0.3017, 0.377]  [0.6, 0.6, 0.6, 0.6, 0.6, 0.6, 0.6, 0.6]  \n",
       "4              [0.3192, 0.3421]  [0.6, 0.6, 0.6, 0.6, 0.6, 0.6, 0.6, 0.6]  \n",
       "5              [0.3311, 0.3859]  [0.6, 0.6, 0.6, 0.6, 0.6, 0.6, 0.6, 0.6]  \n",
       "6              [0.3113, 0.5096]  [0.6, 0.6, 0.6, 0.6, 0.6, 0.6, 0.6, 0.6]  \n",
       "7               [0.464, 0.4983]  [0.6, 0.6, 0.6, 0.6, 0.6, 0.6, 0.6, 0.6]  \n",
       "0              [0.0071, 0.0171]  [0.8, 0.8, 0.8, 0.8, 0.8, 0.8, 0.8, 0.8]  \n",
       "1               [0.0099, 0.077]  [0.8, 0.8, 0.8, 0.8, 0.8, 0.8, 0.8, 0.8]  \n",
       "2              [0.0012, 0.0281]  [0.8, 0.8, 0.8, 0.8, 0.8, 0.8, 0.8, 0.8]  \n",
       "3              [0.0018, 0.0144]  [0.8, 0.8, 0.8, 0.8, 0.8, 0.8, 0.8, 0.8]  \n",
       "4              [0.0029, 0.0061]  [0.8, 0.8, 0.8, 0.8, 0.8, 0.8, 0.8, 0.8]  \n",
       "5              [0.0019, 0.0099]  [0.8, 0.8, 0.8, 0.8, 0.8, 0.8, 0.8, 0.8]  \n",
       "6               [0.012, 0.0923]  [0.8, 0.8, 0.8, 0.8, 0.8, 0.8, 0.8, 0.8]  \n",
       "7              [0.0141, 0.0233]  [0.8, 0.8, 0.8, 0.8, 0.8, 0.8, 0.8, 0.8]  "
      ]
     },
     "metadata": {},
     "output_type": "display_data"
    },
    {
     "data": {
      "application/vnd.plotly.v1+json": {
       "config": {
        "plotlyServerURL": "https://plot.ly"
       },
       "data": [
        {
         "alignmentgroup": "True",
         "error_y": {
          "array": [
           0.011800000000000033,
           0.047699999999999965,
           0.014699999999999935,
           0.012800000000000034,
           0.0035999999999999366,
           0.00979999999999992,
           0.025499999999999967,
           0.006200000000000094,
           0.01639999999999997,
           0.06000000000000005,
           0.03610000000000002,
           0.020000000000000018,
           0.006399999999999961,
           0.01529999999999998,
           0.040200000000000014,
           0.00880000000000003,
           0.02310000000000001,
           0.09220000000000006,
           0.06540000000000001,
           0.03820000000000001,
           0.01150000000000001,
           0.027600000000000013,
           0.10100000000000003,
           0.017199999999999993,
           0.005500000000000001,
           0.041299999999999996,
           0.0179,
           0.0078,
           0.0018000000000000004,
           0.0048000000000000004,
           0.0493,
           0.004900000000000002
          ],
          "arrayminus": [
           0.012800000000000034,
           0.06120000000000003,
           0.023800000000000043,
           0.015599999999999947,
           0.0038000000000000256,
           0.011400000000000077,
           0.04400000000000004,
           0.006699999999999928,
           0.017199999999999993,
           0.07169999999999999,
           0.04379999999999995,
           0.022599999999999953,
           0.006700000000000039,
           0.01660000000000006,
           0.05779999999999996,
           0.009299999999999975,
           0.022799999999999987,
           0.08939999999999998,
           0.06139999999999998,
           0.037099999999999966,
           0.011400000000000021,
           0.027200000000000002,
           0.0973,
           0.017100000000000004,
           0.004499999999999999,
           0.025800000000000003,
           0.009000000000000001,
           0.0048000000000000004,
           0.0014000000000000002,
           0.0032000000000000006,
           0.030999999999999996,
           0.0043
          ],
          "symmetric": false,
          "type": "data"
         },
         "hovertemplate": "Threshold=[0.2, 0.2, 0.2, 0.2, 0.2, 0.2, 0.2, 0.2]<br>Component=%{x}<br>Expected Success Probability=%{y}<br>text=%{text}<extra></extra>",
         "legendgroup": "[0.2, 0.2, 0.2, 0.2, 0.2, 0.2, 0.2, 0.2]",
         "marker": {
          "color": "#636efa",
          "pattern": {
           "shape": ""
          }
         },
         "name": "[0.2, 0.2, 0.2, 0.2, 0.2, 0.2, 0.2, 0.2]",
         "offsetgroup": "[0.2, 0.2, 0.2, 0.2, 0.2, 0.2, 0.2, 0.2]",
         "orientation": "v",
         "showlegend": true,
         "text": [
          "92.65%",
          "90.18%",
          "97.97%",
          "96.69%",
          "97.64%",
          "96.43%",
          "96.77%",
          "96.32%"
         ],
         "textfont": {
          "size": 12
         },
         "textposition": "outside",
         "type": "bar",
         "x": [
          "mathematics",
          "economics",
          "quantitative_biology",
          "statistics",
          "computer_science",
          "electric_engineering_and_systems_science",
          "quantitative_finance",
          "physics"
         ],
         "xaxis": "x",
         "y": [
          0.9265,
          0.9018,
          0.9797,
          0.9669,
          0.9764,
          0.9643,
          0.9677,
          0.9632
         ],
         "yaxis": "y"
        },
        {
         "alignmentgroup": "True",
         "error_y": {
          "array": [
           0.011800000000000033,
           0.047699999999999965,
           0.014699999999999935,
           0.012800000000000034,
           0.0035999999999999366,
           0.00979999999999992,
           0.025499999999999967,
           0.006200000000000094,
           0.01639999999999997,
           0.06000000000000005,
           0.03610000000000002,
           0.020000000000000018,
           0.006399999999999961,
           0.01529999999999998,
           0.040200000000000014,
           0.00880000000000003,
           0.02310000000000001,
           0.09220000000000006,
           0.06540000000000001,
           0.03820000000000001,
           0.01150000000000001,
           0.027600000000000013,
           0.10100000000000003,
           0.017199999999999993,
           0.005500000000000001,
           0.041299999999999996,
           0.0179,
           0.0078,
           0.0018000000000000004,
           0.0048000000000000004,
           0.0493,
           0.004900000000000002
          ],
          "arrayminus": [
           0.012800000000000034,
           0.06120000000000003,
           0.023800000000000043,
           0.015599999999999947,
           0.0038000000000000256,
           0.011400000000000077,
           0.04400000000000004,
           0.006699999999999928,
           0.017199999999999993,
           0.07169999999999999,
           0.04379999999999995,
           0.022599999999999953,
           0.006700000000000039,
           0.01660000000000006,
           0.05779999999999996,
           0.009299999999999975,
           0.022799999999999987,
           0.08939999999999998,
           0.06139999999999998,
           0.037099999999999966,
           0.011400000000000021,
           0.027200000000000002,
           0.0973,
           0.017100000000000004,
           0.004499999999999999,
           0.025800000000000003,
           0.009000000000000001,
           0.0048000000000000004,
           0.0014000000000000002,
           0.0032000000000000006,
           0.030999999999999996,
           0.0043
          ],
          "symmetric": false,
          "type": "data"
         },
         "hovertemplate": "Threshold=[0.4, 0.4, 0.4, 0.4, 0.4, 0.4, 0.4, 0.4]<br>Component=%{x}<br>Expected Success Probability=%{y}<br>text=%{text}<extra></extra>",
         "legendgroup": "[0.4, 0.4, 0.4, 0.4, 0.4, 0.4, 0.4, 0.4]",
         "marker": {
          "color": "#EF553B",
          "pattern": {
           "shape": ""
          }
         },
         "name": "[0.4, 0.4, 0.4, 0.4, 0.4, 0.4, 0.4, 0.4]",
         "offsetgroup": "[0.4, 0.4, 0.4, 0.4, 0.4, 0.4, 0.4, 0.4]",
         "orientation": "v",
         "showlegend": true,
         "text": [
          "85.07%",
          "84.82%",
          "90.86%",
          "92.23%",
          "92.11%",
          "91.49%",
          "93.55%",
          "92.46%"
         ],
         "textfont": {
          "size": 12
         },
         "textposition": "outside",
         "type": "bar",
         "x": [
          "mathematics",
          "economics",
          "quantitative_biology",
          "statistics",
          "computer_science",
          "electric_engineering_and_systems_science",
          "quantitative_finance",
          "physics"
         ],
         "xaxis": "x",
         "y": [
          0.8507,
          0.8482,
          0.9086,
          0.9223,
          0.9211,
          0.9149,
          0.9355,
          0.9246
         ],
         "yaxis": "y"
        },
        {
         "alignmentgroup": "True",
         "error_y": {
          "array": [
           0.011800000000000033,
           0.047699999999999965,
           0.014699999999999935,
           0.012800000000000034,
           0.0035999999999999366,
           0.00979999999999992,
           0.025499999999999967,
           0.006200000000000094,
           0.01639999999999997,
           0.06000000000000005,
           0.03610000000000002,
           0.020000000000000018,
           0.006399999999999961,
           0.01529999999999998,
           0.040200000000000014,
           0.00880000000000003,
           0.02310000000000001,
           0.09220000000000006,
           0.06540000000000001,
           0.03820000000000001,
           0.01150000000000001,
           0.027600000000000013,
           0.10100000000000003,
           0.017199999999999993,
           0.005500000000000001,
           0.041299999999999996,
           0.0179,
           0.0078,
           0.0018000000000000004,
           0.0048000000000000004,
           0.0493,
           0.004900000000000002
          ],
          "arrayminus": [
           0.012800000000000034,
           0.06120000000000003,
           0.023800000000000043,
           0.015599999999999947,
           0.0038000000000000256,
           0.011400000000000077,
           0.04400000000000004,
           0.006699999999999928,
           0.017199999999999993,
           0.07169999999999999,
           0.04379999999999995,
           0.022599999999999953,
           0.006700000000000039,
           0.01660000000000006,
           0.05779999999999996,
           0.009299999999999975,
           0.022799999999999987,
           0.08939999999999998,
           0.06139999999999998,
           0.037099999999999966,
           0.011400000000000021,
           0.027200000000000002,
           0.0973,
           0.017100000000000004,
           0.004499999999999999,
           0.025800000000000003,
           0.009000000000000001,
           0.0048000000000000004,
           0.0014000000000000002,
           0.0032000000000000006,
           0.030999999999999996,
           0.0043
          ],
          "symmetric": false,
          "type": "data"
         },
         "hovertemplate": "Threshold=[0.6, 0.6, 0.6, 0.6, 0.6, 0.6, 0.6, 0.6]<br>Component=%{x}<br>Expected Success Probability=%{y}<br>text=%{text}<extra></extra>",
         "legendgroup": "[0.6, 0.6, 0.6, 0.6, 0.6, 0.6, 0.6, 0.6]",
         "marker": {
          "color": "#00cc96",
          "pattern": {
           "shape": ""
          }
         },
         "name": "[0.6, 0.6, 0.6, 0.6, 0.6, 0.6, 0.6, 0.6]",
         "offsetgroup": "[0.6, 0.6, 0.6, 0.6, 0.6, 0.6, 0.6, 0.6]",
         "orientation": "v",
         "showlegend": true,
         "text": [
          "38.48%",
          "41.96%",
          "29.44%",
          "33.88%",
          "33.06%",
          "35.83%",
          "40.86%",
          "48.11%"
         ],
         "textfont": {
          "size": 12
         },
         "textposition": "outside",
         "type": "bar",
         "x": [
          "mathematics",
          "economics",
          "quantitative_biology",
          "statistics",
          "computer_science",
          "electric_engineering_and_systems_science",
          "quantitative_finance",
          "physics"
         ],
         "xaxis": "x",
         "y": [
          0.3848,
          0.4196,
          0.2944,
          0.3388,
          0.3306,
          0.3583,
          0.4086,
          0.4811
         ],
         "yaxis": "y"
        },
        {
         "alignmentgroup": "True",
         "error_y": {
          "array": [
           0.011800000000000033,
           0.047699999999999965,
           0.014699999999999935,
           0.012800000000000034,
           0.0035999999999999366,
           0.00979999999999992,
           0.025499999999999967,
           0.006200000000000094,
           0.01639999999999997,
           0.06000000000000005,
           0.03610000000000002,
           0.020000000000000018,
           0.006399999999999961,
           0.01529999999999998,
           0.040200000000000014,
           0.00880000000000003,
           0.02310000000000001,
           0.09220000000000006,
           0.06540000000000001,
           0.03820000000000001,
           0.01150000000000001,
           0.027600000000000013,
           0.10100000000000003,
           0.017199999999999993,
           0.005500000000000001,
           0.041299999999999996,
           0.0179,
           0.0078,
           0.0018000000000000004,
           0.0048000000000000004,
           0.0493,
           0.004900000000000002
          ],
          "arrayminus": [
           0.012800000000000034,
           0.06120000000000003,
           0.023800000000000043,
           0.015599999999999947,
           0.0038000000000000256,
           0.011400000000000077,
           0.04400000000000004,
           0.006699999999999928,
           0.017199999999999993,
           0.07169999999999999,
           0.04379999999999995,
           0.022599999999999953,
           0.006700000000000039,
           0.01660000000000006,
           0.05779999999999996,
           0.009299999999999975,
           0.022799999999999987,
           0.08939999999999998,
           0.06139999999999998,
           0.037099999999999966,
           0.011400000000000021,
           0.027200000000000002,
           0.0973,
           0.017100000000000004,
           0.004499999999999999,
           0.025800000000000003,
           0.009000000000000001,
           0.0048000000000000004,
           0.0014000000000000002,
           0.0032000000000000006,
           0.030999999999999996,
           0.0043
          ],
          "symmetric": false,
          "type": "data"
         },
         "hovertemplate": "Threshold=[0.8, 0.8, 0.8, 0.8, 0.8, 0.8, 0.8, 0.8]<br>Component=%{x}<br>Expected Success Probability=%{y}<br>text=%{text}<extra></extra>",
         "legendgroup": "[0.8, 0.8, 0.8, 0.8, 0.8, 0.8, 0.8, 0.8]",
         "marker": {
          "color": "#ab63fa",
          "pattern": {
           "shape": ""
          }
         },
         "name": "[0.8, 0.8, 0.8, 0.8, 0.8, 0.8, 0.8, 0.8]",
         "offsetgroup": "[0.8, 0.8, 0.8, 0.8, 0.8, 0.8, 0.8, 0.8]",
         "orientation": "v",
         "showlegend": true,
         "text": [
          "1.16%",
          "3.57%",
          "1.02%",
          "0.66%",
          "0.43%",
          "0.51%",
          "4.30%",
          "1.84%"
         ],
         "textfont": {
          "size": 12
         },
         "textposition": "outside",
         "type": "bar",
         "x": [
          "mathematics",
          "economics",
          "quantitative_biology",
          "statistics",
          "computer_science",
          "electric_engineering_and_systems_science",
          "quantitative_finance",
          "physics"
         ],
         "xaxis": "x",
         "y": [
          0.0116,
          0.0357,
          0.0102,
          0.0066,
          0.0043,
          0.0051,
          0.043,
          0.0184
         ],
         "yaxis": "y"
        }
       ],
       "layout": {
        "barmode": "group",
        "height": 1000,
        "legend": {
         "title": {
          "text": "Threshold"
         },
         "tracegroupgap": 0
        },
        "margin": {
         "t": 60
        },
        "template": {
         "data": {
          "bar": [
           {
            "error_x": {
             "color": "#2a3f5f"
            },
            "error_y": {
             "color": "#2a3f5f"
            },
            "marker": {
             "line": {
              "color": "#E5ECF6",
              "width": 0.5
             },
             "pattern": {
              "fillmode": "overlay",
              "size": 10,
              "solidity": 0.2
             }
            },
            "type": "bar"
           }
          ],
          "barpolar": [
           {
            "marker": {
             "line": {
              "color": "#E5ECF6",
              "width": 0.5
             },
             "pattern": {
              "fillmode": "overlay",
              "size": 10,
              "solidity": 0.2
             }
            },
            "type": "barpolar"
           }
          ],
          "carpet": [
           {
            "aaxis": {
             "endlinecolor": "#2a3f5f",
             "gridcolor": "white",
             "linecolor": "white",
             "minorgridcolor": "white",
             "startlinecolor": "#2a3f5f"
            },
            "baxis": {
             "endlinecolor": "#2a3f5f",
             "gridcolor": "white",
             "linecolor": "white",
             "minorgridcolor": "white",
             "startlinecolor": "#2a3f5f"
            },
            "type": "carpet"
           }
          ],
          "choropleth": [
           {
            "colorbar": {
             "outlinewidth": 0,
             "ticks": ""
            },
            "type": "choropleth"
           }
          ],
          "contour": [
           {
            "colorbar": {
             "outlinewidth": 0,
             "ticks": ""
            },
            "colorscale": [
             [
              0,
              "#0d0887"
             ],
             [
              0.1111111111111111,
              "#46039f"
             ],
             [
              0.2222222222222222,
              "#7201a8"
             ],
             [
              0.3333333333333333,
              "#9c179e"
             ],
             [
              0.4444444444444444,
              "#bd3786"
             ],
             [
              0.5555555555555556,
              "#d8576b"
             ],
             [
              0.6666666666666666,
              "#ed7953"
             ],
             [
              0.7777777777777778,
              "#fb9f3a"
             ],
             [
              0.8888888888888888,
              "#fdca26"
             ],
             [
              1,
              "#f0f921"
             ]
            ],
            "type": "contour"
           }
          ],
          "contourcarpet": [
           {
            "colorbar": {
             "outlinewidth": 0,
             "ticks": ""
            },
            "type": "contourcarpet"
           }
          ],
          "heatmap": [
           {
            "colorbar": {
             "outlinewidth": 0,
             "ticks": ""
            },
            "colorscale": [
             [
              0,
              "#0d0887"
             ],
             [
              0.1111111111111111,
              "#46039f"
             ],
             [
              0.2222222222222222,
              "#7201a8"
             ],
             [
              0.3333333333333333,
              "#9c179e"
             ],
             [
              0.4444444444444444,
              "#bd3786"
             ],
             [
              0.5555555555555556,
              "#d8576b"
             ],
             [
              0.6666666666666666,
              "#ed7953"
             ],
             [
              0.7777777777777778,
              "#fb9f3a"
             ],
             [
              0.8888888888888888,
              "#fdca26"
             ],
             [
              1,
              "#f0f921"
             ]
            ],
            "type": "heatmap"
           }
          ],
          "heatmapgl": [
           {
            "colorbar": {
             "outlinewidth": 0,
             "ticks": ""
            },
            "colorscale": [
             [
              0,
              "#0d0887"
             ],
             [
              0.1111111111111111,
              "#46039f"
             ],
             [
              0.2222222222222222,
              "#7201a8"
             ],
             [
              0.3333333333333333,
              "#9c179e"
             ],
             [
              0.4444444444444444,
              "#bd3786"
             ],
             [
              0.5555555555555556,
              "#d8576b"
             ],
             [
              0.6666666666666666,
              "#ed7953"
             ],
             [
              0.7777777777777778,
              "#fb9f3a"
             ],
             [
              0.8888888888888888,
              "#fdca26"
             ],
             [
              1,
              "#f0f921"
             ]
            ],
            "type": "heatmapgl"
           }
          ],
          "histogram": [
           {
            "marker": {
             "pattern": {
              "fillmode": "overlay",
              "size": 10,
              "solidity": 0.2
             }
            },
            "type": "histogram"
           }
          ],
          "histogram2d": [
           {
            "colorbar": {
             "outlinewidth": 0,
             "ticks": ""
            },
            "colorscale": [
             [
              0,
              "#0d0887"
             ],
             [
              0.1111111111111111,
              "#46039f"
             ],
             [
              0.2222222222222222,
              "#7201a8"
             ],
             [
              0.3333333333333333,
              "#9c179e"
             ],
             [
              0.4444444444444444,
              "#bd3786"
             ],
             [
              0.5555555555555556,
              "#d8576b"
             ],
             [
              0.6666666666666666,
              "#ed7953"
             ],
             [
              0.7777777777777778,
              "#fb9f3a"
             ],
             [
              0.8888888888888888,
              "#fdca26"
             ],
             [
              1,
              "#f0f921"
             ]
            ],
            "type": "histogram2d"
           }
          ],
          "histogram2dcontour": [
           {
            "colorbar": {
             "outlinewidth": 0,
             "ticks": ""
            },
            "colorscale": [
             [
              0,
              "#0d0887"
             ],
             [
              0.1111111111111111,
              "#46039f"
             ],
             [
              0.2222222222222222,
              "#7201a8"
             ],
             [
              0.3333333333333333,
              "#9c179e"
             ],
             [
              0.4444444444444444,
              "#bd3786"
             ],
             [
              0.5555555555555556,
              "#d8576b"
             ],
             [
              0.6666666666666666,
              "#ed7953"
             ],
             [
              0.7777777777777778,
              "#fb9f3a"
             ],
             [
              0.8888888888888888,
              "#fdca26"
             ],
             [
              1,
              "#f0f921"
             ]
            ],
            "type": "histogram2dcontour"
           }
          ],
          "mesh3d": [
           {
            "colorbar": {
             "outlinewidth": 0,
             "ticks": ""
            },
            "type": "mesh3d"
           }
          ],
          "parcoords": [
           {
            "line": {
             "colorbar": {
              "outlinewidth": 0,
              "ticks": ""
             }
            },
            "type": "parcoords"
           }
          ],
          "pie": [
           {
            "automargin": true,
            "type": "pie"
           }
          ],
          "scatter": [
           {
            "fillpattern": {
             "fillmode": "overlay",
             "size": 10,
             "solidity": 0.2
            },
            "type": "scatter"
           }
          ],
          "scatter3d": [
           {
            "line": {
             "colorbar": {
              "outlinewidth": 0,
              "ticks": ""
             }
            },
            "marker": {
             "colorbar": {
              "outlinewidth": 0,
              "ticks": ""
             }
            },
            "type": "scatter3d"
           }
          ],
          "scattercarpet": [
           {
            "marker": {
             "colorbar": {
              "outlinewidth": 0,
              "ticks": ""
             }
            },
            "type": "scattercarpet"
           }
          ],
          "scattergeo": [
           {
            "marker": {
             "colorbar": {
              "outlinewidth": 0,
              "ticks": ""
             }
            },
            "type": "scattergeo"
           }
          ],
          "scattergl": [
           {
            "marker": {
             "colorbar": {
              "outlinewidth": 0,
              "ticks": ""
             }
            },
            "type": "scattergl"
           }
          ],
          "scattermapbox": [
           {
            "marker": {
             "colorbar": {
              "outlinewidth": 0,
              "ticks": ""
             }
            },
            "type": "scattermapbox"
           }
          ],
          "scatterpolar": [
           {
            "marker": {
             "colorbar": {
              "outlinewidth": 0,
              "ticks": ""
             }
            },
            "type": "scatterpolar"
           }
          ],
          "scatterpolargl": [
           {
            "marker": {
             "colorbar": {
              "outlinewidth": 0,
              "ticks": ""
             }
            },
            "type": "scatterpolargl"
           }
          ],
          "scatterternary": [
           {
            "marker": {
             "colorbar": {
              "outlinewidth": 0,
              "ticks": ""
             }
            },
            "type": "scatterternary"
           }
          ],
          "surface": [
           {
            "colorbar": {
             "outlinewidth": 0,
             "ticks": ""
            },
            "colorscale": [
             [
              0,
              "#0d0887"
             ],
             [
              0.1111111111111111,
              "#46039f"
             ],
             [
              0.2222222222222222,
              "#7201a8"
             ],
             [
              0.3333333333333333,
              "#9c179e"
             ],
             [
              0.4444444444444444,
              "#bd3786"
             ],
             [
              0.5555555555555556,
              "#d8576b"
             ],
             [
              0.6666666666666666,
              "#ed7953"
             ],
             [
              0.7777777777777778,
              "#fb9f3a"
             ],
             [
              0.8888888888888888,
              "#fdca26"
             ],
             [
              1,
              "#f0f921"
             ]
            ],
            "type": "surface"
           }
          ],
          "table": [
           {
            "cells": {
             "fill": {
              "color": "#EBF0F8"
             },
             "line": {
              "color": "white"
             }
            },
            "header": {
             "fill": {
              "color": "#C8D4E3"
             },
             "line": {
              "color": "white"
             }
            },
            "type": "table"
           }
          ]
         },
         "layout": {
          "annotationdefaults": {
           "arrowcolor": "#2a3f5f",
           "arrowhead": 0,
           "arrowwidth": 1
          },
          "autotypenumbers": "strict",
          "coloraxis": {
           "colorbar": {
            "outlinewidth": 0,
            "ticks": ""
           }
          },
          "colorscale": {
           "diverging": [
            [
             0,
             "#8e0152"
            ],
            [
             0.1,
             "#c51b7d"
            ],
            [
             0.2,
             "#de77ae"
            ],
            [
             0.3,
             "#f1b6da"
            ],
            [
             0.4,
             "#fde0ef"
            ],
            [
             0.5,
             "#f7f7f7"
            ],
            [
             0.6,
             "#e6f5d0"
            ],
            [
             0.7,
             "#b8e186"
            ],
            [
             0.8,
             "#7fbc41"
            ],
            [
             0.9,
             "#4d9221"
            ],
            [
             1,
             "#276419"
            ]
           ],
           "sequential": [
            [
             0,
             "#0d0887"
            ],
            [
             0.1111111111111111,
             "#46039f"
            ],
            [
             0.2222222222222222,
             "#7201a8"
            ],
            [
             0.3333333333333333,
             "#9c179e"
            ],
            [
             0.4444444444444444,
             "#bd3786"
            ],
            [
             0.5555555555555556,
             "#d8576b"
            ],
            [
             0.6666666666666666,
             "#ed7953"
            ],
            [
             0.7777777777777778,
             "#fb9f3a"
            ],
            [
             0.8888888888888888,
             "#fdca26"
            ],
            [
             1,
             "#f0f921"
            ]
           ],
           "sequentialminus": [
            [
             0,
             "#0d0887"
            ],
            [
             0.1111111111111111,
             "#46039f"
            ],
            [
             0.2222222222222222,
             "#7201a8"
            ],
            [
             0.3333333333333333,
             "#9c179e"
            ],
            [
             0.4444444444444444,
             "#bd3786"
            ],
            [
             0.5555555555555556,
             "#d8576b"
            ],
            [
             0.6666666666666666,
             "#ed7953"
            ],
            [
             0.7777777777777778,
             "#fb9f3a"
            ],
            [
             0.8888888888888888,
             "#fdca26"
            ],
            [
             1,
             "#f0f921"
            ]
           ]
          },
          "colorway": [
           "#636efa",
           "#EF553B",
           "#00cc96",
           "#ab63fa",
           "#FFA15A",
           "#19d3f3",
           "#FF6692",
           "#B6E880",
           "#FF97FF",
           "#FECB52"
          ],
          "font": {
           "color": "#2a3f5f"
          },
          "geo": {
           "bgcolor": "white",
           "lakecolor": "white",
           "landcolor": "#E5ECF6",
           "showlakes": true,
           "showland": true,
           "subunitcolor": "white"
          },
          "hoverlabel": {
           "align": "left"
          },
          "hovermode": "closest",
          "mapbox": {
           "style": "light"
          },
          "paper_bgcolor": "white",
          "plot_bgcolor": "#E5ECF6",
          "polar": {
           "angularaxis": {
            "gridcolor": "white",
            "linecolor": "white",
            "ticks": ""
           },
           "bgcolor": "#E5ECF6",
           "radialaxis": {
            "gridcolor": "white",
            "linecolor": "white",
            "ticks": ""
           }
          },
          "scene": {
           "xaxis": {
            "backgroundcolor": "#E5ECF6",
            "gridcolor": "white",
            "gridwidth": 2,
            "linecolor": "white",
            "showbackground": true,
            "ticks": "",
            "zerolinecolor": "white"
           },
           "yaxis": {
            "backgroundcolor": "#E5ECF6",
            "gridcolor": "white",
            "gridwidth": 2,
            "linecolor": "white",
            "showbackground": true,
            "ticks": "",
            "zerolinecolor": "white"
           },
           "zaxis": {
            "backgroundcolor": "#E5ECF6",
            "gridcolor": "white",
            "gridwidth": 2,
            "linecolor": "white",
            "showbackground": true,
            "ticks": "",
            "zerolinecolor": "white"
           }
          },
          "shapedefaults": {
           "line": {
            "color": "#2a3f5f"
           }
          },
          "ternary": {
           "aaxis": {
            "gridcolor": "white",
            "linecolor": "white",
            "ticks": ""
           },
           "baxis": {
            "gridcolor": "white",
            "linecolor": "white",
            "ticks": ""
           },
           "bgcolor": "#E5ECF6",
           "caxis": {
            "gridcolor": "white",
            "linecolor": "white",
            "ticks": ""
           }
          },
          "title": {
           "x": 0.05
          },
          "xaxis": {
           "automargin": true,
           "gridcolor": "white",
           "linecolor": "white",
           "ticks": "",
           "title": {
            "standoff": 15
           },
           "zerolinecolor": "white",
           "zerolinewidth": 2
          },
          "yaxis": {
           "automargin": true,
           "gridcolor": "white",
           "linecolor": "white",
           "ticks": "",
           "title": {
            "standoff": 15
           },
           "zerolinecolor": "white",
           "zerolinewidth": 2
          }
         }
        },
        "title": {
         "text": "Expected Success Probability with 95.0% Confidence Level",
         "x": 0.5
        },
        "width": 1200,
        "xaxis": {
         "anchor": "y",
         "domain": [
          0,
          1
         ],
         "title": {
          "text": "Component"
         }
        },
        "yaxis": {
         "anchor": "x",
         "domain": [
          0,
          1
         ],
         "dtick": 0.2,
         "range": [
          -0.01,
          1.01
         ],
         "title": {
          "text": "Expected Success Probability"
         }
        }
       }
      }
     },
     "metadata": {},
     "output_type": "display_data"
    }
   ],
   "source": [
    "df=[]\n",
    "threshold=[[0.2]*8, [0.4]*8, [0.6]*8, [0.8]*8]\n",
    "alphalevel=0.05\n",
    "alpha=[1]*8\n",
    "beta=[1]*8\n",
    "\n",
    "for i in range(len(df2)):\n",
    "    df.append( (df2['Name'][i], df2['Cosim_Values'][i]) )\n",
    "df=dict(df)\n",
    "\n",
    "result = Bayes(df, threshold, alpha, beta, alphalevel, direction=\"greater\")\n",
    "display(result.res)\n",
    "result.Plot_Bayes(yrange=[-0.01,1.01,0.2], height=1000)"
   ]
  },
  {
   "cell_type": "code",
   "execution_count": 5,
   "metadata": {},
   "outputs": [
    {
     "data": {
      "application/vnd.plotly.v1+json": {
       "config": {
        "plotlyServerURL": "https://plot.ly"
       },
       "data": [
        {
         "alignmentgroup": "True",
         "error_y": {
          "array": [
           0.0030000000000000027,
           0.0047000000000000375,
           0.008199999999999985,
           0.0016000000000000007
          ],
          "arrayminus": [
           0.0030999999999999917,
           0.0048000000000000265,
           0.008099999999999996,
           0.0014999999999999996
          ],
          "symmetric": false,
          "type": "data"
         },
         "hovertemplate": "Threshold=[0.2]<br>Component=%{x}<br>Expected Success Probability=%{y}<br>text=%{text}<extra></extra>",
         "legendgroup": "[0.2]",
         "marker": {
          "color": "#636efa",
          "pattern": {
           "shape": ""
          }
         },
         "name": "[0.2]",
         "offsetgroup": "[0.2]",
         "orientation": "v",
         "showlegend": true,
         "text": [
          "96.53%"
         ],
         "textfont": {
          "size": 12
         },
         "textposition": "outside",
         "type": "bar",
         "x": [
          "Value"
         ],
         "xaxis": "x",
         "y": [
          0.9653
         ],
         "yaxis": "y"
        },
        {
         "alignmentgroup": "True",
         "error_y": {
          "array": [
           0.0030000000000000027,
           0.0047000000000000375,
           0.008199999999999985,
           0.0016000000000000007
          ],
          "arrayminus": [
           0.0030999999999999917,
           0.0048000000000000265,
           0.008099999999999996,
           0.0014999999999999996
          ],
          "symmetric": false,
          "type": "data"
         },
         "hovertemplate": "Threshold=[0.4]<br>Component=%{x}<br>Expected Success Probability=%{y}<br>text=%{text}<extra></extra>",
         "legendgroup": "[0.4]",
         "marker": {
          "color": "#EF553B",
          "pattern": {
           "shape": ""
          }
         },
         "name": "[0.4]",
         "offsetgroup": "[0.4]",
         "orientation": "v",
         "showlegend": true,
         "text": [
          "91.22%"
         ],
         "textfont": {
          "size": 12
         },
         "textposition": "outside",
         "type": "bar",
         "x": [
          "Value"
         ],
         "xaxis": "x",
         "y": [
          0.9122
         ],
         "yaxis": "y"
        },
        {
         "alignmentgroup": "True",
         "error_y": {
          "array": [
           0.0030000000000000027,
           0.0047000000000000375,
           0.008199999999999985,
           0.0016000000000000007
          ],
          "arrayminus": [
           0.0030999999999999917,
           0.0048000000000000265,
           0.008099999999999996,
           0.0014999999999999996
          ],
          "symmetric": false,
          "type": "data"
         },
         "hovertemplate": "Threshold=[0.6]<br>Component=%{x}<br>Expected Success Probability=%{y}<br>text=%{text}<extra></extra>",
         "legendgroup": "[0.6]",
         "marker": {
          "color": "#00cc96",
          "pattern": {
           "shape": ""
          }
         },
         "name": "[0.6]",
         "offsetgroup": "[0.6]",
         "orientation": "v",
         "showlegend": true,
         "text": [
          "37.69%"
         ],
         "textfont": {
          "size": 12
         },
         "textposition": "outside",
         "type": "bar",
         "x": [
          "Value"
         ],
         "xaxis": "x",
         "y": [
          0.3769
         ],
         "yaxis": "y"
        },
        {
         "alignmentgroup": "True",
         "error_y": {
          "array": [
           0.0030000000000000027,
           0.0047000000000000375,
           0.008199999999999985,
           0.0016000000000000007
          ],
          "arrayminus": [
           0.0030999999999999917,
           0.0048000000000000265,
           0.008099999999999996,
           0.0014999999999999996
          ],
          "symmetric": false,
          "type": "data"
         },
         "hovertemplate": "Threshold=[0.8]<br>Component=%{x}<br>Expected Success Probability=%{y}<br>text=%{text}<extra></extra>",
         "legendgroup": "[0.8]",
         "marker": {
          "color": "#ab63fa",
          "pattern": {
           "shape": ""
          }
         },
         "name": "[0.8]",
         "offsetgroup": "[0.8]",
         "orientation": "v",
         "showlegend": true,
         "text": [
          "0.89%"
         ],
         "textfont": {
          "size": 12
         },
         "textposition": "outside",
         "type": "bar",
         "x": [
          "Value"
         ],
         "xaxis": "x",
         "y": [
          0.0089
         ],
         "yaxis": "y"
        }
       ],
       "layout": {
        "barmode": "group",
        "height": 800,
        "legend": {
         "title": {
          "text": "Threshold"
         },
         "tracegroupgap": 0
        },
        "margin": {
         "t": 60
        },
        "template": {
         "data": {
          "bar": [
           {
            "error_x": {
             "color": "#2a3f5f"
            },
            "error_y": {
             "color": "#2a3f5f"
            },
            "marker": {
             "line": {
              "color": "#E5ECF6",
              "width": 0.5
             },
             "pattern": {
              "fillmode": "overlay",
              "size": 10,
              "solidity": 0.2
             }
            },
            "type": "bar"
           }
          ],
          "barpolar": [
           {
            "marker": {
             "line": {
              "color": "#E5ECF6",
              "width": 0.5
             },
             "pattern": {
              "fillmode": "overlay",
              "size": 10,
              "solidity": 0.2
             }
            },
            "type": "barpolar"
           }
          ],
          "carpet": [
           {
            "aaxis": {
             "endlinecolor": "#2a3f5f",
             "gridcolor": "white",
             "linecolor": "white",
             "minorgridcolor": "white",
             "startlinecolor": "#2a3f5f"
            },
            "baxis": {
             "endlinecolor": "#2a3f5f",
             "gridcolor": "white",
             "linecolor": "white",
             "minorgridcolor": "white",
             "startlinecolor": "#2a3f5f"
            },
            "type": "carpet"
           }
          ],
          "choropleth": [
           {
            "colorbar": {
             "outlinewidth": 0,
             "ticks": ""
            },
            "type": "choropleth"
           }
          ],
          "contour": [
           {
            "colorbar": {
             "outlinewidth": 0,
             "ticks": ""
            },
            "colorscale": [
             [
              0,
              "#0d0887"
             ],
             [
              0.1111111111111111,
              "#46039f"
             ],
             [
              0.2222222222222222,
              "#7201a8"
             ],
             [
              0.3333333333333333,
              "#9c179e"
             ],
             [
              0.4444444444444444,
              "#bd3786"
             ],
             [
              0.5555555555555556,
              "#d8576b"
             ],
             [
              0.6666666666666666,
              "#ed7953"
             ],
             [
              0.7777777777777778,
              "#fb9f3a"
             ],
             [
              0.8888888888888888,
              "#fdca26"
             ],
             [
              1,
              "#f0f921"
             ]
            ],
            "type": "contour"
           }
          ],
          "contourcarpet": [
           {
            "colorbar": {
             "outlinewidth": 0,
             "ticks": ""
            },
            "type": "contourcarpet"
           }
          ],
          "heatmap": [
           {
            "colorbar": {
             "outlinewidth": 0,
             "ticks": ""
            },
            "colorscale": [
             [
              0,
              "#0d0887"
             ],
             [
              0.1111111111111111,
              "#46039f"
             ],
             [
              0.2222222222222222,
              "#7201a8"
             ],
             [
              0.3333333333333333,
              "#9c179e"
             ],
             [
              0.4444444444444444,
              "#bd3786"
             ],
             [
              0.5555555555555556,
              "#d8576b"
             ],
             [
              0.6666666666666666,
              "#ed7953"
             ],
             [
              0.7777777777777778,
              "#fb9f3a"
             ],
             [
              0.8888888888888888,
              "#fdca26"
             ],
             [
              1,
              "#f0f921"
             ]
            ],
            "type": "heatmap"
           }
          ],
          "heatmapgl": [
           {
            "colorbar": {
             "outlinewidth": 0,
             "ticks": ""
            },
            "colorscale": [
             [
              0,
              "#0d0887"
             ],
             [
              0.1111111111111111,
              "#46039f"
             ],
             [
              0.2222222222222222,
              "#7201a8"
             ],
             [
              0.3333333333333333,
              "#9c179e"
             ],
             [
              0.4444444444444444,
              "#bd3786"
             ],
             [
              0.5555555555555556,
              "#d8576b"
             ],
             [
              0.6666666666666666,
              "#ed7953"
             ],
             [
              0.7777777777777778,
              "#fb9f3a"
             ],
             [
              0.8888888888888888,
              "#fdca26"
             ],
             [
              1,
              "#f0f921"
             ]
            ],
            "type": "heatmapgl"
           }
          ],
          "histogram": [
           {
            "marker": {
             "pattern": {
              "fillmode": "overlay",
              "size": 10,
              "solidity": 0.2
             }
            },
            "type": "histogram"
           }
          ],
          "histogram2d": [
           {
            "colorbar": {
             "outlinewidth": 0,
             "ticks": ""
            },
            "colorscale": [
             [
              0,
              "#0d0887"
             ],
             [
              0.1111111111111111,
              "#46039f"
             ],
             [
              0.2222222222222222,
              "#7201a8"
             ],
             [
              0.3333333333333333,
              "#9c179e"
             ],
             [
              0.4444444444444444,
              "#bd3786"
             ],
             [
              0.5555555555555556,
              "#d8576b"
             ],
             [
              0.6666666666666666,
              "#ed7953"
             ],
             [
              0.7777777777777778,
              "#fb9f3a"
             ],
             [
              0.8888888888888888,
              "#fdca26"
             ],
             [
              1,
              "#f0f921"
             ]
            ],
            "type": "histogram2d"
           }
          ],
          "histogram2dcontour": [
           {
            "colorbar": {
             "outlinewidth": 0,
             "ticks": ""
            },
            "colorscale": [
             [
              0,
              "#0d0887"
             ],
             [
              0.1111111111111111,
              "#46039f"
             ],
             [
              0.2222222222222222,
              "#7201a8"
             ],
             [
              0.3333333333333333,
              "#9c179e"
             ],
             [
              0.4444444444444444,
              "#bd3786"
             ],
             [
              0.5555555555555556,
              "#d8576b"
             ],
             [
              0.6666666666666666,
              "#ed7953"
             ],
             [
              0.7777777777777778,
              "#fb9f3a"
             ],
             [
              0.8888888888888888,
              "#fdca26"
             ],
             [
              1,
              "#f0f921"
             ]
            ],
            "type": "histogram2dcontour"
           }
          ],
          "mesh3d": [
           {
            "colorbar": {
             "outlinewidth": 0,
             "ticks": ""
            },
            "type": "mesh3d"
           }
          ],
          "parcoords": [
           {
            "line": {
             "colorbar": {
              "outlinewidth": 0,
              "ticks": ""
             }
            },
            "type": "parcoords"
           }
          ],
          "pie": [
           {
            "automargin": true,
            "type": "pie"
           }
          ],
          "scatter": [
           {
            "fillpattern": {
             "fillmode": "overlay",
             "size": 10,
             "solidity": 0.2
            },
            "type": "scatter"
           }
          ],
          "scatter3d": [
           {
            "line": {
             "colorbar": {
              "outlinewidth": 0,
              "ticks": ""
             }
            },
            "marker": {
             "colorbar": {
              "outlinewidth": 0,
              "ticks": ""
             }
            },
            "type": "scatter3d"
           }
          ],
          "scattercarpet": [
           {
            "marker": {
             "colorbar": {
              "outlinewidth": 0,
              "ticks": ""
             }
            },
            "type": "scattercarpet"
           }
          ],
          "scattergeo": [
           {
            "marker": {
             "colorbar": {
              "outlinewidth": 0,
              "ticks": ""
             }
            },
            "type": "scattergeo"
           }
          ],
          "scattergl": [
           {
            "marker": {
             "colorbar": {
              "outlinewidth": 0,
              "ticks": ""
             }
            },
            "type": "scattergl"
           }
          ],
          "scattermapbox": [
           {
            "marker": {
             "colorbar": {
              "outlinewidth": 0,
              "ticks": ""
             }
            },
            "type": "scattermapbox"
           }
          ],
          "scatterpolar": [
           {
            "marker": {
             "colorbar": {
              "outlinewidth": 0,
              "ticks": ""
             }
            },
            "type": "scatterpolar"
           }
          ],
          "scatterpolargl": [
           {
            "marker": {
             "colorbar": {
              "outlinewidth": 0,
              "ticks": ""
             }
            },
            "type": "scatterpolargl"
           }
          ],
          "scatterternary": [
           {
            "marker": {
             "colorbar": {
              "outlinewidth": 0,
              "ticks": ""
             }
            },
            "type": "scatterternary"
           }
          ],
          "surface": [
           {
            "colorbar": {
             "outlinewidth": 0,
             "ticks": ""
            },
            "colorscale": [
             [
              0,
              "#0d0887"
             ],
             [
              0.1111111111111111,
              "#46039f"
             ],
             [
              0.2222222222222222,
              "#7201a8"
             ],
             [
              0.3333333333333333,
              "#9c179e"
             ],
             [
              0.4444444444444444,
              "#bd3786"
             ],
             [
              0.5555555555555556,
              "#d8576b"
             ],
             [
              0.6666666666666666,
              "#ed7953"
             ],
             [
              0.7777777777777778,
              "#fb9f3a"
             ],
             [
              0.8888888888888888,
              "#fdca26"
             ],
             [
              1,
              "#f0f921"
             ]
            ],
            "type": "surface"
           }
          ],
          "table": [
           {
            "cells": {
             "fill": {
              "color": "#EBF0F8"
             },
             "line": {
              "color": "white"
             }
            },
            "header": {
             "fill": {
              "color": "#C8D4E3"
             },
             "line": {
              "color": "white"
             }
            },
            "type": "table"
           }
          ]
         },
         "layout": {
          "annotationdefaults": {
           "arrowcolor": "#2a3f5f",
           "arrowhead": 0,
           "arrowwidth": 1
          },
          "autotypenumbers": "strict",
          "coloraxis": {
           "colorbar": {
            "outlinewidth": 0,
            "ticks": ""
           }
          },
          "colorscale": {
           "diverging": [
            [
             0,
             "#8e0152"
            ],
            [
             0.1,
             "#c51b7d"
            ],
            [
             0.2,
             "#de77ae"
            ],
            [
             0.3,
             "#f1b6da"
            ],
            [
             0.4,
             "#fde0ef"
            ],
            [
             0.5,
             "#f7f7f7"
            ],
            [
             0.6,
             "#e6f5d0"
            ],
            [
             0.7,
             "#b8e186"
            ],
            [
             0.8,
             "#7fbc41"
            ],
            [
             0.9,
             "#4d9221"
            ],
            [
             1,
             "#276419"
            ]
           ],
           "sequential": [
            [
             0,
             "#0d0887"
            ],
            [
             0.1111111111111111,
             "#46039f"
            ],
            [
             0.2222222222222222,
             "#7201a8"
            ],
            [
             0.3333333333333333,
             "#9c179e"
            ],
            [
             0.4444444444444444,
             "#bd3786"
            ],
            [
             0.5555555555555556,
             "#d8576b"
            ],
            [
             0.6666666666666666,
             "#ed7953"
            ],
            [
             0.7777777777777778,
             "#fb9f3a"
            ],
            [
             0.8888888888888888,
             "#fdca26"
            ],
            [
             1,
             "#f0f921"
            ]
           ],
           "sequentialminus": [
            [
             0,
             "#0d0887"
            ],
            [
             0.1111111111111111,
             "#46039f"
            ],
            [
             0.2222222222222222,
             "#7201a8"
            ],
            [
             0.3333333333333333,
             "#9c179e"
            ],
            [
             0.4444444444444444,
             "#bd3786"
            ],
            [
             0.5555555555555556,
             "#d8576b"
            ],
            [
             0.6666666666666666,
             "#ed7953"
            ],
            [
             0.7777777777777778,
             "#fb9f3a"
            ],
            [
             0.8888888888888888,
             "#fdca26"
            ],
            [
             1,
             "#f0f921"
            ]
           ]
          },
          "colorway": [
           "#636efa",
           "#EF553B",
           "#00cc96",
           "#ab63fa",
           "#FFA15A",
           "#19d3f3",
           "#FF6692",
           "#B6E880",
           "#FF97FF",
           "#FECB52"
          ],
          "font": {
           "color": "#2a3f5f"
          },
          "geo": {
           "bgcolor": "white",
           "lakecolor": "white",
           "landcolor": "#E5ECF6",
           "showlakes": true,
           "showland": true,
           "subunitcolor": "white"
          },
          "hoverlabel": {
           "align": "left"
          },
          "hovermode": "closest",
          "mapbox": {
           "style": "light"
          },
          "paper_bgcolor": "white",
          "plot_bgcolor": "#E5ECF6",
          "polar": {
           "angularaxis": {
            "gridcolor": "white",
            "linecolor": "white",
            "ticks": ""
           },
           "bgcolor": "#E5ECF6",
           "radialaxis": {
            "gridcolor": "white",
            "linecolor": "white",
            "ticks": ""
           }
          },
          "scene": {
           "xaxis": {
            "backgroundcolor": "#E5ECF6",
            "gridcolor": "white",
            "gridwidth": 2,
            "linecolor": "white",
            "showbackground": true,
            "ticks": "",
            "zerolinecolor": "white"
           },
           "yaxis": {
            "backgroundcolor": "#E5ECF6",
            "gridcolor": "white",
            "gridwidth": 2,
            "linecolor": "white",
            "showbackground": true,
            "ticks": "",
            "zerolinecolor": "white"
           },
           "zaxis": {
            "backgroundcolor": "#E5ECF6",
            "gridcolor": "white",
            "gridwidth": 2,
            "linecolor": "white",
            "showbackground": true,
            "ticks": "",
            "zerolinecolor": "white"
           }
          },
          "shapedefaults": {
           "line": {
            "color": "#2a3f5f"
           }
          },
          "ternary": {
           "aaxis": {
            "gridcolor": "white",
            "linecolor": "white",
            "ticks": ""
           },
           "baxis": {
            "gridcolor": "white",
            "linecolor": "white",
            "ticks": ""
           },
           "bgcolor": "#E5ECF6",
           "caxis": {
            "gridcolor": "white",
            "linecolor": "white",
            "ticks": ""
           }
          },
          "title": {
           "x": 0.05
          },
          "xaxis": {
           "automargin": true,
           "gridcolor": "white",
           "linecolor": "white",
           "ticks": "",
           "title": {
            "standoff": 15
           },
           "zerolinecolor": "white",
           "zerolinewidth": 2
          },
          "yaxis": {
           "automargin": true,
           "gridcolor": "white",
           "linecolor": "white",
           "ticks": "",
           "title": {
            "standoff": 15
           },
           "zerolinecolor": "white",
           "zerolinewidth": 2
          }
         }
        },
        "title": {
         "text": "Expected Success Probability with 95.0% Confidence Level",
         "x": 0.5
        },
        "width": 1200,
        "xaxis": {
         "anchor": "y",
         "domain": [
          0,
          1
         ],
         "title": {
          "text": "Component"
         }
        },
        "yaxis": {
         "anchor": "x",
         "domain": [
          0,
          1
         ],
         "dtick": 0.2,
         "range": [
          0,
          1.01
         ],
         "title": {
          "text": "Expected Success Probability"
         }
        }
       }
      }
     },
     "metadata": {},
     "output_type": "display_data"
    }
   ],
   "source": [
    "total = []\n",
    "for i in df2['Cosim_Values']:\n",
    "    total += i\n",
    "total=dict(Value=total)\n",
    "threshold=[[0.2],[0.4],[0.6],[0.8]]\n",
    "alphalevel=0.05\n",
    "alpha=[1]\n",
    "beta=[1]\n",
    "\n",
    "result=Bayes(total, threshold, alpha, beta, alphalevel, direction='greater')\n",
    "result.res\n",
    "result.Plot_Bayes(yrange=[0,1.01,0.2], height=800)\n"
   ]
  },
  {
   "cell_type": "code",
   "execution_count": 6,
   "metadata": {},
   "outputs": [
    {
     "data": {
      "text/html": [
       "<div>\n",
       "<style scoped>\n",
       "    .dataframe tbody tr th:only-of-type {\n",
       "        vertical-align: middle;\n",
       "    }\n",
       "\n",
       "    .dataframe tbody tr th {\n",
       "        vertical-align: top;\n",
       "    }\n",
       "\n",
       "    .dataframe thead th {\n",
       "        text-align: right;\n",
       "    }\n",
       "</style>\n",
       "<table border=\"1\" class=\"dataframe\">\n",
       "  <thead>\n",
       "    <tr style=\"text-align: right;\">\n",
       "      <th></th>\n",
       "      <th>Component</th>\n",
       "      <th>alpha</th>\n",
       "      <th>beta</th>\n",
       "      <th>Expected Success Probability</th>\n",
       "      <th>Variance of Success Probability</th>\n",
       "      <th>95.0%-level Credible Interval</th>\n",
       "      <th>Threshold</th>\n",
       "    </tr>\n",
       "  </thead>\n",
       "  <tbody>\n",
       "    <tr>\n",
       "      <th>0</th>\n",
       "      <td>mathematics</td>\n",
       "      <td>1657.3408</td>\n",
       "      <td>147.948031</td>\n",
       "      <td>0.9180</td>\n",
       "      <td>0.000042</td>\n",
       "      <td>[0.905, 0.9303]</td>\n",
       "      <td>[0.2, 0.2, 0.2, 0.2, 0.2, 0.2, 0.2, 0.2]</td>\n",
       "    </tr>\n",
       "    <tr>\n",
       "      <th>1</th>\n",
       "      <td>economics</td>\n",
       "      <td>157.3408</td>\n",
       "      <td>31.948031</td>\n",
       "      <td>0.8312</td>\n",
       "      <td>0.000737</td>\n",
       "      <td>[0.7748, 0.881]</td>\n",
       "      <td>[0.2, 0.2, 0.2, 0.2, 0.2, 0.2, 0.2, 0.2]</td>\n",
       "    </tr>\n",
       "    <tr>\n",
       "      <th>2</th>\n",
       "      <td>quantitative_biology</td>\n",
       "      <td>249.3408</td>\n",
       "      <td>24.948031</td>\n",
       "      <td>0.9090</td>\n",
       "      <td>0.000300</td>\n",
       "      <td>[0.8724, 0.9401]</td>\n",
       "      <td>[0.2, 0.2, 0.2, 0.2, 0.2, 0.2, 0.2, 0.2]</td>\n",
       "    </tr>\n",
       "    <tr>\n",
       "      <th>3</th>\n",
       "      <td>statistics</td>\n",
       "      <td>641.3408</td>\n",
       "      <td>40.948031</td>\n",
       "      <td>0.9400</td>\n",
       "      <td>0.000083</td>\n",
       "      <td>[0.921, 0.9565]</td>\n",
       "      <td>[0.2, 0.2, 0.2, 0.2, 0.2, 0.2, 0.2, 0.2]</td>\n",
       "    </tr>\n",
       "    <tr>\n",
       "      <th>4</th>\n",
       "      <td>computer_science</td>\n",
       "      <td>6353.3408</td>\n",
       "      <td>172.948031</td>\n",
       "      <td>0.9735</td>\n",
       "      <td>0.000004</td>\n",
       "      <td>[0.9695, 0.9773]</td>\n",
       "      <td>[0.2, 0.2, 0.2, 0.2, 0.2, 0.2, 0.2, 0.2]</td>\n",
       "    </tr>\n",
       "    <tr>\n",
       "      <th>5</th>\n",
       "      <td>electric_engineering_and_systems_science</td>\n",
       "      <td>1189.3408</td>\n",
       "      <td>62.948031</td>\n",
       "      <td>0.9497</td>\n",
       "      <td>0.000038</td>\n",
       "      <td>[0.937, 0.9611]</td>\n",
       "      <td>[0.2, 0.2, 0.2, 0.2, 0.2, 0.2, 0.2, 0.2]</td>\n",
       "    </tr>\n",
       "    <tr>\n",
       "      <th>6</th>\n",
       "      <td>quantitative_finance</td>\n",
       "      <td>146.3408</td>\n",
       "      <td>23.948031</td>\n",
       "      <td>0.8594</td>\n",
       "      <td>0.000706</td>\n",
       "      <td>[0.8035, 0.9073]</td>\n",
       "      <td>[0.2, 0.2, 0.2, 0.2, 0.2, 0.2, 0.2, 0.2]</td>\n",
       "    </tr>\n",
       "    <tr>\n",
       "      <th>7</th>\n",
       "      <td>physics</td>\n",
       "      <td>3197.3408</td>\n",
       "      <td>140.948031</td>\n",
       "      <td>0.9578</td>\n",
       "      <td>0.000012</td>\n",
       "      <td>[0.9507, 0.9643]</td>\n",
       "      <td>[0.2, 0.2, 0.2, 0.2, 0.2, 0.2, 0.2, 0.2]</td>\n",
       "    </tr>\n",
       "    <tr>\n",
       "      <th>0</th>\n",
       "      <td>mathematics</td>\n",
       "      <td>1237.3408</td>\n",
       "      <td>567.948031</td>\n",
       "      <td>0.6854</td>\n",
       "      <td>0.000119</td>\n",
       "      <td>[0.6638, 0.7066]</td>\n",
       "      <td>[0.5, 0.5, 0.5, 0.5, 0.5, 0.5, 0.5, 0.5]</td>\n",
       "    </tr>\n",
       "    <tr>\n",
       "      <th>1</th>\n",
       "      <td>economics</td>\n",
       "      <td>135.3408</td>\n",
       "      <td>53.948031</td>\n",
       "      <td>0.7150</td>\n",
       "      <td>0.001071</td>\n",
       "      <td>[0.6488, 0.7769]</td>\n",
       "      <td>[0.5, 0.5, 0.5, 0.5, 0.5, 0.5, 0.5, 0.5]</td>\n",
       "    </tr>\n",
       "    <tr>\n",
       "      <th>2</th>\n",
       "      <td>quantitative_biology</td>\n",
       "      <td>189.3408</td>\n",
       "      <td>84.948031</td>\n",
       "      <td>0.6903</td>\n",
       "      <td>0.000777</td>\n",
       "      <td>[0.6344, 0.7435]</td>\n",
       "      <td>[0.5, 0.5, 0.5, 0.5, 0.5, 0.5, 0.5, 0.5]</td>\n",
       "    </tr>\n",
       "    <tr>\n",
       "      <th>3</th>\n",
       "      <td>statistics</td>\n",
       "      <td>485.3408</td>\n",
       "      <td>196.948031</td>\n",
       "      <td>0.7113</td>\n",
       "      <td>0.000301</td>\n",
       "      <td>[0.6768, 0.7447]</td>\n",
       "      <td>[0.5, 0.5, 0.5, 0.5, 0.5, 0.5, 0.5, 0.5]</td>\n",
       "    </tr>\n",
       "    <tr>\n",
       "      <th>4</th>\n",
       "      <td>computer_science</td>\n",
       "      <td>4618.3408</td>\n",
       "      <td>1907.948031</td>\n",
       "      <td>0.7077</td>\n",
       "      <td>0.000032</td>\n",
       "      <td>[0.6966, 0.7186]</td>\n",
       "      <td>[0.5, 0.5, 0.5, 0.5, 0.5, 0.5, 0.5, 0.5]</td>\n",
       "    </tr>\n",
       "    <tr>\n",
       "      <th>5</th>\n",
       "      <td>electric_engineering_and_systems_science</td>\n",
       "      <td>898.3408</td>\n",
       "      <td>353.948031</td>\n",
       "      <td>0.7174</td>\n",
       "      <td>0.000162</td>\n",
       "      <td>[0.6921, 0.742]</td>\n",
       "      <td>[0.5, 0.5, 0.5, 0.5, 0.5, 0.5, 0.5, 0.5]</td>\n",
       "    </tr>\n",
       "    <tr>\n",
       "      <th>6</th>\n",
       "      <td>quantitative_finance</td>\n",
       "      <td>123.3408</td>\n",
       "      <td>46.948031</td>\n",
       "      <td>0.7243</td>\n",
       "      <td>0.001166</td>\n",
       "      <td>[0.655, 0.7886]</td>\n",
       "      <td>[0.5, 0.5, 0.5, 0.5, 0.5, 0.5, 0.5, 0.5]</td>\n",
       "    </tr>\n",
       "    <tr>\n",
       "      <th>7</th>\n",
       "      <td>physics</td>\n",
       "      <td>2602.3408</td>\n",
       "      <td>735.948031</td>\n",
       "      <td>0.7795</td>\n",
       "      <td>0.000051</td>\n",
       "      <td>[0.7653, 0.7934]</td>\n",
       "      <td>[0.5, 0.5, 0.5, 0.5, 0.5, 0.5, 0.5, 0.5]</td>\n",
       "    </tr>\n",
       "    <tr>\n",
       "      <th>0</th>\n",
       "      <td>mathematics</td>\n",
       "      <td>76.3408</td>\n",
       "      <td>1728.948031</td>\n",
       "      <td>0.0423</td>\n",
       "      <td>0.000022</td>\n",
       "      <td>[0.0335, 0.052]</td>\n",
       "      <td>[0.8, 0.8, 0.8, 0.8, 0.8, 0.8, 0.8, 0.8]</td>\n",
       "    </tr>\n",
       "    <tr>\n",
       "      <th>1</th>\n",
       "      <td>economics</td>\n",
       "      <td>60.3408</td>\n",
       "      <td>128.948031</td>\n",
       "      <td>0.3188</td>\n",
       "      <td>0.001141</td>\n",
       "      <td>[0.2545, 0.3867]</td>\n",
       "      <td>[0.8, 0.8, 0.8, 0.8, 0.8, 0.8, 0.8, 0.8]</td>\n",
       "    </tr>\n",
       "    <tr>\n",
       "      <th>2</th>\n",
       "      <td>quantitative_biology</td>\n",
       "      <td>58.3408</td>\n",
       "      <td>215.948031</td>\n",
       "      <td>0.2127</td>\n",
       "      <td>0.000608</td>\n",
       "      <td>[0.1664, 0.263]</td>\n",
       "      <td>[0.8, 0.8, 0.8, 0.8, 0.8, 0.8, 0.8, 0.8]</td>\n",
       "    </tr>\n",
       "    <tr>\n",
       "      <th>3</th>\n",
       "      <td>statistics</td>\n",
       "      <td>60.3408</td>\n",
       "      <td>621.948031</td>\n",
       "      <td>0.0884</td>\n",
       "      <td>0.000118</td>\n",
       "      <td>[0.0683, 0.1108]</td>\n",
       "      <td>[0.8, 0.8, 0.8, 0.8, 0.8, 0.8, 0.8, 0.8]</td>\n",
       "    </tr>\n",
       "    <tr>\n",
       "      <th>4</th>\n",
       "      <td>computer_science</td>\n",
       "      <td>84.3408</td>\n",
       "      <td>6441.948031</td>\n",
       "      <td>0.0129</td>\n",
       "      <td>0.000002</td>\n",
       "      <td>[0.0103, 0.0158]</td>\n",
       "      <td>[0.8, 0.8, 0.8, 0.8, 0.8, 0.8, 0.8, 0.8]</td>\n",
       "    </tr>\n",
       "    <tr>\n",
       "      <th>5</th>\n",
       "      <td>electric_engineering_and_systems_science</td>\n",
       "      <td>62.3408</td>\n",
       "      <td>1189.948031</td>\n",
       "      <td>0.0498</td>\n",
       "      <td>0.000038</td>\n",
       "      <td>[0.0384, 0.0625]</td>\n",
       "      <td>[0.8, 0.8, 0.8, 0.8, 0.8, 0.8, 0.8, 0.8]</td>\n",
       "    </tr>\n",
       "    <tr>\n",
       "      <th>6</th>\n",
       "      <td>quantitative_finance</td>\n",
       "      <td>60.3408</td>\n",
       "      <td>109.948031</td>\n",
       "      <td>0.3543</td>\n",
       "      <td>0.001336</td>\n",
       "      <td>[0.2844, 0.4275]</td>\n",
       "      <td>[0.8, 0.8, 0.8, 0.8, 0.8, 0.8, 0.8, 0.8]</td>\n",
       "    </tr>\n",
       "    <tr>\n",
       "      <th>7</th>\n",
       "      <td>physics</td>\n",
       "      <td>116.3408</td>\n",
       "      <td>3221.948031</td>\n",
       "      <td>0.0349</td>\n",
       "      <td>0.000010</td>\n",
       "      <td>[0.0289, 0.0413]</td>\n",
       "      <td>[0.8, 0.8, 0.8, 0.8, 0.8, 0.8, 0.8, 0.8]</td>\n",
       "    </tr>\n",
       "    <tr>\n",
       "      <th>0</th>\n",
       "      <td>mathematics</td>\n",
       "      <td>58.3408</td>\n",
       "      <td>1746.948031</td>\n",
       "      <td>0.0323</td>\n",
       "      <td>0.000017</td>\n",
       "      <td>[0.0247, 0.041]</td>\n",
       "      <td>[0.9, 0.9, 0.9, 0.9, 0.9, 0.9, 0.9, 0.9]</td>\n",
       "    </tr>\n",
       "    <tr>\n",
       "      <th>1</th>\n",
       "      <td>economics</td>\n",
       "      <td>57.3408</td>\n",
       "      <td>131.948031</td>\n",
       "      <td>0.3029</td>\n",
       "      <td>0.001110</td>\n",
       "      <td>[0.2397, 0.3701]</td>\n",
       "      <td>[0.9, 0.9, 0.9, 0.9, 0.9, 0.9, 0.9, 0.9]</td>\n",
       "    </tr>\n",
       "    <tr>\n",
       "      <th>2</th>\n",
       "      <td>quantitative_biology</td>\n",
       "      <td>57.3408</td>\n",
       "      <td>216.948031</td>\n",
       "      <td>0.2091</td>\n",
       "      <td>0.000601</td>\n",
       "      <td>[0.1631, 0.259]</td>\n",
       "      <td>[0.9, 0.9, 0.9, 0.9, 0.9, 0.9, 0.9, 0.9]</td>\n",
       "    </tr>\n",
       "    <tr>\n",
       "      <th>3</th>\n",
       "      <td>statistics</td>\n",
       "      <td>57.3408</td>\n",
       "      <td>624.948031</td>\n",
       "      <td>0.0840</td>\n",
       "      <td>0.000113</td>\n",
       "      <td>[0.0644, 0.106]</td>\n",
       "      <td>[0.9, 0.9, 0.9, 0.9, 0.9, 0.9, 0.9, 0.9]</td>\n",
       "    </tr>\n",
       "    <tr>\n",
       "      <th>4</th>\n",
       "      <td>computer_science</td>\n",
       "      <td>57.3408</td>\n",
       "      <td>6468.948031</td>\n",
       "      <td>0.0088</td>\n",
       "      <td>0.000001</td>\n",
       "      <td>[0.0067, 0.0112]</td>\n",
       "      <td>[0.9, 0.9, 0.9, 0.9, 0.9, 0.9, 0.9, 0.9]</td>\n",
       "    </tr>\n",
       "    <tr>\n",
       "      <th>5</th>\n",
       "      <td>electric_engineering_and_systems_science</td>\n",
       "      <td>57.3408</td>\n",
       "      <td>1194.948031</td>\n",
       "      <td>0.0458</td>\n",
       "      <td>0.000035</td>\n",
       "      <td>[0.0349, 0.058]</td>\n",
       "      <td>[0.9, 0.9, 0.9, 0.9, 0.9, 0.9, 0.9, 0.9]</td>\n",
       "    </tr>\n",
       "    <tr>\n",
       "      <th>6</th>\n",
       "      <td>quantitative_finance</td>\n",
       "      <td>57.3408</td>\n",
       "      <td>112.948031</td>\n",
       "      <td>0.3367</td>\n",
       "      <td>0.001304</td>\n",
       "      <td>[0.2679, 0.4092]</td>\n",
       "      <td>[0.9, 0.9, 0.9, 0.9, 0.9, 0.9, 0.9, 0.9]</td>\n",
       "    </tr>\n",
       "    <tr>\n",
       "      <th>7</th>\n",
       "      <td>physics</td>\n",
       "      <td>57.3408</td>\n",
       "      <td>3280.948031</td>\n",
       "      <td>0.0172</td>\n",
       "      <td>0.000005</td>\n",
       "      <td>[0.0131, 0.0219]</td>\n",
       "      <td>[0.9, 0.9, 0.9, 0.9, 0.9, 0.9, 0.9, 0.9]</td>\n",
       "    </tr>\n",
       "  </tbody>\n",
       "</table>\n",
       "</div>"
      ],
      "text/plain": [
       "                                  Component      alpha         beta  \\\n",
       "0                               mathematics  1657.3408   147.948031   \n",
       "1                                 economics   157.3408    31.948031   \n",
       "2                      quantitative_biology   249.3408    24.948031   \n",
       "3                                statistics   641.3408    40.948031   \n",
       "4                          computer_science  6353.3408   172.948031   \n",
       "5  electric_engineering_and_systems_science  1189.3408    62.948031   \n",
       "6                      quantitative_finance   146.3408    23.948031   \n",
       "7                                   physics  3197.3408   140.948031   \n",
       "0                               mathematics  1237.3408   567.948031   \n",
       "1                                 economics   135.3408    53.948031   \n",
       "2                      quantitative_biology   189.3408    84.948031   \n",
       "3                                statistics   485.3408   196.948031   \n",
       "4                          computer_science  4618.3408  1907.948031   \n",
       "5  electric_engineering_and_systems_science   898.3408   353.948031   \n",
       "6                      quantitative_finance   123.3408    46.948031   \n",
       "7                                   physics  2602.3408   735.948031   \n",
       "0                               mathematics    76.3408  1728.948031   \n",
       "1                                 economics    60.3408   128.948031   \n",
       "2                      quantitative_biology    58.3408   215.948031   \n",
       "3                                statistics    60.3408   621.948031   \n",
       "4                          computer_science    84.3408  6441.948031   \n",
       "5  electric_engineering_and_systems_science    62.3408  1189.948031   \n",
       "6                      quantitative_finance    60.3408   109.948031   \n",
       "7                                   physics   116.3408  3221.948031   \n",
       "0                               mathematics    58.3408  1746.948031   \n",
       "1                                 economics    57.3408   131.948031   \n",
       "2                      quantitative_biology    57.3408   216.948031   \n",
       "3                                statistics    57.3408   624.948031   \n",
       "4                          computer_science    57.3408  6468.948031   \n",
       "5  electric_engineering_and_systems_science    57.3408  1194.948031   \n",
       "6                      quantitative_finance    57.3408   112.948031   \n",
       "7                                   physics    57.3408  3280.948031   \n",
       "\n",
       "   Expected Success Probability  Variance of Success Probability  \\\n",
       "0                        0.9180                         0.000042   \n",
       "1                        0.8312                         0.000737   \n",
       "2                        0.9090                         0.000300   \n",
       "3                        0.9400                         0.000083   \n",
       "4                        0.9735                         0.000004   \n",
       "5                        0.9497                         0.000038   \n",
       "6                        0.8594                         0.000706   \n",
       "7                        0.9578                         0.000012   \n",
       "0                        0.6854                         0.000119   \n",
       "1                        0.7150                         0.001071   \n",
       "2                        0.6903                         0.000777   \n",
       "3                        0.7113                         0.000301   \n",
       "4                        0.7077                         0.000032   \n",
       "5                        0.7174                         0.000162   \n",
       "6                        0.7243                         0.001166   \n",
       "7                        0.7795                         0.000051   \n",
       "0                        0.0423                         0.000022   \n",
       "1                        0.3188                         0.001141   \n",
       "2                        0.2127                         0.000608   \n",
       "3                        0.0884                         0.000118   \n",
       "4                        0.0129                         0.000002   \n",
       "5                        0.0498                         0.000038   \n",
       "6                        0.3543                         0.001336   \n",
       "7                        0.0349                         0.000010   \n",
       "0                        0.0323                         0.000017   \n",
       "1                        0.3029                         0.001110   \n",
       "2                        0.2091                         0.000601   \n",
       "3                        0.0840                         0.000113   \n",
       "4                        0.0088                         0.000001   \n",
       "5                        0.0458                         0.000035   \n",
       "6                        0.3367                         0.001304   \n",
       "7                        0.0172                         0.000005   \n",
       "\n",
       "  95.0%-level Credible Interval                                 Threshold  \n",
       "0               [0.905, 0.9303]  [0.2, 0.2, 0.2, 0.2, 0.2, 0.2, 0.2, 0.2]  \n",
       "1               [0.7748, 0.881]  [0.2, 0.2, 0.2, 0.2, 0.2, 0.2, 0.2, 0.2]  \n",
       "2              [0.8724, 0.9401]  [0.2, 0.2, 0.2, 0.2, 0.2, 0.2, 0.2, 0.2]  \n",
       "3               [0.921, 0.9565]  [0.2, 0.2, 0.2, 0.2, 0.2, 0.2, 0.2, 0.2]  \n",
       "4              [0.9695, 0.9773]  [0.2, 0.2, 0.2, 0.2, 0.2, 0.2, 0.2, 0.2]  \n",
       "5               [0.937, 0.9611]  [0.2, 0.2, 0.2, 0.2, 0.2, 0.2, 0.2, 0.2]  \n",
       "6              [0.8035, 0.9073]  [0.2, 0.2, 0.2, 0.2, 0.2, 0.2, 0.2, 0.2]  \n",
       "7              [0.9507, 0.9643]  [0.2, 0.2, 0.2, 0.2, 0.2, 0.2, 0.2, 0.2]  \n",
       "0              [0.6638, 0.7066]  [0.5, 0.5, 0.5, 0.5, 0.5, 0.5, 0.5, 0.5]  \n",
       "1              [0.6488, 0.7769]  [0.5, 0.5, 0.5, 0.5, 0.5, 0.5, 0.5, 0.5]  \n",
       "2              [0.6344, 0.7435]  [0.5, 0.5, 0.5, 0.5, 0.5, 0.5, 0.5, 0.5]  \n",
       "3              [0.6768, 0.7447]  [0.5, 0.5, 0.5, 0.5, 0.5, 0.5, 0.5, 0.5]  \n",
       "4              [0.6966, 0.7186]  [0.5, 0.5, 0.5, 0.5, 0.5, 0.5, 0.5, 0.5]  \n",
       "5               [0.6921, 0.742]  [0.5, 0.5, 0.5, 0.5, 0.5, 0.5, 0.5, 0.5]  \n",
       "6               [0.655, 0.7886]  [0.5, 0.5, 0.5, 0.5, 0.5, 0.5, 0.5, 0.5]  \n",
       "7              [0.7653, 0.7934]  [0.5, 0.5, 0.5, 0.5, 0.5, 0.5, 0.5, 0.5]  \n",
       "0               [0.0335, 0.052]  [0.8, 0.8, 0.8, 0.8, 0.8, 0.8, 0.8, 0.8]  \n",
       "1              [0.2545, 0.3867]  [0.8, 0.8, 0.8, 0.8, 0.8, 0.8, 0.8, 0.8]  \n",
       "2               [0.1664, 0.263]  [0.8, 0.8, 0.8, 0.8, 0.8, 0.8, 0.8, 0.8]  \n",
       "3              [0.0683, 0.1108]  [0.8, 0.8, 0.8, 0.8, 0.8, 0.8, 0.8, 0.8]  \n",
       "4              [0.0103, 0.0158]  [0.8, 0.8, 0.8, 0.8, 0.8, 0.8, 0.8, 0.8]  \n",
       "5              [0.0384, 0.0625]  [0.8, 0.8, 0.8, 0.8, 0.8, 0.8, 0.8, 0.8]  \n",
       "6              [0.2844, 0.4275]  [0.8, 0.8, 0.8, 0.8, 0.8, 0.8, 0.8, 0.8]  \n",
       "7              [0.0289, 0.0413]  [0.8, 0.8, 0.8, 0.8, 0.8, 0.8, 0.8, 0.8]  \n",
       "0               [0.0247, 0.041]  [0.9, 0.9, 0.9, 0.9, 0.9, 0.9, 0.9, 0.9]  \n",
       "1              [0.2397, 0.3701]  [0.9, 0.9, 0.9, 0.9, 0.9, 0.9, 0.9, 0.9]  \n",
       "2               [0.1631, 0.259]  [0.9, 0.9, 0.9, 0.9, 0.9, 0.9, 0.9, 0.9]  \n",
       "3               [0.0644, 0.106]  [0.9, 0.9, 0.9, 0.9, 0.9, 0.9, 0.9, 0.9]  \n",
       "4              [0.0067, 0.0112]  [0.9, 0.9, 0.9, 0.9, 0.9, 0.9, 0.9, 0.9]  \n",
       "5               [0.0349, 0.058]  [0.9, 0.9, 0.9, 0.9, 0.9, 0.9, 0.9, 0.9]  \n",
       "6              [0.2679, 0.4092]  [0.9, 0.9, 0.9, 0.9, 0.9, 0.9, 0.9, 0.9]  \n",
       "7              [0.0131, 0.0219]  [0.9, 0.9, 0.9, 0.9, 0.9, 0.9, 0.9, 0.9]  "
      ]
     },
     "metadata": {},
     "output_type": "display_data"
    },
    {
     "data": {
      "application/vnd.plotly.v1+json": {
       "config": {
        "plotlyServerURL": "https://plot.ly"
       },
       "data": [
        {
         "alignmentgroup": "True",
         "error_y": {
          "array": [
           0.012299999999999978,
           0.049799999999999955,
           0.031100000000000017,
           0.01650000000000007,
           0.0037999999999999146,
           0.011399999999999966,
           0.04789999999999994,
           0.006500000000000061,
           0.021199999999999997,
           0.061900000000000066,
           0.053200000000000025,
           0.033399999999999985,
           0.01090000000000002,
           0.024599999999999955,
           0.06429999999999991,
           0.013900000000000023,
           0.0097,
           0.06790000000000002,
           0.05030000000000001,
           0.02239999999999999,
           0.0029000000000000015,
           0.012700000000000003,
           0.07319999999999999,
           0.006400000000000003,
           0.0087,
           0.06719999999999998,
           0.0499,
           0.021999999999999992,
           0.0023999999999999994,
           0.012200000000000003,
           0.07250000000000001,
           0.004699999999999999
          ],
          "arrayminus": [
           0.013000000000000012,
           0.056400000000000006,
           0.03660000000000008,
           0.018999999999999906,
           0.0040000000000000036,
           0.012699999999999934,
           0.05590000000000006,
           0.007099999999999995,
           0.021600000000000064,
           0.06619999999999993,
           0.05590000000000006,
           0.034500000000000086,
           0.011099999999999999,
           0.02529999999999999,
           0.06930000000000003,
           0.01419999999999999,
           0.008799999999999995,
           0.06429999999999997,
           0.04630000000000001,
           0.020100000000000007,
           0.0026,
           0.0114,
           0.06990000000000002,
           0.006000000000000002,
           0.007600000000000003,
           0.0632,
           0.04600000000000001,
           0.019600000000000006,
           0.0021000000000000003,
           0.0109,
           0.06879999999999997,
           0.0040999999999999995
          ],
          "symmetric": false,
          "type": "data"
         },
         "hovertemplate": "Threshold=[0.2, 0.2, 0.2, 0.2, 0.2, 0.2, 0.2, 0.2]<br>Component=%{x}<br>Expected Success Probability=%{y}<br>text=%{text}<extra></extra>",
         "legendgroup": "[0.2, 0.2, 0.2, 0.2, 0.2, 0.2, 0.2, 0.2]",
         "marker": {
          "color": "#636efa",
          "pattern": {
           "shape": ""
          }
         },
         "name": "[0.2, 0.2, 0.2, 0.2, 0.2, 0.2, 0.2, 0.2]",
         "offsetgroup": "[0.2, 0.2, 0.2, 0.2, 0.2, 0.2, 0.2, 0.2]",
         "orientation": "v",
         "showlegend": true,
         "text": [
          "91.80%",
          "83.12%",
          "90.90%",
          "94.00%",
          "97.35%",
          "94.97%",
          "85.94%",
          "95.78%"
         ],
         "textfont": {
          "size": 12
         },
         "textposition": "outside",
         "type": "bar",
         "x": [
          "mathematics",
          "economics",
          "quantitative_biology",
          "statistics",
          "computer_science",
          "electric_engineering_and_systems_science",
          "quantitative_finance",
          "physics"
         ],
         "xaxis": "x",
         "y": [
          0.918,
          0.8312,
          0.909,
          0.94,
          0.9735,
          0.9497,
          0.8594,
          0.9578
         ],
         "yaxis": "y"
        },
        {
         "alignmentgroup": "True",
         "error_y": {
          "array": [
           0.012299999999999978,
           0.049799999999999955,
           0.031100000000000017,
           0.01650000000000007,
           0.0037999999999999146,
           0.011399999999999966,
           0.04789999999999994,
           0.006500000000000061,
           0.021199999999999997,
           0.061900000000000066,
           0.053200000000000025,
           0.033399999999999985,
           0.01090000000000002,
           0.024599999999999955,
           0.06429999999999991,
           0.013900000000000023,
           0.0097,
           0.06790000000000002,
           0.05030000000000001,
           0.02239999999999999,
           0.0029000000000000015,
           0.012700000000000003,
           0.07319999999999999,
           0.006400000000000003,
           0.0087,
           0.06719999999999998,
           0.0499,
           0.021999999999999992,
           0.0023999999999999994,
           0.012200000000000003,
           0.07250000000000001,
           0.004699999999999999
          ],
          "arrayminus": [
           0.013000000000000012,
           0.056400000000000006,
           0.03660000000000008,
           0.018999999999999906,
           0.0040000000000000036,
           0.012699999999999934,
           0.05590000000000006,
           0.007099999999999995,
           0.021600000000000064,
           0.06619999999999993,
           0.05590000000000006,
           0.034500000000000086,
           0.011099999999999999,
           0.02529999999999999,
           0.06930000000000003,
           0.01419999999999999,
           0.008799999999999995,
           0.06429999999999997,
           0.04630000000000001,
           0.020100000000000007,
           0.0026,
           0.0114,
           0.06990000000000002,
           0.006000000000000002,
           0.007600000000000003,
           0.0632,
           0.04600000000000001,
           0.019600000000000006,
           0.0021000000000000003,
           0.0109,
           0.06879999999999997,
           0.0040999999999999995
          ],
          "symmetric": false,
          "type": "data"
         },
         "hovertemplate": "Threshold=[0.5, 0.5, 0.5, 0.5, 0.5, 0.5, 0.5, 0.5]<br>Component=%{x}<br>Expected Success Probability=%{y}<br>text=%{text}<extra></extra>",
         "legendgroup": "[0.5, 0.5, 0.5, 0.5, 0.5, 0.5, 0.5, 0.5]",
         "marker": {
          "color": "#EF553B",
          "pattern": {
           "shape": ""
          }
         },
         "name": "[0.5, 0.5, 0.5, 0.5, 0.5, 0.5, 0.5, 0.5]",
         "offsetgroup": "[0.5, 0.5, 0.5, 0.5, 0.5, 0.5, 0.5, 0.5]",
         "orientation": "v",
         "showlegend": true,
         "text": [
          "68.54%",
          "71.50%",
          "69.03%",
          "71.13%",
          "70.77%",
          "71.74%",
          "72.43%",
          "77.95%"
         ],
         "textfont": {
          "size": 12
         },
         "textposition": "outside",
         "type": "bar",
         "x": [
          "mathematics",
          "economics",
          "quantitative_biology",
          "statistics",
          "computer_science",
          "electric_engineering_and_systems_science",
          "quantitative_finance",
          "physics"
         ],
         "xaxis": "x",
         "y": [
          0.6854,
          0.715,
          0.6903,
          0.7113,
          0.7077,
          0.7174,
          0.7243,
          0.7795
         ],
         "yaxis": "y"
        },
        {
         "alignmentgroup": "True",
         "error_y": {
          "array": [
           0.012299999999999978,
           0.049799999999999955,
           0.031100000000000017,
           0.01650000000000007,
           0.0037999999999999146,
           0.011399999999999966,
           0.04789999999999994,
           0.006500000000000061,
           0.021199999999999997,
           0.061900000000000066,
           0.053200000000000025,
           0.033399999999999985,
           0.01090000000000002,
           0.024599999999999955,
           0.06429999999999991,
           0.013900000000000023,
           0.0097,
           0.06790000000000002,
           0.05030000000000001,
           0.02239999999999999,
           0.0029000000000000015,
           0.012700000000000003,
           0.07319999999999999,
           0.006400000000000003,
           0.0087,
           0.06719999999999998,
           0.0499,
           0.021999999999999992,
           0.0023999999999999994,
           0.012200000000000003,
           0.07250000000000001,
           0.004699999999999999
          ],
          "arrayminus": [
           0.013000000000000012,
           0.056400000000000006,
           0.03660000000000008,
           0.018999999999999906,
           0.0040000000000000036,
           0.012699999999999934,
           0.05590000000000006,
           0.007099999999999995,
           0.021600000000000064,
           0.06619999999999993,
           0.05590000000000006,
           0.034500000000000086,
           0.011099999999999999,
           0.02529999999999999,
           0.06930000000000003,
           0.01419999999999999,
           0.008799999999999995,
           0.06429999999999997,
           0.04630000000000001,
           0.020100000000000007,
           0.0026,
           0.0114,
           0.06990000000000002,
           0.006000000000000002,
           0.007600000000000003,
           0.0632,
           0.04600000000000001,
           0.019600000000000006,
           0.0021000000000000003,
           0.0109,
           0.06879999999999997,
           0.0040999999999999995
          ],
          "symmetric": false,
          "type": "data"
         },
         "hovertemplate": "Threshold=[0.8, 0.8, 0.8, 0.8, 0.8, 0.8, 0.8, 0.8]<br>Component=%{x}<br>Expected Success Probability=%{y}<br>text=%{text}<extra></extra>",
         "legendgroup": "[0.8, 0.8, 0.8, 0.8, 0.8, 0.8, 0.8, 0.8]",
         "marker": {
          "color": "#00cc96",
          "pattern": {
           "shape": ""
          }
         },
         "name": "[0.8, 0.8, 0.8, 0.8, 0.8, 0.8, 0.8, 0.8]",
         "offsetgroup": "[0.8, 0.8, 0.8, 0.8, 0.8, 0.8, 0.8, 0.8]",
         "orientation": "v",
         "showlegend": true,
         "text": [
          "4.23%",
          "31.88%",
          "21.27%",
          "8.84%",
          "1.29%",
          "4.98%",
          "35.43%",
          "3.49%"
         ],
         "textfont": {
          "size": 12
         },
         "textposition": "outside",
         "type": "bar",
         "x": [
          "mathematics",
          "economics",
          "quantitative_biology",
          "statistics",
          "computer_science",
          "electric_engineering_and_systems_science",
          "quantitative_finance",
          "physics"
         ],
         "xaxis": "x",
         "y": [
          0.0423,
          0.3188,
          0.2127,
          0.0884,
          0.0129,
          0.0498,
          0.3543,
          0.0349
         ],
         "yaxis": "y"
        },
        {
         "alignmentgroup": "True",
         "error_y": {
          "array": [
           0.012299999999999978,
           0.049799999999999955,
           0.031100000000000017,
           0.01650000000000007,
           0.0037999999999999146,
           0.011399999999999966,
           0.04789999999999994,
           0.006500000000000061,
           0.021199999999999997,
           0.061900000000000066,
           0.053200000000000025,
           0.033399999999999985,
           0.01090000000000002,
           0.024599999999999955,
           0.06429999999999991,
           0.013900000000000023,
           0.0097,
           0.06790000000000002,
           0.05030000000000001,
           0.02239999999999999,
           0.0029000000000000015,
           0.012700000000000003,
           0.07319999999999999,
           0.006400000000000003,
           0.0087,
           0.06719999999999998,
           0.0499,
           0.021999999999999992,
           0.0023999999999999994,
           0.012200000000000003,
           0.07250000000000001,
           0.004699999999999999
          ],
          "arrayminus": [
           0.013000000000000012,
           0.056400000000000006,
           0.03660000000000008,
           0.018999999999999906,
           0.0040000000000000036,
           0.012699999999999934,
           0.05590000000000006,
           0.007099999999999995,
           0.021600000000000064,
           0.06619999999999993,
           0.05590000000000006,
           0.034500000000000086,
           0.011099999999999999,
           0.02529999999999999,
           0.06930000000000003,
           0.01419999999999999,
           0.008799999999999995,
           0.06429999999999997,
           0.04630000000000001,
           0.020100000000000007,
           0.0026,
           0.0114,
           0.06990000000000002,
           0.006000000000000002,
           0.007600000000000003,
           0.0632,
           0.04600000000000001,
           0.019600000000000006,
           0.0021000000000000003,
           0.0109,
           0.06879999999999997,
           0.0040999999999999995
          ],
          "symmetric": false,
          "type": "data"
         },
         "hovertemplate": "Threshold=[0.9, 0.9, 0.9, 0.9, 0.9, 0.9, 0.9, 0.9]<br>Component=%{x}<br>Expected Success Probability=%{y}<br>text=%{text}<extra></extra>",
         "legendgroup": "[0.9, 0.9, 0.9, 0.9, 0.9, 0.9, 0.9, 0.9]",
         "marker": {
          "color": "#ab63fa",
          "pattern": {
           "shape": ""
          }
         },
         "name": "[0.9, 0.9, 0.9, 0.9, 0.9, 0.9, 0.9, 0.9]",
         "offsetgroup": "[0.9, 0.9, 0.9, 0.9, 0.9, 0.9, 0.9, 0.9]",
         "orientation": "v",
         "showlegend": true,
         "text": [
          "3.23%",
          "30.29%",
          "20.91%",
          "8.40%",
          "0.88%",
          "4.58%",
          "33.67%",
          "1.72%"
         ],
         "textfont": {
          "size": 12
         },
         "textposition": "outside",
         "type": "bar",
         "x": [
          "mathematics",
          "economics",
          "quantitative_biology",
          "statistics",
          "computer_science",
          "electric_engineering_and_systems_science",
          "quantitative_finance",
          "physics"
         ],
         "xaxis": "x",
         "y": [
          0.0323,
          0.3029,
          0.2091,
          0.084,
          0.0088,
          0.0458,
          0.3367,
          0.0172
         ],
         "yaxis": "y"
        }
       ],
       "layout": {
        "barmode": "group",
        "height": 600,
        "legend": {
         "title": {
          "text": "Threshold"
         },
         "tracegroupgap": 0
        },
        "margin": {
         "t": 60
        },
        "template": {
         "data": {
          "bar": [
           {
            "error_x": {
             "color": "#2a3f5f"
            },
            "error_y": {
             "color": "#2a3f5f"
            },
            "marker": {
             "line": {
              "color": "#E5ECF6",
              "width": 0.5
             },
             "pattern": {
              "fillmode": "overlay",
              "size": 10,
              "solidity": 0.2
             }
            },
            "type": "bar"
           }
          ],
          "barpolar": [
           {
            "marker": {
             "line": {
              "color": "#E5ECF6",
              "width": 0.5
             },
             "pattern": {
              "fillmode": "overlay",
              "size": 10,
              "solidity": 0.2
             }
            },
            "type": "barpolar"
           }
          ],
          "carpet": [
           {
            "aaxis": {
             "endlinecolor": "#2a3f5f",
             "gridcolor": "white",
             "linecolor": "white",
             "minorgridcolor": "white",
             "startlinecolor": "#2a3f5f"
            },
            "baxis": {
             "endlinecolor": "#2a3f5f",
             "gridcolor": "white",
             "linecolor": "white",
             "minorgridcolor": "white",
             "startlinecolor": "#2a3f5f"
            },
            "type": "carpet"
           }
          ],
          "choropleth": [
           {
            "colorbar": {
             "outlinewidth": 0,
             "ticks": ""
            },
            "type": "choropleth"
           }
          ],
          "contour": [
           {
            "colorbar": {
             "outlinewidth": 0,
             "ticks": ""
            },
            "colorscale": [
             [
              0,
              "#0d0887"
             ],
             [
              0.1111111111111111,
              "#46039f"
             ],
             [
              0.2222222222222222,
              "#7201a8"
             ],
             [
              0.3333333333333333,
              "#9c179e"
             ],
             [
              0.4444444444444444,
              "#bd3786"
             ],
             [
              0.5555555555555556,
              "#d8576b"
             ],
             [
              0.6666666666666666,
              "#ed7953"
             ],
             [
              0.7777777777777778,
              "#fb9f3a"
             ],
             [
              0.8888888888888888,
              "#fdca26"
             ],
             [
              1,
              "#f0f921"
             ]
            ],
            "type": "contour"
           }
          ],
          "contourcarpet": [
           {
            "colorbar": {
             "outlinewidth": 0,
             "ticks": ""
            },
            "type": "contourcarpet"
           }
          ],
          "heatmap": [
           {
            "colorbar": {
             "outlinewidth": 0,
             "ticks": ""
            },
            "colorscale": [
             [
              0,
              "#0d0887"
             ],
             [
              0.1111111111111111,
              "#46039f"
             ],
             [
              0.2222222222222222,
              "#7201a8"
             ],
             [
              0.3333333333333333,
              "#9c179e"
             ],
             [
              0.4444444444444444,
              "#bd3786"
             ],
             [
              0.5555555555555556,
              "#d8576b"
             ],
             [
              0.6666666666666666,
              "#ed7953"
             ],
             [
              0.7777777777777778,
              "#fb9f3a"
             ],
             [
              0.8888888888888888,
              "#fdca26"
             ],
             [
              1,
              "#f0f921"
             ]
            ],
            "type": "heatmap"
           }
          ],
          "heatmapgl": [
           {
            "colorbar": {
             "outlinewidth": 0,
             "ticks": ""
            },
            "colorscale": [
             [
              0,
              "#0d0887"
             ],
             [
              0.1111111111111111,
              "#46039f"
             ],
             [
              0.2222222222222222,
              "#7201a8"
             ],
             [
              0.3333333333333333,
              "#9c179e"
             ],
             [
              0.4444444444444444,
              "#bd3786"
             ],
             [
              0.5555555555555556,
              "#d8576b"
             ],
             [
              0.6666666666666666,
              "#ed7953"
             ],
             [
              0.7777777777777778,
              "#fb9f3a"
             ],
             [
              0.8888888888888888,
              "#fdca26"
             ],
             [
              1,
              "#f0f921"
             ]
            ],
            "type": "heatmapgl"
           }
          ],
          "histogram": [
           {
            "marker": {
             "pattern": {
              "fillmode": "overlay",
              "size": 10,
              "solidity": 0.2
             }
            },
            "type": "histogram"
           }
          ],
          "histogram2d": [
           {
            "colorbar": {
             "outlinewidth": 0,
             "ticks": ""
            },
            "colorscale": [
             [
              0,
              "#0d0887"
             ],
             [
              0.1111111111111111,
              "#46039f"
             ],
             [
              0.2222222222222222,
              "#7201a8"
             ],
             [
              0.3333333333333333,
              "#9c179e"
             ],
             [
              0.4444444444444444,
              "#bd3786"
             ],
             [
              0.5555555555555556,
              "#d8576b"
             ],
             [
              0.6666666666666666,
              "#ed7953"
             ],
             [
              0.7777777777777778,
              "#fb9f3a"
             ],
             [
              0.8888888888888888,
              "#fdca26"
             ],
             [
              1,
              "#f0f921"
             ]
            ],
            "type": "histogram2d"
           }
          ],
          "histogram2dcontour": [
           {
            "colorbar": {
             "outlinewidth": 0,
             "ticks": ""
            },
            "colorscale": [
             [
              0,
              "#0d0887"
             ],
             [
              0.1111111111111111,
              "#46039f"
             ],
             [
              0.2222222222222222,
              "#7201a8"
             ],
             [
              0.3333333333333333,
              "#9c179e"
             ],
             [
              0.4444444444444444,
              "#bd3786"
             ],
             [
              0.5555555555555556,
              "#d8576b"
             ],
             [
              0.6666666666666666,
              "#ed7953"
             ],
             [
              0.7777777777777778,
              "#fb9f3a"
             ],
             [
              0.8888888888888888,
              "#fdca26"
             ],
             [
              1,
              "#f0f921"
             ]
            ],
            "type": "histogram2dcontour"
           }
          ],
          "mesh3d": [
           {
            "colorbar": {
             "outlinewidth": 0,
             "ticks": ""
            },
            "type": "mesh3d"
           }
          ],
          "parcoords": [
           {
            "line": {
             "colorbar": {
              "outlinewidth": 0,
              "ticks": ""
             }
            },
            "type": "parcoords"
           }
          ],
          "pie": [
           {
            "automargin": true,
            "type": "pie"
           }
          ],
          "scatter": [
           {
            "fillpattern": {
             "fillmode": "overlay",
             "size": 10,
             "solidity": 0.2
            },
            "type": "scatter"
           }
          ],
          "scatter3d": [
           {
            "line": {
             "colorbar": {
              "outlinewidth": 0,
              "ticks": ""
             }
            },
            "marker": {
             "colorbar": {
              "outlinewidth": 0,
              "ticks": ""
             }
            },
            "type": "scatter3d"
           }
          ],
          "scattercarpet": [
           {
            "marker": {
             "colorbar": {
              "outlinewidth": 0,
              "ticks": ""
             }
            },
            "type": "scattercarpet"
           }
          ],
          "scattergeo": [
           {
            "marker": {
             "colorbar": {
              "outlinewidth": 0,
              "ticks": ""
             }
            },
            "type": "scattergeo"
           }
          ],
          "scattergl": [
           {
            "marker": {
             "colorbar": {
              "outlinewidth": 0,
              "ticks": ""
             }
            },
            "type": "scattergl"
           }
          ],
          "scattermapbox": [
           {
            "marker": {
             "colorbar": {
              "outlinewidth": 0,
              "ticks": ""
             }
            },
            "type": "scattermapbox"
           }
          ],
          "scatterpolar": [
           {
            "marker": {
             "colorbar": {
              "outlinewidth": 0,
              "ticks": ""
             }
            },
            "type": "scatterpolar"
           }
          ],
          "scatterpolargl": [
           {
            "marker": {
             "colorbar": {
              "outlinewidth": 0,
              "ticks": ""
             }
            },
            "type": "scatterpolargl"
           }
          ],
          "scatterternary": [
           {
            "marker": {
             "colorbar": {
              "outlinewidth": 0,
              "ticks": ""
             }
            },
            "type": "scatterternary"
           }
          ],
          "surface": [
           {
            "colorbar": {
             "outlinewidth": 0,
             "ticks": ""
            },
            "colorscale": [
             [
              0,
              "#0d0887"
             ],
             [
              0.1111111111111111,
              "#46039f"
             ],
             [
              0.2222222222222222,
              "#7201a8"
             ],
             [
              0.3333333333333333,
              "#9c179e"
             ],
             [
              0.4444444444444444,
              "#bd3786"
             ],
             [
              0.5555555555555556,
              "#d8576b"
             ],
             [
              0.6666666666666666,
              "#ed7953"
             ],
             [
              0.7777777777777778,
              "#fb9f3a"
             ],
             [
              0.8888888888888888,
              "#fdca26"
             ],
             [
              1,
              "#f0f921"
             ]
            ],
            "type": "surface"
           }
          ],
          "table": [
           {
            "cells": {
             "fill": {
              "color": "#EBF0F8"
             },
             "line": {
              "color": "white"
             }
            },
            "header": {
             "fill": {
              "color": "#C8D4E3"
             },
             "line": {
              "color": "white"
             }
            },
            "type": "table"
           }
          ]
         },
         "layout": {
          "annotationdefaults": {
           "arrowcolor": "#2a3f5f",
           "arrowhead": 0,
           "arrowwidth": 1
          },
          "autotypenumbers": "strict",
          "coloraxis": {
           "colorbar": {
            "outlinewidth": 0,
            "ticks": ""
           }
          },
          "colorscale": {
           "diverging": [
            [
             0,
             "#8e0152"
            ],
            [
             0.1,
             "#c51b7d"
            ],
            [
             0.2,
             "#de77ae"
            ],
            [
             0.3,
             "#f1b6da"
            ],
            [
             0.4,
             "#fde0ef"
            ],
            [
             0.5,
             "#f7f7f7"
            ],
            [
             0.6,
             "#e6f5d0"
            ],
            [
             0.7,
             "#b8e186"
            ],
            [
             0.8,
             "#7fbc41"
            ],
            [
             0.9,
             "#4d9221"
            ],
            [
             1,
             "#276419"
            ]
           ],
           "sequential": [
            [
             0,
             "#0d0887"
            ],
            [
             0.1111111111111111,
             "#46039f"
            ],
            [
             0.2222222222222222,
             "#7201a8"
            ],
            [
             0.3333333333333333,
             "#9c179e"
            ],
            [
             0.4444444444444444,
             "#bd3786"
            ],
            [
             0.5555555555555556,
             "#d8576b"
            ],
            [
             0.6666666666666666,
             "#ed7953"
            ],
            [
             0.7777777777777778,
             "#fb9f3a"
            ],
            [
             0.8888888888888888,
             "#fdca26"
            ],
            [
             1,
             "#f0f921"
            ]
           ],
           "sequentialminus": [
            [
             0,
             "#0d0887"
            ],
            [
             0.1111111111111111,
             "#46039f"
            ],
            [
             0.2222222222222222,
             "#7201a8"
            ],
            [
             0.3333333333333333,
             "#9c179e"
            ],
            [
             0.4444444444444444,
             "#bd3786"
            ],
            [
             0.5555555555555556,
             "#d8576b"
            ],
            [
             0.6666666666666666,
             "#ed7953"
            ],
            [
             0.7777777777777778,
             "#fb9f3a"
            ],
            [
             0.8888888888888888,
             "#fdca26"
            ],
            [
             1,
             "#f0f921"
            ]
           ]
          },
          "colorway": [
           "#636efa",
           "#EF553B",
           "#00cc96",
           "#ab63fa",
           "#FFA15A",
           "#19d3f3",
           "#FF6692",
           "#B6E880",
           "#FF97FF",
           "#FECB52"
          ],
          "font": {
           "color": "#2a3f5f"
          },
          "geo": {
           "bgcolor": "white",
           "lakecolor": "white",
           "landcolor": "#E5ECF6",
           "showlakes": true,
           "showland": true,
           "subunitcolor": "white"
          },
          "hoverlabel": {
           "align": "left"
          },
          "hovermode": "closest",
          "mapbox": {
           "style": "light"
          },
          "paper_bgcolor": "white",
          "plot_bgcolor": "#E5ECF6",
          "polar": {
           "angularaxis": {
            "gridcolor": "white",
            "linecolor": "white",
            "ticks": ""
           },
           "bgcolor": "#E5ECF6",
           "radialaxis": {
            "gridcolor": "white",
            "linecolor": "white",
            "ticks": ""
           }
          },
          "scene": {
           "xaxis": {
            "backgroundcolor": "#E5ECF6",
            "gridcolor": "white",
            "gridwidth": 2,
            "linecolor": "white",
            "showbackground": true,
            "ticks": "",
            "zerolinecolor": "white"
           },
           "yaxis": {
            "backgroundcolor": "#E5ECF6",
            "gridcolor": "white",
            "gridwidth": 2,
            "linecolor": "white",
            "showbackground": true,
            "ticks": "",
            "zerolinecolor": "white"
           },
           "zaxis": {
            "backgroundcolor": "#E5ECF6",
            "gridcolor": "white",
            "gridwidth": 2,
            "linecolor": "white",
            "showbackground": true,
            "ticks": "",
            "zerolinecolor": "white"
           }
          },
          "shapedefaults": {
           "line": {
            "color": "#2a3f5f"
           }
          },
          "ternary": {
           "aaxis": {
            "gridcolor": "white",
            "linecolor": "white",
            "ticks": ""
           },
           "baxis": {
            "gridcolor": "white",
            "linecolor": "white",
            "ticks": ""
           },
           "bgcolor": "#E5ECF6",
           "caxis": {
            "gridcolor": "white",
            "linecolor": "white",
            "ticks": ""
           }
          },
          "title": {
           "x": 0.05
          },
          "xaxis": {
           "automargin": true,
           "gridcolor": "white",
           "linecolor": "white",
           "ticks": "",
           "title": {
            "standoff": 15
           },
           "zerolinecolor": "white",
           "zerolinewidth": 2
          },
          "yaxis": {
           "automargin": true,
           "gridcolor": "white",
           "linecolor": "white",
           "ticks": "",
           "title": {
            "standoff": 15
           },
           "zerolinecolor": "white",
           "zerolinewidth": 2
          }
         }
        },
        "title": {
         "text": "Expected Success Probability with 95.0% Confidence Level",
         "x": 0.5
        },
        "width": 1200,
        "xaxis": {
         "anchor": "y",
         "domain": [
          0,
          1
         ],
         "title": {
          "text": "Component"
         }
        },
        "yaxis": {
         "anchor": "x",
         "domain": [
          0,
          1
         ],
         "dtick": 0.1,
         "range": [
          0,
          1.01
         ],
         "title": {
          "text": "Expected Success Probability"
         }
        }
       }
      }
     },
     "metadata": {},
     "output_type": "display_data"
    }
   ],
   "source": [
    "#use the total result as prior information to re-estimate p by categories. Got smaller CIs.\n",
    "df=[]\n",
    "threshold=[[0.2]*8, [0.5]*8, [0.8]*8, [0.9]*8]\n",
    "alphalevel=0.05\n",
    "alpha=[35838/625]*8\n",
    "beta=[13937/635]*8\n",
    "\n",
    "for i in range(len(df2)):\n",
    "    df.append( (df2['Name'][i], df2['Cosim_Values'][i]) )\n",
    "df=dict(df)\n",
    "\n",
    "result = Bayes(df, threshold, alpha, beta, alphalevel, direction=\"greater\")\n",
    "display(result.res)\n",
    "result.Plot_Bayes(yrange=[0,1.01,0.1], height=600)"
   ]
  },
  {
   "cell_type": "code",
   "execution_count": 7,
   "metadata": {},
   "outputs": [
    {
     "data": {
      "text/html": [
       "<div>\n",
       "<style scoped>\n",
       "    .dataframe tbody tr th:only-of-type {\n",
       "        vertical-align: middle;\n",
       "    }\n",
       "\n",
       "    .dataframe tbody tr th {\n",
       "        vertical-align: top;\n",
       "    }\n",
       "\n",
       "    .dataframe thead th {\n",
       "        text-align: right;\n",
       "    }\n",
       "</style>\n",
       "<table border=\"1\" class=\"dataframe\">\n",
       "  <thead>\n",
       "    <tr style=\"text-align: right;\">\n",
       "      <th></th>\n",
       "      <th>Component</th>\n",
       "      <th>alpha</th>\n",
       "      <th>beta</th>\n",
       "      <th>Expected Success Probability</th>\n",
       "      <th>Variance of Success Probability</th>\n",
       "      <th>95.0%-level Credible Interval</th>\n",
       "      <th>Threshold</th>\n",
       "    </tr>\n",
       "  </thead>\n",
       "  <tbody>\n",
       "    <tr>\n",
       "      <th>0</th>\n",
       "      <td>title_levenshtein</td>\n",
       "      <td>1096</td>\n",
       "      <td>20</td>\n",
       "      <td>0.9821</td>\n",
       "      <td>0.000016</td>\n",
       "      <td>[0.9735, 0.989]</td>\n",
       "      <td>[1, 200, 10]</td>\n",
       "    </tr>\n",
       "    <tr>\n",
       "      <th>1</th>\n",
       "      <td>abstract_levenshtein</td>\n",
       "      <td>1073</td>\n",
       "      <td>43</td>\n",
       "      <td>0.9615</td>\n",
       "      <td>0.000033</td>\n",
       "      <td>[0.9494, 0.972]</td>\n",
       "      <td>[1, 200, 10]</td>\n",
       "    </tr>\n",
       "    <tr>\n",
       "      <th>2</th>\n",
       "      <td>authors_levenshtein</td>\n",
       "      <td>6</td>\n",
       "      <td>1110</td>\n",
       "      <td>0.0054</td>\n",
       "      <td>0.000005</td>\n",
       "      <td>[0.002, 0.0104]</td>\n",
       "      <td>[1, 200, 10]</td>\n",
       "    </tr>\n",
       "    <tr>\n",
       "      <th>0</th>\n",
       "      <td>title_levenshtein</td>\n",
       "      <td>1100</td>\n",
       "      <td>16</td>\n",
       "      <td>0.9857</td>\n",
       "      <td>0.000013</td>\n",
       "      <td>[0.9779, 0.9918]</td>\n",
       "      <td>[5, 300, 20]</td>\n",
       "    </tr>\n",
       "    <tr>\n",
       "      <th>1</th>\n",
       "      <td>abstract_levenshtein</td>\n",
       "      <td>1081</td>\n",
       "      <td>35</td>\n",
       "      <td>0.9686</td>\n",
       "      <td>0.000027</td>\n",
       "      <td>[0.9576, 0.978]</td>\n",
       "      <td>[5, 300, 20]</td>\n",
       "    </tr>\n",
       "    <tr>\n",
       "      <th>2</th>\n",
       "      <td>authors_levenshtein</td>\n",
       "      <td>350</td>\n",
       "      <td>766</td>\n",
       "      <td>0.3136</td>\n",
       "      <td>0.000193</td>\n",
       "      <td>[0.2867, 0.3411]</td>\n",
       "      <td>[5, 300, 20]</td>\n",
       "    </tr>\n",
       "    <tr>\n",
       "      <th>0</th>\n",
       "      <td>title_levenshtein</td>\n",
       "      <td>1104</td>\n",
       "      <td>12</td>\n",
       "      <td>0.9892</td>\n",
       "      <td>0.000010</td>\n",
       "      <td>[0.9824, 0.9944]</td>\n",
       "      <td>[10, 400, 30]</td>\n",
       "    </tr>\n",
       "    <tr>\n",
       "      <th>1</th>\n",
       "      <td>abstract_levenshtein</td>\n",
       "      <td>1091</td>\n",
       "      <td>25</td>\n",
       "      <td>0.9776</td>\n",
       "      <td>0.000020</td>\n",
       "      <td>[0.9681, 0.9854]</td>\n",
       "      <td>[10, 400, 30]</td>\n",
       "    </tr>\n",
       "    <tr>\n",
       "      <th>2</th>\n",
       "      <td>authors_levenshtein</td>\n",
       "      <td>1010</td>\n",
       "      <td>106</td>\n",
       "      <td>0.9050</td>\n",
       "      <td>0.000077</td>\n",
       "      <td>[0.8872, 0.9215]</td>\n",
       "      <td>[10, 400, 30]</td>\n",
       "    </tr>\n",
       "  </tbody>\n",
       "</table>\n",
       "</div>"
      ],
      "text/plain": [
       "              Component  alpha  beta  Expected Success Probability  \\\n",
       "0     title_levenshtein   1096    20                        0.9821   \n",
       "1  abstract_levenshtein   1073    43                        0.9615   \n",
       "2   authors_levenshtein      6  1110                        0.0054   \n",
       "0     title_levenshtein   1100    16                        0.9857   \n",
       "1  abstract_levenshtein   1081    35                        0.9686   \n",
       "2   authors_levenshtein    350   766                        0.3136   \n",
       "0     title_levenshtein   1104    12                        0.9892   \n",
       "1  abstract_levenshtein   1091    25                        0.9776   \n",
       "2   authors_levenshtein   1010   106                        0.9050   \n",
       "\n",
       "   Variance of Success Probability 95.0%-level Credible Interval  \\\n",
       "0                         0.000016               [0.9735, 0.989]   \n",
       "1                         0.000033               [0.9494, 0.972]   \n",
       "2                         0.000005               [0.002, 0.0104]   \n",
       "0                         0.000013              [0.9779, 0.9918]   \n",
       "1                         0.000027               [0.9576, 0.978]   \n",
       "2                         0.000193              [0.2867, 0.3411]   \n",
       "0                         0.000010              [0.9824, 0.9944]   \n",
       "1                         0.000020              [0.9681, 0.9854]   \n",
       "2                         0.000077              [0.8872, 0.9215]   \n",
       "\n",
       "       Threshold  \n",
       "0   [1, 200, 10]  \n",
       "1   [1, 200, 10]  \n",
       "2   [1, 200, 10]  \n",
       "0   [5, 300, 20]  \n",
       "1   [5, 300, 20]  \n",
       "2   [5, 300, 20]  \n",
       "0  [10, 400, 30]  \n",
       "1  [10, 400, 30]  \n",
       "2  [10, 400, 30]  "
      ]
     },
     "metadata": {},
     "output_type": "display_data"
    },
    {
     "data": {
      "application/vnd.plotly.v1+json": {
       "config": {
        "plotlyServerURL": "https://plot.ly"
       },
       "data": [
        {
         "alignmentgroup": "True",
         "error_y": {
          "array": [
           0.006900000000000017,
           0.010499999999999954,
           0.004999999999999999,
           0.006099999999999994,
           0.009399999999999964,
           0.027500000000000024,
           0.005199999999999982,
           0.007800000000000029,
           0.01649999999999996
          ],
          "arrayminus": [
           0.008599999999999941,
           0.0121,
           0.0034000000000000002,
           0.007800000000000029,
           0.01100000000000001,
           0.02689999999999998,
           0.006799999999999917,
           0.009500000000000064,
           0.017800000000000038
          ],
          "symmetric": false,
          "type": "data"
         },
         "hovertemplate": "Threshold=[1, 200, 10]<br>Component=%{x}<br>Expected Success Probability=%{y}<br>text=%{text}<extra></extra>",
         "legendgroup": "[1, 200, 10]",
         "marker": {
          "color": "#636efa",
          "pattern": {
           "shape": ""
          }
         },
         "name": "[1, 200, 10]",
         "offsetgroup": "[1, 200, 10]",
         "orientation": "v",
         "showlegend": true,
         "text": [
          "98.21%",
          "96.15%",
          "0.54%"
         ],
         "textfont": {
          "size": 12
         },
         "textposition": "outside",
         "type": "bar",
         "x": [
          "title_levenshtein",
          "abstract_levenshtein",
          "authors_levenshtein"
         ],
         "xaxis": "x",
         "y": [
          0.9821,
          0.9615,
          0.0054
         ],
         "yaxis": "y"
        },
        {
         "alignmentgroup": "True",
         "error_y": {
          "array": [
           0.006900000000000017,
           0.010499999999999954,
           0.004999999999999999,
           0.006099999999999994,
           0.009399999999999964,
           0.027500000000000024,
           0.005199999999999982,
           0.007800000000000029,
           0.01649999999999996
          ],
          "arrayminus": [
           0.008599999999999941,
           0.0121,
           0.0034000000000000002,
           0.007800000000000029,
           0.01100000000000001,
           0.02689999999999998,
           0.006799999999999917,
           0.009500000000000064,
           0.017800000000000038
          ],
          "symmetric": false,
          "type": "data"
         },
         "hovertemplate": "Threshold=[5, 300, 20]<br>Component=%{x}<br>Expected Success Probability=%{y}<br>text=%{text}<extra></extra>",
         "legendgroup": "[5, 300, 20]",
         "marker": {
          "color": "#EF553B",
          "pattern": {
           "shape": ""
          }
         },
         "name": "[5, 300, 20]",
         "offsetgroup": "[5, 300, 20]",
         "orientation": "v",
         "showlegend": true,
         "text": [
          "98.57%",
          "96.86%",
          "31.36%"
         ],
         "textfont": {
          "size": 12
         },
         "textposition": "outside",
         "type": "bar",
         "x": [
          "title_levenshtein",
          "abstract_levenshtein",
          "authors_levenshtein"
         ],
         "xaxis": "x",
         "y": [
          0.9857,
          0.9686,
          0.3136
         ],
         "yaxis": "y"
        },
        {
         "alignmentgroup": "True",
         "error_y": {
          "array": [
           0.006900000000000017,
           0.010499999999999954,
           0.004999999999999999,
           0.006099999999999994,
           0.009399999999999964,
           0.027500000000000024,
           0.005199999999999982,
           0.007800000000000029,
           0.01649999999999996
          ],
          "arrayminus": [
           0.008599999999999941,
           0.0121,
           0.0034000000000000002,
           0.007800000000000029,
           0.01100000000000001,
           0.02689999999999998,
           0.006799999999999917,
           0.009500000000000064,
           0.017800000000000038
          ],
          "symmetric": false,
          "type": "data"
         },
         "hovertemplate": "Threshold=[10, 400, 30]<br>Component=%{x}<br>Expected Success Probability=%{y}<br>text=%{text}<extra></extra>",
         "legendgroup": "[10, 400, 30]",
         "marker": {
          "color": "#00cc96",
          "pattern": {
           "shape": ""
          }
         },
         "name": "[10, 400, 30]",
         "offsetgroup": "[10, 400, 30]",
         "orientation": "v",
         "showlegend": true,
         "text": [
          "98.92%",
          "97.76%",
          "90.50%"
         ],
         "textfont": {
          "size": 12
         },
         "textposition": "outside",
         "type": "bar",
         "x": [
          "title_levenshtein",
          "abstract_levenshtein",
          "authors_levenshtein"
         ],
         "xaxis": "x",
         "y": [
          0.9892,
          0.9776,
          0.905
         ],
         "yaxis": "y"
        }
       ],
       "layout": {
        "barmode": "group",
        "height": 600,
        "legend": {
         "title": {
          "text": "Threshold"
         },
         "tracegroupgap": 0
        },
        "margin": {
         "t": 60
        },
        "template": {
         "data": {
          "bar": [
           {
            "error_x": {
             "color": "#2a3f5f"
            },
            "error_y": {
             "color": "#2a3f5f"
            },
            "marker": {
             "line": {
              "color": "#E5ECF6",
              "width": 0.5
             },
             "pattern": {
              "fillmode": "overlay",
              "size": 10,
              "solidity": 0.2
             }
            },
            "type": "bar"
           }
          ],
          "barpolar": [
           {
            "marker": {
             "line": {
              "color": "#E5ECF6",
              "width": 0.5
             },
             "pattern": {
              "fillmode": "overlay",
              "size": 10,
              "solidity": 0.2
             }
            },
            "type": "barpolar"
           }
          ],
          "carpet": [
           {
            "aaxis": {
             "endlinecolor": "#2a3f5f",
             "gridcolor": "white",
             "linecolor": "white",
             "minorgridcolor": "white",
             "startlinecolor": "#2a3f5f"
            },
            "baxis": {
             "endlinecolor": "#2a3f5f",
             "gridcolor": "white",
             "linecolor": "white",
             "minorgridcolor": "white",
             "startlinecolor": "#2a3f5f"
            },
            "type": "carpet"
           }
          ],
          "choropleth": [
           {
            "colorbar": {
             "outlinewidth": 0,
             "ticks": ""
            },
            "type": "choropleth"
           }
          ],
          "contour": [
           {
            "colorbar": {
             "outlinewidth": 0,
             "ticks": ""
            },
            "colorscale": [
             [
              0,
              "#0d0887"
             ],
             [
              0.1111111111111111,
              "#46039f"
             ],
             [
              0.2222222222222222,
              "#7201a8"
             ],
             [
              0.3333333333333333,
              "#9c179e"
             ],
             [
              0.4444444444444444,
              "#bd3786"
             ],
             [
              0.5555555555555556,
              "#d8576b"
             ],
             [
              0.6666666666666666,
              "#ed7953"
             ],
             [
              0.7777777777777778,
              "#fb9f3a"
             ],
             [
              0.8888888888888888,
              "#fdca26"
             ],
             [
              1,
              "#f0f921"
             ]
            ],
            "type": "contour"
           }
          ],
          "contourcarpet": [
           {
            "colorbar": {
             "outlinewidth": 0,
             "ticks": ""
            },
            "type": "contourcarpet"
           }
          ],
          "heatmap": [
           {
            "colorbar": {
             "outlinewidth": 0,
             "ticks": ""
            },
            "colorscale": [
             [
              0,
              "#0d0887"
             ],
             [
              0.1111111111111111,
              "#46039f"
             ],
             [
              0.2222222222222222,
              "#7201a8"
             ],
             [
              0.3333333333333333,
              "#9c179e"
             ],
             [
              0.4444444444444444,
              "#bd3786"
             ],
             [
              0.5555555555555556,
              "#d8576b"
             ],
             [
              0.6666666666666666,
              "#ed7953"
             ],
             [
              0.7777777777777778,
              "#fb9f3a"
             ],
             [
              0.8888888888888888,
              "#fdca26"
             ],
             [
              1,
              "#f0f921"
             ]
            ],
            "type": "heatmap"
           }
          ],
          "heatmapgl": [
           {
            "colorbar": {
             "outlinewidth": 0,
             "ticks": ""
            },
            "colorscale": [
             [
              0,
              "#0d0887"
             ],
             [
              0.1111111111111111,
              "#46039f"
             ],
             [
              0.2222222222222222,
              "#7201a8"
             ],
             [
              0.3333333333333333,
              "#9c179e"
             ],
             [
              0.4444444444444444,
              "#bd3786"
             ],
             [
              0.5555555555555556,
              "#d8576b"
             ],
             [
              0.6666666666666666,
              "#ed7953"
             ],
             [
              0.7777777777777778,
              "#fb9f3a"
             ],
             [
              0.8888888888888888,
              "#fdca26"
             ],
             [
              1,
              "#f0f921"
             ]
            ],
            "type": "heatmapgl"
           }
          ],
          "histogram": [
           {
            "marker": {
             "pattern": {
              "fillmode": "overlay",
              "size": 10,
              "solidity": 0.2
             }
            },
            "type": "histogram"
           }
          ],
          "histogram2d": [
           {
            "colorbar": {
             "outlinewidth": 0,
             "ticks": ""
            },
            "colorscale": [
             [
              0,
              "#0d0887"
             ],
             [
              0.1111111111111111,
              "#46039f"
             ],
             [
              0.2222222222222222,
              "#7201a8"
             ],
             [
              0.3333333333333333,
              "#9c179e"
             ],
             [
              0.4444444444444444,
              "#bd3786"
             ],
             [
              0.5555555555555556,
              "#d8576b"
             ],
             [
              0.6666666666666666,
              "#ed7953"
             ],
             [
              0.7777777777777778,
              "#fb9f3a"
             ],
             [
              0.8888888888888888,
              "#fdca26"
             ],
             [
              1,
              "#f0f921"
             ]
            ],
            "type": "histogram2d"
           }
          ],
          "histogram2dcontour": [
           {
            "colorbar": {
             "outlinewidth": 0,
             "ticks": ""
            },
            "colorscale": [
             [
              0,
              "#0d0887"
             ],
             [
              0.1111111111111111,
              "#46039f"
             ],
             [
              0.2222222222222222,
              "#7201a8"
             ],
             [
              0.3333333333333333,
              "#9c179e"
             ],
             [
              0.4444444444444444,
              "#bd3786"
             ],
             [
              0.5555555555555556,
              "#d8576b"
             ],
             [
              0.6666666666666666,
              "#ed7953"
             ],
             [
              0.7777777777777778,
              "#fb9f3a"
             ],
             [
              0.8888888888888888,
              "#fdca26"
             ],
             [
              1,
              "#f0f921"
             ]
            ],
            "type": "histogram2dcontour"
           }
          ],
          "mesh3d": [
           {
            "colorbar": {
             "outlinewidth": 0,
             "ticks": ""
            },
            "type": "mesh3d"
           }
          ],
          "parcoords": [
           {
            "line": {
             "colorbar": {
              "outlinewidth": 0,
              "ticks": ""
             }
            },
            "type": "parcoords"
           }
          ],
          "pie": [
           {
            "automargin": true,
            "type": "pie"
           }
          ],
          "scatter": [
           {
            "fillpattern": {
             "fillmode": "overlay",
             "size": 10,
             "solidity": 0.2
            },
            "type": "scatter"
           }
          ],
          "scatter3d": [
           {
            "line": {
             "colorbar": {
              "outlinewidth": 0,
              "ticks": ""
             }
            },
            "marker": {
             "colorbar": {
              "outlinewidth": 0,
              "ticks": ""
             }
            },
            "type": "scatter3d"
           }
          ],
          "scattercarpet": [
           {
            "marker": {
             "colorbar": {
              "outlinewidth": 0,
              "ticks": ""
             }
            },
            "type": "scattercarpet"
           }
          ],
          "scattergeo": [
           {
            "marker": {
             "colorbar": {
              "outlinewidth": 0,
              "ticks": ""
             }
            },
            "type": "scattergeo"
           }
          ],
          "scattergl": [
           {
            "marker": {
             "colorbar": {
              "outlinewidth": 0,
              "ticks": ""
             }
            },
            "type": "scattergl"
           }
          ],
          "scattermapbox": [
           {
            "marker": {
             "colorbar": {
              "outlinewidth": 0,
              "ticks": ""
             }
            },
            "type": "scattermapbox"
           }
          ],
          "scatterpolar": [
           {
            "marker": {
             "colorbar": {
              "outlinewidth": 0,
              "ticks": ""
             }
            },
            "type": "scatterpolar"
           }
          ],
          "scatterpolargl": [
           {
            "marker": {
             "colorbar": {
              "outlinewidth": 0,
              "ticks": ""
             }
            },
            "type": "scatterpolargl"
           }
          ],
          "scatterternary": [
           {
            "marker": {
             "colorbar": {
              "outlinewidth": 0,
              "ticks": ""
             }
            },
            "type": "scatterternary"
           }
          ],
          "surface": [
           {
            "colorbar": {
             "outlinewidth": 0,
             "ticks": ""
            },
            "colorscale": [
             [
              0,
              "#0d0887"
             ],
             [
              0.1111111111111111,
              "#46039f"
             ],
             [
              0.2222222222222222,
              "#7201a8"
             ],
             [
              0.3333333333333333,
              "#9c179e"
             ],
             [
              0.4444444444444444,
              "#bd3786"
             ],
             [
              0.5555555555555556,
              "#d8576b"
             ],
             [
              0.6666666666666666,
              "#ed7953"
             ],
             [
              0.7777777777777778,
              "#fb9f3a"
             ],
             [
              0.8888888888888888,
              "#fdca26"
             ],
             [
              1,
              "#f0f921"
             ]
            ],
            "type": "surface"
           }
          ],
          "table": [
           {
            "cells": {
             "fill": {
              "color": "#EBF0F8"
             },
             "line": {
              "color": "white"
             }
            },
            "header": {
             "fill": {
              "color": "#C8D4E3"
             },
             "line": {
              "color": "white"
             }
            },
            "type": "table"
           }
          ]
         },
         "layout": {
          "annotationdefaults": {
           "arrowcolor": "#2a3f5f",
           "arrowhead": 0,
           "arrowwidth": 1
          },
          "autotypenumbers": "strict",
          "coloraxis": {
           "colorbar": {
            "outlinewidth": 0,
            "ticks": ""
           }
          },
          "colorscale": {
           "diverging": [
            [
             0,
             "#8e0152"
            ],
            [
             0.1,
             "#c51b7d"
            ],
            [
             0.2,
             "#de77ae"
            ],
            [
             0.3,
             "#f1b6da"
            ],
            [
             0.4,
             "#fde0ef"
            ],
            [
             0.5,
             "#f7f7f7"
            ],
            [
             0.6,
             "#e6f5d0"
            ],
            [
             0.7,
             "#b8e186"
            ],
            [
             0.8,
             "#7fbc41"
            ],
            [
             0.9,
             "#4d9221"
            ],
            [
             1,
             "#276419"
            ]
           ],
           "sequential": [
            [
             0,
             "#0d0887"
            ],
            [
             0.1111111111111111,
             "#46039f"
            ],
            [
             0.2222222222222222,
             "#7201a8"
            ],
            [
             0.3333333333333333,
             "#9c179e"
            ],
            [
             0.4444444444444444,
             "#bd3786"
            ],
            [
             0.5555555555555556,
             "#d8576b"
            ],
            [
             0.6666666666666666,
             "#ed7953"
            ],
            [
             0.7777777777777778,
             "#fb9f3a"
            ],
            [
             0.8888888888888888,
             "#fdca26"
            ],
            [
             1,
             "#f0f921"
            ]
           ],
           "sequentialminus": [
            [
             0,
             "#0d0887"
            ],
            [
             0.1111111111111111,
             "#46039f"
            ],
            [
             0.2222222222222222,
             "#7201a8"
            ],
            [
             0.3333333333333333,
             "#9c179e"
            ],
            [
             0.4444444444444444,
             "#bd3786"
            ],
            [
             0.5555555555555556,
             "#d8576b"
            ],
            [
             0.6666666666666666,
             "#ed7953"
            ],
            [
             0.7777777777777778,
             "#fb9f3a"
            ],
            [
             0.8888888888888888,
             "#fdca26"
            ],
            [
             1,
             "#f0f921"
            ]
           ]
          },
          "colorway": [
           "#636efa",
           "#EF553B",
           "#00cc96",
           "#ab63fa",
           "#FFA15A",
           "#19d3f3",
           "#FF6692",
           "#B6E880",
           "#FF97FF",
           "#FECB52"
          ],
          "font": {
           "color": "#2a3f5f"
          },
          "geo": {
           "bgcolor": "white",
           "lakecolor": "white",
           "landcolor": "#E5ECF6",
           "showlakes": true,
           "showland": true,
           "subunitcolor": "white"
          },
          "hoverlabel": {
           "align": "left"
          },
          "hovermode": "closest",
          "mapbox": {
           "style": "light"
          },
          "paper_bgcolor": "white",
          "plot_bgcolor": "#E5ECF6",
          "polar": {
           "angularaxis": {
            "gridcolor": "white",
            "linecolor": "white",
            "ticks": ""
           },
           "bgcolor": "#E5ECF6",
           "radialaxis": {
            "gridcolor": "white",
            "linecolor": "white",
            "ticks": ""
           }
          },
          "scene": {
           "xaxis": {
            "backgroundcolor": "#E5ECF6",
            "gridcolor": "white",
            "gridwidth": 2,
            "linecolor": "white",
            "showbackground": true,
            "ticks": "",
            "zerolinecolor": "white"
           },
           "yaxis": {
            "backgroundcolor": "#E5ECF6",
            "gridcolor": "white",
            "gridwidth": 2,
            "linecolor": "white",
            "showbackground": true,
            "ticks": "",
            "zerolinecolor": "white"
           },
           "zaxis": {
            "backgroundcolor": "#E5ECF6",
            "gridcolor": "white",
            "gridwidth": 2,
            "linecolor": "white",
            "showbackground": true,
            "ticks": "",
            "zerolinecolor": "white"
           }
          },
          "shapedefaults": {
           "line": {
            "color": "#2a3f5f"
           }
          },
          "ternary": {
           "aaxis": {
            "gridcolor": "white",
            "linecolor": "white",
            "ticks": ""
           },
           "baxis": {
            "gridcolor": "white",
            "linecolor": "white",
            "ticks": ""
           },
           "bgcolor": "#E5ECF6",
           "caxis": {
            "gridcolor": "white",
            "linecolor": "white",
            "ticks": ""
           }
          },
          "title": {
           "x": 0.05
          },
          "xaxis": {
           "automargin": true,
           "gridcolor": "white",
           "linecolor": "white",
           "ticks": "",
           "title": {
            "standoff": 15
           },
           "zerolinecolor": "white",
           "zerolinewidth": 2
          },
          "yaxis": {
           "automargin": true,
           "gridcolor": "white",
           "linecolor": "white",
           "ticks": "",
           "title": {
            "standoff": 15
           },
           "zerolinecolor": "white",
           "zerolinewidth": 2
          }
         }
        },
        "title": {
         "text": "Expected Success Probability with 95.0% Confidence Level",
         "x": 0.5
        },
        "width": 1200,
        "xaxis": {
         "anchor": "y",
         "domain": [
          0,
          1
         ],
         "title": {
          "text": "Component"
         }
        },
        "yaxis": {
         "anchor": "x",
         "domain": [
          0,
          1
         ],
         "dtick": 0.2,
         "range": [
          0,
          1.1
         ],
         "title": {
          "text": "Expected Success Probability"
         }
        }
       }
      }
     },
     "metadata": {},
     "output_type": "display_data"
    }
   ],
   "source": [
    "df=df1_gpt4[['title_levenshtein', 'abstract_levenshtein', 'authors_levenshtein']]\n",
    "df=df.to_dict('list')\n",
    "threshold=[[1, 200, 10], [5, 300, 20], [10, 400, 30]]\n",
    "alphalevel=0.05\n",
    "alpha=[1]*3\n",
    "beta=[1]*3\n",
    "result = Bayes(df, threshold, alpha, beta, alphalevel)\n",
    "display(result.res)\n",
    "result.Plot_Bayes(yrange=[0,1.1, 0.2], height=600)"
   ]
  },
  {
   "attachments": {},
   "cell_type": "markdown",
   "metadata": {},
   "source": [
    "### Section 4: Monte Carlo Estimation of Type I Error "
   ]
  },
  {
   "cell_type": "code",
   "execution_count": 49,
   "metadata": {},
   "outputs": [
    {
     "name": "stdout",
     "output_type": "stream",
     "text": [
      "Probability: 94.9431%\n"
     ]
    }
   ],
   "source": [
    "#Calculate the probability that p1 <= p2 using Monte Carlo method\n",
    "n=1000000\n",
    "p1=stats.beta.rvs(7042, 184, size=n).tolist()\n",
    "p2=stats.beta.rvs(1096, 20, size=n).tolist()\n",
    "\n",
    "res=dict(X=p1, Y=p2, Int=[])\n",
    "res['Int'] = [1 if i<=j else 0 for i,j in zip(p1, p2)]\n",
    "print(\"Probability: \" + str(np.average(res['Int'])*100)+'%')"
   ]
  }
 ],
 "metadata": {
  "kernelspec": {
   "display_name": ".venv",
   "language": "python",
   "name": "python3"
  },
  "language_info": {
   "codemirror_mode": {
    "name": "ipython",
    "version": 3
   },
   "file_extension": ".py",
   "mimetype": "text/x-python",
   "name": "python",
   "nbconvert_exporter": "python",
   "pygments_lexer": "ipython3",
   "version": "3.10.4"
  },
  "orig_nbformat": 4
 },
 "nbformat": 4,
 "nbformat_minor": 2
}
